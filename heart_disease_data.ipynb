{
 "cells": [
  {
   "cell_type": "markdown",
   "metadata": {
    "pycharm": {
     "name": "#%% md\n"
    }
   },
   "source": [
    "# Описание проекта"
   ]
  },
  {
   "cell_type": "markdown",
   "metadata": {
    "pycharm": {
     "name": "#%% md\n"
    }
   },
   "source": [
    "Одна из основных задач в этом наборе данных - предсказать на основе заданных характеристик пациента, есть ли у этого конкретного человека заболевание сердца или нет, а другая - экспериментальная задача по диагностике и получению различных сведений из этого набора данных, которые могли бы помочь в большем понимании проблемы."
   ]
  },
  {
   "cell_type": "markdown",
   "metadata": {
    "pycharm": {
     "name": "#%% md\n"
    }
   },
   "source": [
    "### Предобработка и исследовательский анализ данных"
   ]
  },
  {
   "cell_type": "code",
   "execution_count": 835,
   "metadata": {
    "pycharm": {
     "name": "#%%\n"
    }
   },
   "outputs": [],
   "source": [
    "# импорт библиотек\n",
    "import pandas as pd\n",
    "import seaborn as sns\n",
    "import matplotlib.pyplot as plt\n",
    "import numpy as np\n",
    "import random\n",
    "\n",
    "import plotly.express as px\n",
    "import plotly.figure_factory as ff\n",
    "import plotly.graph_objects as go\n",
    "\n",
    "from pandas_profiling import ProfileReport\n",
    "\n",
    "# пайплайны\n",
    "from sklearn.impute import SimpleImputer\n",
    "from sklearn.pipeline import Pipeline\n",
    "from sklearn.compose import ColumnTransformer\n",
    "\n",
    "# импорт моделей\n",
    "from sklearn.tree import DecisionTreeClassifier\n",
    "from sklearn.ensemble import RandomForestClassifier\n",
    "from sklearn.linear_model import LogisticRegression\n",
    "from sklearn.naive_bayes import GaussianNB\n",
    "\n",
    "\n",
    "# импорт утилит\n",
    "from sklearn.preprocessing import StandardScaler, MinMaxScaler, OneHotEncoder, OrdinalEncoder \n",
    "from sklearn.model_selection import train_test_split, GridSearchCV, StratifiedKFold\n",
    "\n",
    "# импорт метрик\n",
    "from sklearn.metrics import precision_score, recall_score, f1_score, roc_curve, roc_auc_score, classification_report,confusion_matrix\n"
   ]
  },
  {
   "cell_type": "code",
   "execution_count": 836,
   "metadata": {
    "pycharm": {
     "name": "#%%\n"
    }
   },
   "outputs": [
    {
     "data": {
      "text/html": [
       "<div>\n",
       "<style scoped>\n",
       "    .dataframe tbody tr th:only-of-type {\n",
       "        vertical-align: middle;\n",
       "    }\n",
       "\n",
       "    .dataframe tbody tr th {\n",
       "        vertical-align: top;\n",
       "    }\n",
       "\n",
       "    .dataframe thead th {\n",
       "        text-align: right;\n",
       "    }\n",
       "</style>\n",
       "<table border=\"1\" class=\"dataframe\">\n",
       "  <thead>\n",
       "    <tr style=\"text-align: right;\">\n",
       "      <th></th>\n",
       "      <th>id</th>\n",
       "      <th>age</th>\n",
       "      <th>sex</th>\n",
       "      <th>dataset</th>\n",
       "      <th>cp</th>\n",
       "      <th>trestbps</th>\n",
       "      <th>chol</th>\n",
       "      <th>fbs</th>\n",
       "      <th>restecg</th>\n",
       "      <th>thalch</th>\n",
       "      <th>exang</th>\n",
       "      <th>oldpeak</th>\n",
       "      <th>slope</th>\n",
       "      <th>ca</th>\n",
       "      <th>thal</th>\n",
       "      <th>num</th>\n",
       "    </tr>\n",
       "  </thead>\n",
       "  <tbody>\n",
       "    <tr>\n",
       "      <th>0</th>\n",
       "      <td>1</td>\n",
       "      <td>63</td>\n",
       "      <td>Male</td>\n",
       "      <td>Cleveland</td>\n",
       "      <td>typical angina</td>\n",
       "      <td>145.0</td>\n",
       "      <td>233.0</td>\n",
       "      <td>True</td>\n",
       "      <td>lv hypertrophy</td>\n",
       "      <td>150.0</td>\n",
       "      <td>False</td>\n",
       "      <td>2.3</td>\n",
       "      <td>downsloping</td>\n",
       "      <td>0.0</td>\n",
       "      <td>fixed defect</td>\n",
       "      <td>0</td>\n",
       "    </tr>\n",
       "    <tr>\n",
       "      <th>1</th>\n",
       "      <td>2</td>\n",
       "      <td>67</td>\n",
       "      <td>Male</td>\n",
       "      <td>Cleveland</td>\n",
       "      <td>asymptomatic</td>\n",
       "      <td>160.0</td>\n",
       "      <td>286.0</td>\n",
       "      <td>False</td>\n",
       "      <td>lv hypertrophy</td>\n",
       "      <td>108.0</td>\n",
       "      <td>True</td>\n",
       "      <td>1.5</td>\n",
       "      <td>flat</td>\n",
       "      <td>3.0</td>\n",
       "      <td>normal</td>\n",
       "      <td>2</td>\n",
       "    </tr>\n",
       "    <tr>\n",
       "      <th>2</th>\n",
       "      <td>3</td>\n",
       "      <td>67</td>\n",
       "      <td>Male</td>\n",
       "      <td>Cleveland</td>\n",
       "      <td>asymptomatic</td>\n",
       "      <td>120.0</td>\n",
       "      <td>229.0</td>\n",
       "      <td>False</td>\n",
       "      <td>lv hypertrophy</td>\n",
       "      <td>129.0</td>\n",
       "      <td>True</td>\n",
       "      <td>2.6</td>\n",
       "      <td>flat</td>\n",
       "      <td>2.0</td>\n",
       "      <td>reversable defect</td>\n",
       "      <td>1</td>\n",
       "    </tr>\n",
       "    <tr>\n",
       "      <th>3</th>\n",
       "      <td>4</td>\n",
       "      <td>37</td>\n",
       "      <td>Male</td>\n",
       "      <td>Cleveland</td>\n",
       "      <td>non-anginal</td>\n",
       "      <td>130.0</td>\n",
       "      <td>250.0</td>\n",
       "      <td>False</td>\n",
       "      <td>normal</td>\n",
       "      <td>187.0</td>\n",
       "      <td>False</td>\n",
       "      <td>3.5</td>\n",
       "      <td>downsloping</td>\n",
       "      <td>0.0</td>\n",
       "      <td>normal</td>\n",
       "      <td>0</td>\n",
       "    </tr>\n",
       "    <tr>\n",
       "      <th>4</th>\n",
       "      <td>5</td>\n",
       "      <td>41</td>\n",
       "      <td>Female</td>\n",
       "      <td>Cleveland</td>\n",
       "      <td>atypical angina</td>\n",
       "      <td>130.0</td>\n",
       "      <td>204.0</td>\n",
       "      <td>False</td>\n",
       "      <td>lv hypertrophy</td>\n",
       "      <td>172.0</td>\n",
       "      <td>False</td>\n",
       "      <td>1.4</td>\n",
       "      <td>upsloping</td>\n",
       "      <td>0.0</td>\n",
       "      <td>normal</td>\n",
       "      <td>0</td>\n",
       "    </tr>\n",
       "  </tbody>\n",
       "</table>\n",
       "</div>"
      ],
      "text/plain": [
       "   id  age     sex    dataset               cp  trestbps   chol    fbs  \\\n",
       "0   1   63    Male  Cleveland   typical angina     145.0  233.0   True   \n",
       "1   2   67    Male  Cleveland     asymptomatic     160.0  286.0  False   \n",
       "2   3   67    Male  Cleveland     asymptomatic     120.0  229.0  False   \n",
       "3   4   37    Male  Cleveland      non-anginal     130.0  250.0  False   \n",
       "4   5   41  Female  Cleveland  atypical angina     130.0  204.0  False   \n",
       "\n",
       "          restecg  thalch  exang  oldpeak        slope   ca  \\\n",
       "0  lv hypertrophy   150.0  False      2.3  downsloping  0.0   \n",
       "1  lv hypertrophy   108.0   True      1.5         flat  3.0   \n",
       "2  lv hypertrophy   129.0   True      2.6         flat  2.0   \n",
       "3          normal   187.0  False      3.5  downsloping  0.0   \n",
       "4  lv hypertrophy   172.0  False      1.4    upsloping  0.0   \n",
       "\n",
       "                thal  num  \n",
       "0       fixed defect    0  \n",
       "1             normal    2  \n",
       "2  reversable defect    1  \n",
       "3             normal    0  \n",
       "4             normal    0  "
      ]
     },
     "execution_count": 836,
     "metadata": {},
     "output_type": "execute_result"
    }
   ],
   "source": [
    "data = pd.read_csv('heart_disease_uci.csv')\n",
    "data.head()"
   ]
  },
  {
   "cell_type": "markdown",
   "metadata": {
    "pycharm": {
     "name": "#%% md\n"
    }
   },
   "source": [
    "Признаки:\n",
    "* `id` - уникальный индетификатор пациента\n",
    "* `age` - возраст пациента в годах\n",
    "* `origin` - место учебы\n",
    "* `sex` - пол\n",
    "* `cp` - тип боли в груди (typical angina, atypical angina, non-anginal, asymptomatic)\n",
    "* `trestbps` -  кровяное давление в состоянии покоя\n",
    "* `chol` - сывороточный холестерин в мг/дл\n",
    "* `fbs` - если уровень сахара в крови натощак > 120 мг/дл (True, False)\n",
    "* `restecg` - результаты электрокардиографии в состоянии покоя (normal, stt abnormality, lv hypertrophy)\n",
    "* `thalach` -  достигнутая максимальная частота сердечных сокращений\n",
    "* `exang` - стенокардия, вызванная физической нагрузкой (True/ False)\n",
    "* `oldpeak` -  Депрессия ST, вызванная физической нагрузкой по сравнению с отдыхом\n",
    "* `slope` - наклон пикового сегмента ST упражнения\n",
    "* `ca` - количество крупных сосудов (0-3), окрашенных при рентгеноскопии\n",
    "* `thal` - (normal, fixed defect, reversible defect)"
   ]
  },
  {
   "cell_type": "markdown",
   "metadata": {
    "pycharm": {
     "name": "#%% md\n"
    }
   },
   "source": [
    "Целевой признак\n",
    "* `num` -  категориальная переменная (0, 1, 2, 3 ,4), где значения это риски."
   ]
  },
  {
   "cell_type": "code",
   "execution_count": 837,
   "metadata": {
    "pycharm": {
     "name": "#%%\n"
    }
   },
   "outputs": [],
   "source": [
    "# удалим индетификатор\n",
    "data = data.drop(['id'], axis=1)"
   ]
  },
  {
   "cell_type": "code",
   "execution_count": 838,
   "metadata": {
    "pycharm": {
     "name": "#%%\n"
    }
   },
   "outputs": [],
   "source": [
    "profile = ProfileReport(data, title=\"Heart Disease UCI\")\n",
    "profile.to_notebook_iframe()"
   ]
  },
  {
   "cell_type": "markdown",
   "metadata": {
    "pycharm": {
     "name": "#%% md\n"
    }
   },
   "source": [
    "В датасете присутствуют пропуски их 12.7% и отсутствуют дубликаты. Проанализируем признаки, избавимся от аномальных значений (если есть) и заполним пропуски."
   ]
  },
  {
   "cell_type": "markdown",
   "metadata": {
    "pycharm": {
     "name": "#%% md\n"
    }
   },
   "source": [
    "#### Числово признак age (Возраст)\n",
    "\n",
    "* Пропуски отсутствуют, нулевые или аномальные значения так же.\n",
    "* Q1 ~ Медиана ~ Q3  какого либо существенного перекоса нет, т.к квантели примерно равно удалены  от медианы.\n",
    "* Минимум в 1.7 раза меньше чем Q1 \n",
    "* Максимум в 1.3 раза больше чем Q3\n",
    "\n",
    "В данном признаке есть редкие значения, но выбросами их не считаем. <br>\n",
    "Распределение смещено влево."
   ]
  },
  {
   "cell_type": "markdown",
   "metadata": {
    "pycharm": {
     "name": "#%% md\n"
    }
   },
   "source": [
    "#### Категориальный признак - sex (Пол)\n",
    "\n",
    "Отсутствуют пустые значения, значительный перекос в сторону мужчин:\n",
    "* Male - 78.9% или 726 мужчин\n",
    "* Female - 21.1% или 194 женщины"
   ]
  },
  {
   "cell_type": "code",
   "execution_count": 839,
   "metadata": {
    "pycharm": {
     "name": "#%%\n"
    }
   },
   "outputs": [
    {
     "data": {
      "text/plain": [
       "array(['Male', 'Female'], dtype=object)"
      ]
     },
     "execution_count": 839,
     "metadata": {},
     "output_type": "execute_result"
    }
   ],
   "source": [
    "# проверим значение на правильность ввода\n",
    "data['sex'].unique()"
   ]
  },
  {
   "cell_type": "markdown",
   "metadata": {
    "pycharm": {
     "name": "#%% md\n"
    }
   },
   "source": [
    "#### Категориальный признак - dataset (Где происходил сбор информации)\n",
    "\n",
    "* Пропуски отсутствуют"
   ]
  },
  {
   "cell_type": "code",
   "execution_count": 840,
   "metadata": {
    "pycharm": {
     "name": "#%%\n"
    }
   },
   "outputs": [
    {
     "data": {
      "text/plain": [
       "array(['Cleveland', 'Hungary', 'Switzerland', 'VA Long Beach'],\n",
       "      dtype=object)"
      ]
     },
     "execution_count": 840,
     "metadata": {},
     "output_type": "execute_result"
    }
   ],
   "source": [
    "# проверим значение на правильность ввода\n",
    "data['dataset'].unique()"
   ]
  },
  {
   "cell_type": "markdown",
   "metadata": {
    "pycharm": {
     "name": "#%% md\n"
    }
   },
   "source": [
    "#### Категориальный признак - cp (Тип боли в груди)\n",
    "\n",
    "* Пропуски отсутствуют"
   ]
  },
  {
   "cell_type": "code",
   "execution_count": 841,
   "metadata": {
    "pycharm": {
     "name": "#%%\n"
    }
   },
   "outputs": [
    {
     "data": {
      "text/plain": [
       "array(['typical angina', 'asymptomatic', 'non-anginal', 'atypical angina'],\n",
       "      dtype=object)"
      ]
     },
     "execution_count": 841,
     "metadata": {},
     "output_type": "execute_result"
    }
   ],
   "source": [
    "# проверим значение на правильность ввода\n",
    "data['cp'].unique()"
   ]
  },
  {
   "cell_type": "markdown",
   "metadata": {
    "pycharm": {
     "name": "#%% md\n"
    }
   },
   "source": [
    "#### Числовой признак trestbps (Кровяное давление в состоянии покоя)\n",
    "\n",
    "* Присутствуют пропуски и нулевые значения\n",
    "* Q1 ~ Медиана ~ Q3\n",
    "* Медиана меньше среднего, а значит больше людей обращаются с повышенным давлением \n",
    "\n",
    "Для заполнения пропусков сгруппируем данные по возрасту и месту сбора информации."
   ]
  },
  {
   "cell_type": "code",
   "execution_count": 842,
   "metadata": {
    "pycharm": {
     "name": "#%%\n"
    }
   },
   "outputs": [
    {
     "data": {
      "text/html": [
       "<div>\n",
       "<style scoped>\n",
       "    .dataframe tbody tr th:only-of-type {\n",
       "        vertical-align: middle;\n",
       "    }\n",
       "\n",
       "    .dataframe tbody tr th {\n",
       "        vertical-align: top;\n",
       "    }\n",
       "\n",
       "    .dataframe thead th {\n",
       "        text-align: right;\n",
       "    }\n",
       "</style>\n",
       "<table border=\"1\" class=\"dataframe\">\n",
       "  <thead>\n",
       "    <tr style=\"text-align: right;\">\n",
       "      <th></th>\n",
       "      <th>age</th>\n",
       "      <th>sex</th>\n",
       "      <th>dataset</th>\n",
       "      <th>cp</th>\n",
       "      <th>trestbps</th>\n",
       "      <th>chol</th>\n",
       "      <th>fbs</th>\n",
       "      <th>restecg</th>\n",
       "      <th>thalch</th>\n",
       "      <th>exang</th>\n",
       "      <th>oldpeak</th>\n",
       "      <th>slope</th>\n",
       "      <th>ca</th>\n",
       "      <th>thal</th>\n",
       "      <th>num</th>\n",
       "      <th>category_age</th>\n",
       "    </tr>\n",
       "  </thead>\n",
       "  <tbody>\n",
       "    <tr>\n",
       "      <th>0</th>\n",
       "      <td>63</td>\n",
       "      <td>Male</td>\n",
       "      <td>Cleveland</td>\n",
       "      <td>typical angina</td>\n",
       "      <td>145.0</td>\n",
       "      <td>233.0</td>\n",
       "      <td>True</td>\n",
       "      <td>lv hypertrophy</td>\n",
       "      <td>150.0</td>\n",
       "      <td>False</td>\n",
       "      <td>2.3</td>\n",
       "      <td>downsloping</td>\n",
       "      <td>0.0</td>\n",
       "      <td>fixed defect</td>\n",
       "      <td>0</td>\n",
       "      <td>old</td>\n",
       "    </tr>\n",
       "    <tr>\n",
       "      <th>1</th>\n",
       "      <td>67</td>\n",
       "      <td>Male</td>\n",
       "      <td>Cleveland</td>\n",
       "      <td>asymptomatic</td>\n",
       "      <td>160.0</td>\n",
       "      <td>286.0</td>\n",
       "      <td>False</td>\n",
       "      <td>lv hypertrophy</td>\n",
       "      <td>108.0</td>\n",
       "      <td>True</td>\n",
       "      <td>1.5</td>\n",
       "      <td>flat</td>\n",
       "      <td>3.0</td>\n",
       "      <td>normal</td>\n",
       "      <td>2</td>\n",
       "      <td>old</td>\n",
       "    </tr>\n",
       "    <tr>\n",
       "      <th>2</th>\n",
       "      <td>67</td>\n",
       "      <td>Male</td>\n",
       "      <td>Cleveland</td>\n",
       "      <td>asymptomatic</td>\n",
       "      <td>120.0</td>\n",
       "      <td>229.0</td>\n",
       "      <td>False</td>\n",
       "      <td>lv hypertrophy</td>\n",
       "      <td>129.0</td>\n",
       "      <td>True</td>\n",
       "      <td>2.6</td>\n",
       "      <td>flat</td>\n",
       "      <td>2.0</td>\n",
       "      <td>reversable defect</td>\n",
       "      <td>1</td>\n",
       "      <td>old</td>\n",
       "    </tr>\n",
       "  </tbody>\n",
       "</table>\n",
       "</div>"
      ],
      "text/plain": [
       "   age   sex    dataset              cp  trestbps   chol    fbs  \\\n",
       "0   63  Male  Cleveland  typical angina     145.0  233.0   True   \n",
       "1   67  Male  Cleveland    asymptomatic     160.0  286.0  False   \n",
       "2   67  Male  Cleveland    asymptomatic     120.0  229.0  False   \n",
       "\n",
       "          restecg  thalch  exang  oldpeak        slope   ca  \\\n",
       "0  lv hypertrophy   150.0  False      2.3  downsloping  0.0   \n",
       "1  lv hypertrophy   108.0   True      1.5         flat  3.0   \n",
       "2  lv hypertrophy   129.0   True      2.6         flat  2.0   \n",
       "\n",
       "                thal  num category_age  \n",
       "0       fixed defect    0          old  \n",
       "1             normal    2          old  \n",
       "2  reversable defect    1          old  "
      ]
     },
     "execution_count": 842,
     "metadata": {},
     "output_type": "execute_result"
    }
   ],
   "source": [
    "# Создадим еще один столбец category_age для распределения числового признака по категориям\n",
    "# Необходимо для группировки и заполнения пустых значений признака trestbps\n",
    "\n",
    "data['category_age'] = data['age'].apply(lambda x: 'young' if x <= 30 else 'middle' if x <= 50 else 'old')\n",
    "data.head(3)"
   ]
  },
  {
   "cell_type": "code",
   "execution_count": 843,
   "metadata": {
    "pycharm": {
     "name": "#%%\n"
    }
   },
   "outputs": [
    {
     "name": "stdout",
     "output_type": "stream",
     "text": [
      "Кол-во пустых строк: 0\n"
     ]
    }
   ],
   "source": [
    "# сгруппируем данные по возрасту и месту получения информации\n",
    "# заполним пропуски исходя из полученного датасета\n",
    "\n",
    "data_age_dataset = data.groupby(by=['category_age', 'dataset']).agg({'category_age':'count', 'trestbps': 'median'})\n",
    "data_age_dataset.head(3)\n",
    "\n",
    "data.loc[data['trestbps'].isna(), 'trestbps'] = data[data['trestbps'].isna()].apply(\n",
    "    lambda row: data_age_dataset['category_age'][row['category_age']][row['dataset']], \n",
    "    axis=1)  \n",
    "\n",
    "print('Кол-во пустых строк:', data[data['trestbps'].isna()]['trestbps'].count())   \n"
   ]
  },
  {
   "cell_type": "markdown",
   "metadata": {
    "pycharm": {
     "name": "#%% md\n"
    }
   },
   "source": [
    "#### Числовой признак - chol (сывороточный холестерин в мг/дл)\n",
    "\n",
    "* Присутствуют пропуски и нулевые значения\n",
    "* Q1 = Медиана = Q3\n",
    "* Медиана меньше среднего, больше людей приходят с нормальным или низким уровнем холестерина.\n",
    "\n",
    "Холестерин зависит от места обследования, выведем гистрограмму."
   ]
  },
  {
   "cell_type": "code",
   "execution_count": 844,
   "metadata": {
    "pycharm": {
     "name": "#%%\n"
    }
   },
   "outputs": [
    {
     "data": {
      "image/png": "[encoded data removed]",
      "text/plain": [
       "<Figure size 1500x1500 with 1 Axes>"
      ]
     },
     "metadata": {},
     "output_type": "display_data"
    }
   ],
   "source": [
    "# воспользуемся библиотекой seaborn и matplotlib\n",
    "# подпишем график\n",
    "\n",
    "plt.title('Уровень холестерина в зависимости от места сбора информации')   \n",
    "sns.barplot(x=data['dataset'], y=data['chol']);\n",
    "plt.show()"
   ]
  },
  {
   "cell_type": "markdown",
   "metadata": {
    "pycharm": {
     "name": "#%% md\n"
    }
   },
   "source": [
    "В щвейцарии не измеряли уровнь холестерина. Пропусков 3.3%, возможно стоит удалить (?)"
   ]
  },
  {
   "cell_type": "markdown",
   "metadata": {
    "pycharm": {
     "name": "#%% md\n"
    }
   },
   "source": [
    "Заполним пропуски и посмотрим на нулевые значения."
   ]
  },
  {
   "cell_type": "code",
   "execution_count": 845,
   "metadata": {
    "pycharm": {
     "name": "#%%\n"
    }
   },
   "outputs": [
    {
     "name": "stdout",
     "output_type": "stream",
     "text": [
      "Кол-во нулевых значений: 172\n"
     ]
    }
   ],
   "source": [
    "# выведем кол-во нулевых зна\n",
    "print('Кол-во нулевых значений:', data[data['chol'] == 0]['chol'].count())"
   ]
  },
  {
   "cell_type": "code",
   "execution_count": 846,
   "metadata": {
    "pycharm": {
     "name": "#%%\n"
    }
   },
   "outputs": [
    {
     "name": "stdout",
     "output_type": "stream",
     "text": [
      "Кол-во нулевых значений: 0\n"
     ]
    }
   ],
   "source": [
    "# сгруппируем данные по месту сбора информации\n",
    "# и возврасту\n",
    "\n",
    "data_age_dataset = data.groupby(by=['category_age', 'dataset']).agg({'category_age':'count', 'chol': 'median'})\n",
    "data_age_dataset.head(3)\n",
    "\n",
    "data.loc[data['chol'] == 0, 'chol'] = data[data['chol'] == 0].apply(\n",
    "    lambda row: data_age_dataset['category_age'][row['category_age']][row['dataset']], \n",
    "    axis=1)\n",
    "    \n",
    "print('Кол-во нулевых значений:', data[data['chol'] == 0]['chol'].count())    "
   ]
  },
  {
   "cell_type": "code",
   "execution_count": 847,
   "metadata": {
    "pycharm": {
     "name": "#%%\n"
    }
   },
   "outputs": [],
   "source": [
    "# Норма кровяного давления 80 - 130 (найдем среднее т.к тут одно число. 105), \n",
    "# повышенное 90 - 140 и выше, (найдем среднее т.к тут одно число. 115)\n",
    "# сделаем группировку по полу и категории кровяного давления\n",
    "\n",
    "data['category_trestbps'] = data['trestbps'].apply(lambda x: 'hight' if x > 115 else 'normal' if x > 105 else 'low')\n",
    "\n",
    "data_sex_cattrestbps = data.groupby(['sex', 'category_trestbps']).agg({'chol': 'mean'})\n",
    "\n",
    "data.loc[data['chol'].isna(), 'chol'] = data.apply(lambda row: np.floor(data_sex_cattrestbps['chol'][row['sex']][row['category_trestbps']]), axis=1)"
   ]
  },
  {
   "cell_type": "markdown",
   "metadata": {
    "pycharm": {
     "name": "#%% md\n"
    }
   },
   "source": [
    "##### Категориальный признак - fbs (если уровень сахара в крови натощак > 120 мг/дл)\n",
    "\n",
    "* Есть пропуски \n",
    "* Значения только (True, False)\n",
    "\n",
    "Заполним пропуски в данном признаке"
   ]
  },
  {
   "cell_type": "code",
   "execution_count": 848,
   "metadata": {
    "pycharm": {
     "name": "#%%\n"
    }
   },
   "outputs": [],
   "source": [
    "# создадим доп. столбец, переведем True, False = 1,0\n",
    "# сгруппируем данные по возрасту и месту сбора инфы\n",
    "# получим среднее значение\n",
    "# если среднее больше 0.5, то в пустое поле ставим 1 и наоборот\n",
    "# таким образом заполним пустые поля \n",
    "\n",
    "data['fbs_b_int'] =  data['fbs'].apply(lambda x: 1 if x == True else 0 if x == False else -1);\n",
    "data_age_dataset = data.groupby(by=['category_age', 'dataset']).agg({'category_age':'count', 'fbs_b_int': 'mean'})\n",
    " \n",
    "data.loc[data['fbs'].isna(), 'fbs_b_int'] = data[data['fbs'].isna()].apply(\n",
    "    lambda row: 1 if data_age_dataset['fbs_b_int'][row['category_age']][row['dataset']] > 0.5 else 0, \n",
    "    axis=1) \n",
    "\n",
    "data = data.drop(['fbs'], axis=1)\n"
   ]
  },
  {
   "cell_type": "markdown",
   "metadata": {
    "pycharm": {
     "name": "#%% md\n"
    }
   },
   "source": [
    "#### Категориальный признак - restecg (Результаты электрокардиографии в состоянии покоя)\n",
    "\n",
    "* Есть пропуски"
   ]
  },
  {
   "cell_type": "code",
   "execution_count": 849,
   "metadata": {
    "pycharm": {
     "name": "#%%\n"
    }
   },
   "outputs": [],
   "source": [
    "# фиксируем рандомный генератор\n",
    "# получим уникальные значения\n",
    "# заполним рандомом 2 значения\n",
    "\n",
    "random.seed(0)\n",
    "unique_restecg = data['restecg'].unique()\n",
    "data.loc[data['restecg'].isna(), 'restecg'] = [unique_restecg[random.randint(0, 2)] for x in range(data[data['restecg'].isna()]['restecg'].shape[0])]"
   ]
  },
  {
   "cell_type": "markdown",
   "metadata": {
    "pycharm": {
     "name": "#%% md\n"
    }
   },
   "source": [
    "#### Числовой признак - thalch (достигнутая максимальная частота сердечных сокращений)\n",
    "\n",
    "* Есть пустые значения\n",
    "* Медиана меньше среднего, а значит у большинства людей макс частота не превышает медианного значения"
   ]
  },
  {
   "cell_type": "code",
   "execution_count": 850,
   "metadata": {
    "pycharm": {
     "name": "#%%\n"
    }
   },
   "outputs": [
    {
     "name": "stdout",
     "output_type": "stream",
     "text": [
      "Минимальное значение: 60.0\n",
      "Максимальное значение: 202.0\n",
      "Кол-во пустых строк до: 55\n",
      "Кол-во пустых строк после: 0\n"
     ]
    }
   ],
   "source": [
    "# заполним рандомом от минимального до максимального значения(?)\n",
    "print('Минимальное значение:', data['thalch'].min())\n",
    "print('Максимальное значение:', data['thalch'].max())\n",
    "print('Кол-во пустых строк до:', data[data['thalch'].isna()].shape[0])\n",
    "\n",
    "data.loc[data['thalch'].isna(), 'thalch'] = [random.randint(data['thalch'].min(), data['thalch'].max()) \n",
    "for x in range(data[data['thalch'].isna()].shape[0])]\n",
    "\n",
    "print('Кол-во пустых строк после:', data[data['thalch'].isna()].shape[0])"
   ]
  },
  {
   "cell_type": "markdown",
   "metadata": {
    "pycharm": {
     "name": "#%% md\n"
    }
   },
   "source": [
    "#####  Категориальный признак - exang (стенокардия, вызванная физической нагрузкой)\n",
    "\n",
    "* Есть пропуски\n",
    "* Значения только (True, False)\n",
    "\n",
    "Пустые значения могли быть вызваны отсутствием физ. нагрузки. Выведем пустые значения."
   ]
  },
  {
   "cell_type": "code",
   "execution_count": 851,
   "metadata": {
    "pycharm": {
     "name": "#%%\n"
    }
   },
   "outputs": [
    {
     "name": "stdout",
     "output_type": "stream",
     "text": [
      "Кол-во пустых строк до: 55\n",
      "Кол-во пустых строк после: 0\n"
     ]
    }
   ],
   "source": [
    "# переведем True, False в 1, 0\n",
    "# заполним рандомными 0 и 1\n",
    "print('Кол-во пустых строк до:', data[data['exang'].isna()].shape[0])\n",
    "\n",
    "data.loc[data['exang'].isna(), 'exang'] = [random.randint(0, 1) for x in range(data[data['exang'].isna()].shape[0])]\n",
    "data['exang'] = data['exang'].apply(lambda x: 1 if x == True else 0)\n",
    "\n",
    "print('Кол-во пустых строк после:', data[data['exang'].isna()].shape[0])\n"
   ]
  },
  {
   "cell_type": "markdown",
   "metadata": {
    "pycharm": {
     "name": "#%% md\n"
    }
   },
   "source": [
    "#### Числовой признак - oldpeak (Депрессия ST, вызванная физической нагрузкой по сравнению с отдыхом)\n",
    "\n",
    "* Есть пропуски\n",
    "* Не понятна природа данных, есть ли выбросы и т.д"
   ]
  },
  {
   "cell_type": "code",
   "execution_count": 852,
   "metadata": {
    "pycharm": {
     "name": "#%%\n"
    }
   },
   "outputs": [
    {
     "name": "stdout",
     "output_type": "stream",
     "text": [
      "Минимальное значение: -2.6\n",
      "Максимальное значение: 6.2\n",
      "Кол-во пустых строк до: 62\n",
      "Кол-во пустых строк после: 0\n"
     ]
    }
   ],
   "source": [
    "print('Минимальное значение:', data['oldpeak'].min())\n",
    "print('Максимальное значение:', data['oldpeak'].max())\n",
    "\n",
    "print('Кол-во пустых строк до:', data[data['oldpeak'].isna()].shape[0])\n",
    "\n",
    "data.loc[data['oldpeak'].isna(), 'oldpeak'] = [random.randint(int(data['oldpeak'].min()), int(data['oldpeak'].max())) for x in range(data[data['oldpeak'].isna()].shape[0])]\n",
    "\n",
    "\n",
    "print('Кол-во пустых строк после:', data[data['oldpeak'].isna()].shape[0])"
   ]
  },
  {
   "cell_type": "markdown",
   "metadata": {
    "pycharm": {
     "name": "#%% md\n"
    }
   },
   "source": [
    "#### Категориальный признак - slope (Наклон пикового сегмента ST упражнения)\n",
    "\n",
    "* 33.6% пропусков"
   ]
  },
  {
   "cell_type": "code",
   "execution_count": 853,
   "metadata": {
    "pycharm": {
     "name": "#%%\n"
    }
   },
   "outputs": [],
   "source": [
    "# рандомим заполнение\n",
    "data.loc[data['slope'].isna(), 'slope'] = data[data['slope'].isna()]['slope'].apply(lambda x: data['slope'].unique()[random.randint(0, 2)])"
   ]
  },
  {
   "cell_type": "markdown",
   "metadata": {
    "pycharm": {
     "name": "#%% md\n"
    }
   },
   "source": [
    "#### Категориальный признак - ca (количество крупных сосудов (0-3), окрашенных при рентгеноскопии)\n",
    "\n",
    "* 66.4% пропусков\n",
    "* Из-за пропусков тип данных float, а не int"
   ]
  },
  {
   "cell_type": "code",
   "execution_count": 854,
   "metadata": {
    "pycharm": {
     "name": "#%%\n"
    }
   },
   "outputs": [],
   "source": [
    "# рандомим заполнение\n",
    "data.loc[data['ca'].isna(), 'ca'] = data[data['ca'].isna()]['ca'].apply(lambda x: data['ca'].unique()[random.randint(0, 3)])"
   ]
  },
  {
   "cell_type": "markdown",
   "metadata": {
    "pycharm": {
     "name": "#%% md\n"
    }
   },
   "source": [
    "#### Категориальный признак - thal (Состояние сердца)\n",
    "\n",
    "* Большое кол-во пропусков 52.8%"
   ]
  },
  {
   "cell_type": "code",
   "execution_count": 855,
   "metadata": {
    "pycharm": {
     "name": "#%%\n"
    }
   },
   "outputs": [],
   "source": [
    "# рандомим заполнение\n",
    "data.loc[data['thal'].isna(), 'thal'] = [data['thal'].unique()[random.randint(0, 2)] \n",
    "for x in range(data[data['thal'].isna()].shape[0])]"
   ]
  },
  {
   "cell_type": "code",
   "execution_count": 856,
   "metadata": {},
   "outputs": [
    {
     "name": "stdout",
     "output_type": "stream",
     "text": [
      "<class 'pandas.core.frame.DataFrame'>\n",
      "RangeIndex: 920 entries, 0 to 919\n",
      "Data columns (total 17 columns):\n",
      " #   Column             Non-Null Count  Dtype  \n",
      "---  ------             --------------  -----  \n",
      " 0   age                920 non-null    int64  \n",
      " 1   sex                920 non-null    object \n",
      " 2   dataset            920 non-null    object \n",
      " 3   cp                 920 non-null    object \n",
      " 4   trestbps           920 non-null    float64\n",
      " 5   chol               920 non-null    float64\n",
      " 6   restecg            920 non-null    object \n",
      " 7   thalch             920 non-null    float64\n",
      " 8   exang              920 non-null    int64  \n",
      " 9   oldpeak            920 non-null    float64\n",
      " 10  slope              920 non-null    object \n",
      " 11  ca                 920 non-null    float64\n",
      " 12  thal               920 non-null    object \n",
      " 13  num                920 non-null    int64  \n",
      " 14  category_age       920 non-null    object \n",
      " 15  category_trestbps  920 non-null    object \n",
      " 16  fbs_b_int          920 non-null    int64  \n",
      "dtypes: float64(5), int64(4), object(8)\n",
      "memory usage: 122.3+ KB\n"
     ]
    }
   ],
   "source": [
    "# итоговый датасет\n",
    "data.info()"
   ]
  },
  {
   "cell_type": "markdown",
   "metadata": {
    "pycharm": {
     "name": "#%% md\n"
    }
   },
   "source": [
    "#### Приведение данных к нужным типам"
   ]
  },
  {
   "cell_type": "code",
   "execution_count": 857,
   "metadata": {
    "pycharm": {
     "name": "#%%\n"
    }
   },
   "outputs": [
    {
     "data": {
      "text/plain": [
       "array([145., 160., 120., 130., 140., 172., 150., 110., 132., 117., 135.,\n",
       "       112., 105., 124., 125., 142., 128., 170., 155., 104., 180., 138.,\n",
       "       108., 134., 122., 115., 118., 100., 200.,  94., 165., 102., 152.,\n",
       "       101., 126., 174., 148., 178., 158., 192., 129., 144., 123., 136.,\n",
       "       146., 106., 156., 154., 114., 164.,  98., 190., 169., 113.,  92.,\n",
       "        95.,  29.,  80., 185., 179., 116.,   0.,  21.,  96., 127.])"
      ]
     },
     "metadata": {},
     "output_type": "display_data"
    },
    {
     "data": {
      "text/plain": [
       "array([233., 286., 229., 250., 204., 236., 268., 354., 254., 203., 192.,\n",
       "       294., 256., 263., 199., 168., 239., 275., 266., 211., 283., 284.,\n",
       "       224., 206., 219., 340., 226., 247., 167., 230., 335., 234., 177.,\n",
       "       276., 353., 243., 225., 302., 212., 330., 175., 417., 197., 198.,\n",
       "       290., 253., 172., 273., 213., 305., 216., 304., 188., 282., 185.,\n",
       "       232., 326., 231., 269., 267., 248., 360., 258., 308., 245., 270.,\n",
       "       208., 264., 321., 274., 325., 235., 257., 164., 141., 252., 255.,\n",
       "       201., 222., 260., 182., 303., 265., 309., 307., 249., 186., 341.,\n",
       "       183., 407., 217., 288., 220., 209., 227., 261., 174., 281., 221.,\n",
       "       205., 240., 289., 318., 298., 564., 246., 322., 299., 300., 293.,\n",
       "       277., 214., 207., 223., 160., 394., 184., 315., 409., 244., 195.,\n",
       "       196., 126., 313., 259., 200., 262., 215., 228., 193., 271., 210.,\n",
       "       327., 149., 295., 306., 178., 237., 218., 242., 319., 166., 180.,\n",
       "       311., 278., 342., 169., 187., 157., 176., 241., 131., 132., 161.,\n",
       "       173., 194., 297., 292., 339., 147., 291., 358., 412., 238., 163.,\n",
       "       280., 142., 202., 328., 129., 190., 179., 272., 100., 468., 320.,\n",
       "       312., 171., 365., 344.,  85., 347., 251., 287., 156., 117., 466.,\n",
       "       338., 529., 191., 392., 329., 355., 603., 404., 518., 285., 279.,\n",
       "       388., 336., 491., 331., 393.,  29.,  94.,  21., 153., 316., 458.,\n",
       "       384., 349., 181., 310., 170., 369., 165., 337., 333., 139., 385.])"
      ]
     },
     "metadata": {},
     "output_type": "display_data"
    },
    {
     "data": {
      "text/plain": [
       "array([150., 108., 129., 187., 172., 178., 160., 163., 147., 155., 148.,\n",
       "       153., 142., 173., 162., 174., 168., 139., 171., 144., 132., 158.,\n",
       "       114., 151., 161., 179., 120., 112., 137., 157., 169., 165., 123.,\n",
       "       128., 152., 140., 188., 109., 125., 131., 170., 113.,  99., 177.,\n",
       "       141., 180., 111., 143., 182., 156., 115., 149., 145., 146., 175.,\n",
       "       186., 185., 159., 130., 190., 136.,  97., 127., 154., 133., 126.,\n",
       "       202., 103., 166., 164., 184., 124., 122.,  96., 138.,  88., 105.,\n",
       "       194., 195., 106., 167.,  95., 192., 117., 121., 116.,  71., 118.,\n",
       "       181., 134.,  90.,  98., 176., 135., 110.,  70., 100.,  87., 102.,\n",
       "        92.,  91.,  82., 119.,  94., 104.,  60.,  83.,  63.,  77.,  72.,\n",
       "        78.,  86.,  93.,  67.,  84.,  80., 189., 107., 196.,  69.,  85.,\n",
       "       201., 193.,  75., 200.,  73.,  76., 199.])"
      ]
     },
     "metadata": {},
     "output_type": "display_data"
    },
    {
     "data": {
      "text/plain": [
       "array([ 2.3,  1.5,  2.6,  3.5,  1.4,  0.8,  3.6,  0.6,  3.1,  0.4,  1.3,\n",
       "        0. ,  0.5,  1.6,  1. ,  1.2,  0.2,  1.8,  3.2,  2.4,  2. ,  2.5,\n",
       "        2.2,  2.8,  3. ,  3.4,  6.2,  4. ,  5.6,  2.9,  0.1,  2.1,  1.9,\n",
       "        4.2,  0.9,  1.1,  3.8,  0.7,  0.3,  4.4,  5. , -1. , -1.1, -1.5,\n",
       "       -0.1, -2.6, -0.7, -2. ,  1.7, -0.8, -0.5, -0.9,  3.7,  6. ])"
      ]
     },
     "metadata": {},
     "output_type": "display_data"
    },
    {
     "data": {
      "text/plain": [
       "array([0., 3., 2., 1.])"
      ]
     },
     "metadata": {},
     "output_type": "display_data"
    }
   ],
   "source": [
    "# посмотрим на уникальые значения\n",
    "display(data['trestbps'].unique())\n",
    "display(data['chol'].unique())\n",
    "display(data['thalch'].unique())\n",
    "display(data['oldpeak'].unique())\n",
    "display(data['ca'].unique())"
   ]
  },
  {
   "cell_type": "code",
   "execution_count": 858,
   "metadata": {
    "pycharm": {
     "name": "#%%\n"
    }
   },
   "outputs": [],
   "source": [
    "# выбраные столбцы приведем к целому число\n",
    "data[['trestbps', 'chol', 'thalch', 'ca']] = data[\n",
    "     ['trestbps', 'chol', 'thalch', 'ca']\n",
    "].astype('int')"
   ]
  },
  {
   "cell_type": "markdown",
   "metadata": {
    "pycharm": {
     "name": "#%% md\n"
    }
   },
   "source": [
    "#### Исследовательский анализ данных"
   ]
  },
  {
   "cell_type": "code",
   "execution_count": 859,
   "metadata": {
    "pycharm": {
     "name": "#%%\n"
    }
   },
   "outputs": [
    {
     "data": {
      "application/vnd.plotly.v1+json": {
       "config": {
        "plotlyServerURL": "https://plot.ly"
       },
       "data": [
        {
         "boxmean": true,
         "marker": {
          "color": "green"
         },
         "name": "Давление",
         "type": "box",
         "y": [
          145,
          160,
          120,
          130,
          130,
          120,
          140,
          120,
          130,
          140,
          140,
          140,
          130,
          120,
          172,
          150,
          110,
          140,
          130,
          130,
          110,
          150,
          120,
          132,
          130,
          120,
          120,
          150,
          150,
          110,
          140,
          117,
          140,
          135,
          130,
          140,
          120,
          150,
          132,
          150,
          150,
          140,
          160,
          150,
          130,
          112,
          110,
          150,
          140,
          130,
          105,
          120,
          112,
          130,
          130,
          124,
          140,
          110,
          125,
          125,
          130,
          142,
          128,
          135,
          120,
          145,
          140,
          150,
          170,
          150,
          155,
          125,
          120,
          110,
          110,
          160,
          125,
          140,
          130,
          150,
          104,
          130,
          140,
          180,
          120,
          140,
          138,
          128,
          138,
          130,
          120,
          160,
          130,
          108,
          135,
          128,
          110,
          150,
          134,
          122,
          115,
          118,
          128,
          110,
          120,
          108,
          140,
          128,
          120,
          118,
          145,
          125,
          118,
          132,
          130,
          135,
          140,
          138,
          130,
          135,
          130,
          150,
          100,
          140,
          138,
          130,
          200,
          110,
          120,
          124,
          120,
          94,
          130,
          140,
          122,
          135,
          145,
          120,
          120,
          125,
          140,
          170,
          128,
          125,
          105,
          108,
          165,
          112,
          128,
          102,
          152,
          102,
          115,
          160,
          120,
          130,
          140,
          125,
          140,
          118,
          101,
          125,
          110,
          100,
          124,
          132,
          138,
          132,
          126,
          112,
          160,
          142,
          174,
          140,
          145,
          152,
          108,
          132,
          130,
          130,
          124,
          134,
          148,
          178,
          158,
          140,
          120,
          160,
          192,
          140,
          129,
          140,
          132,
          138,
          120,
          100,
          160,
          138,
          120,
          160,
          110,
          180,
          150,
          140,
          110,
          142,
          128,
          144,
          130,
          150,
          120,
          120,
          130,
          178,
          112,
          120,
          105,
          138,
          130,
          138,
          112,
          108,
          94,
          123,
          108,
          118,
          112,
          152,
          110,
          112,
          136,
          180,
          118,
          120,
          160,
          122,
          130,
          120,
          134,
          120,
          110,
          126,
          130,
          134,
          120,
          120,
          100,
          110,
          125,
          128,
          110,
          146,
          128,
          120,
          115,
          120,
          106,
          140,
          156,
          124,
          118,
          136,
          150,
          120,
          138,
          136,
          128,
          126,
          152,
          130,
          140,
          160,
          140,
          112,
          134,
          170,
          146,
          138,
          154,
          130,
          110,
          130,
          128,
          122,
          148,
          114,
          170,
          125,
          130,
          120,
          152,
          132,
          120,
          140,
          124,
          120,
          164,
          140,
          110,
          144,
          130,
          130,
          138,
          130,
          120,
          140,
          170,
          100,
          105,
          110,
          125,
          120,
          130,
          150,
          98,
          120,
          140,
          120,
          150,
          120,
          112,
          130,
          150,
          120,
          130,
          130,
          130,
          130,
          120,
          130,
          120,
          140,
          145,
          110,
          120,
          120,
          120,
          130,
          190,
          120,
          160,
          110,
          130,
          130,
          140,
          130,
          130,
          140,
          110,
          125,
          130,
          120,
          120,
          125,
          112,
          115,
          120,
          120,
          150,
          120,
          160,
          140,
          100,
          120,
          120,
          120,
          120,
          150,
          150,
          142,
          120,
          120,
          130,
          150,
          130,
          180,
          132,
          140,
          135,
          120,
          140,
          130,
          140,
          120,
          150,
          110,
          110,
          180,
          140,
          130,
          110,
          160,
          140,
          169,
          120,
          120,
          120,
          108,
          120,
          150,
          100,
          130,
          140,
          110,
          110,
          110,
          124,
          130,
          100,
          140,
          120,
          140,
          110,
          120,
          120,
          140,
          170,
          140,
          150,
          160,
          110,
          130,
          150,
          125,
          130,
          130,
          120,
          140,
          125,
          130,
          120,
          140,
          160,
          140,
          113,
          140,
          120,
          120,
          140,
          120,
          124,
          130,
          140,
          120,
          120,
          120,
          130,
          140,
          150,
          160,
          120,
          110,
          120,
          120,
          160,
          160,
          120,
          150,
          150,
          110,
          122,
          130,
          120,
          140,
          145,
          110,
          120,
          120,
          140,
          130,
          130,
          130,
          130,
          120,
          130,
          180,
          140,
          130,
          130,
          140,
          135,
          130,
          140,
          130,
          180,
          140,
          120,
          130,
          125,
          160,
          140,
          120,
          100,
          140,
          110,
          120,
          140,
          110,
          120,
          92,
          120,
          110,
          120,
          150,
          110,
          118,
          120,
          140,
          150,
          106,
          120,
          160,
          160,
          115,
          130,
          140,
          145,
          160,
          130,
          125,
          125,
          140,
          140,
          130,
          130,
          100,
          150,
          140,
          118,
          110,
          110,
          150,
          120,
          130,
          120,
          130,
          122,
          160,
          160,
          160,
          130,
          120,
          170,
          120,
          120,
          130,
          130,
          140,
          200,
          140,
          150,
          150,
          160,
          130,
          130,
          120,
          150,
          130,
          140,
          135,
          138,
          130,
          140,
          135,
          112,
          130,
          140,
          160,
          145,
          180,
          140,
          140,
          160,
          145,
          120,
          150,
          170,
          136,
          130,
          140,
          170,
          140,
          120,
          140,
          135,
          120,
          160,
          128,
          150,
          140,
          140,
          140,
          160,
          130,
          155,
          180,
          130,
          95,
          115,
          29,
          110,
          105,
          110,
          100,
          115,
          135,
          150,
          95,
          125,
          105,
          145,
          100,
          115,
          140,
          110,
          100,
          115,
          110,
          155,
          110,
          160,
          115,
          160,
          115,
          120,
          145,
          120,
          110,
          120,
          130,
          130,
          140,
          95,
          130,
          135,
          165,
          95,
          120,
          130,
          105,
          160,
          120,
          125,
          130,
          80,
          120,
          130,
          180,
          140,
          115,
          120,
          140,
          120,
          125,
          155,
          115,
          120,
          120,
          125,
          140,
          105,
          110,
          140,
          140,
          160,
          95,
          115,
          130,
          170,
          125,
          110,
          120,
          125,
          135,
          115,
          125,
          130,
          135,
          160,
          160,
          200,
          105,
          110,
          125,
          130,
          130,
          150,
          150,
          160,
          140,
          120,
          120,
          160,
          115,
          115,
          150,
          100,
          140,
          150,
          150,
          185,
          200,
          95,
          110,
          115,
          145,
          155,
          160,
          155,
          150,
          145,
          135,
          145,
          135,
          94,
          115,
          140,
          160,
          160,
          145,
          140,
          130,
          132,
          142,
          110,
          120,
          150,
          180,
          120,
          160,
          126,
          140,
          110,
          179,
          128,
          120,
          170,
          110,
          126,
          152,
          116,
          120,
          130,
          179,
          128,
          130,
          179,
          130,
          120,
          179,
          179,
          124,
          160,
          0,
          122,
          144,
          179,
          120,
          179,
          154,
          120,
          125,
          179,
          104,
          179,
          136,
          122,
          128,
          179,
          134,
          120,
          179,
          152,
          124,
          126,
          138,
          154,
          179,
          179,
          178,
          179,
          110,
          130,
          170,
          126,
          140,
          142,
          120,
          179,
          179,
          110,
          140,
          179,
          136,
          120,
          170,
          130,
          179,
          142,
          142,
          132,
          146,
          160,
          135,
          136,
          130,
          140,
          179,
          158,
          179,
          136,
          106,
          120,
          110,
          179,
          160,
          21,
          112,
          122,
          130,
          150,
          150,
          102,
          96,
          130,
          120,
          144,
          124,
          150,
          21,
          179,
          179,
          21,
          179,
          21,
          179,
          116,
          110,
          125,
          179,
          179,
          150,
          130,
          110,
          179,
          104,
          138,
          170,
          140,
          21,
          132,
          142,
          112,
          179,
          172,
          120,
          179,
          179,
          155,
          150,
          160,
          179,
          179,
          134,
          179,
          179,
          140,
          179,
          144,
          179,
          150,
          130,
          110,
          158,
          128,
          179,
          150,
          160,
          179,
          179,
          179,
          179,
          156,
          179,
          179,
          140,
          122,
          179,
          179,
          180,
          124,
          118,
          140,
          140,
          179,
          100,
          190,
          130,
          160,
          130,
          122,
          179,
          120,
          130,
          130,
          179,
          120,
          150,
          155,
          134,
          114,
          160,
          144,
          158,
          134,
          127,
          179,
          122,
          179,
          120
         ]
        },
        {
         "boxmean": true,
         "marker": {
          "color": "blue"
         },
         "name": "Мужчины",
         "type": "box",
         "y": [
          145,
          160,
          120,
          130,
          120,
          130,
          140,
          140,
          130,
          120,
          172,
          150,
          110,
          140,
          130,
          110,
          120,
          132,
          130,
          150,
          110,
          117,
          140,
          135,
          130,
          140,
          120,
          150,
          132,
          150,
          140,
          150,
          112,
          110,
          150,
          130,
          120,
          112,
          130,
          130,
          124,
          140,
          110,
          125,
          125,
          128,
          120,
          145,
          140,
          150,
          170,
          150,
          125,
          120,
          110,
          110,
          125,
          130,
          150,
          104,
          140,
          180,
          120,
          140,
          138,
          120,
          130,
          128,
          110,
          134,
          122,
          115,
          118,
          120,
          108,
          140,
          128,
          120,
          118,
          125,
          118,
          135,
          140,
          130,
          135,
          130,
          100,
          140,
          138,
          110,
          120,
          120,
          94,
          130,
          140,
          145,
          120,
          120,
          125,
          140,
          170,
          128,
          125,
          105,
          108,
          165,
          112,
          128,
          152,
          160,
          120,
          130,
          140,
          125,
          140,
          118,
          101,
          125,
          124,
          132,
          138,
          126,
          160,
          142,
          145,
          152,
          108,
          132,
          130,
          130,
          124,
          148,
          178,
          120,
          160,
          192,
          140,
          129,
          140,
          132,
          100,
          160,
          160,
          150,
          110,
          142,
          128,
          144,
          130,
          120,
          130,
          112,
          120,
          138,
          123,
          112,
          110,
          112,
          118,
          122,
          130,
          120,
          120,
          110,
          134,
          120,
          100,
          110,
          125,
          128,
          110,
          146,
          128,
          115,
          156,
          124,
          120,
          138,
          136,
          128,
          126,
          152,
          130,
          140,
          160,
          140,
          134,
          170,
          154,
          110,
          130,
          122,
          148,
          114,
          125,
          130,
          120,
          152,
          120,
          140,
          120,
          164,
          110,
          144,
          130,
          138,
          130,
          120,
          140,
          110,
          125,
          120,
          150,
          98,
          120,
          150,
          120,
          112,
          130,
          150,
          130,
          130,
          120,
          130,
          140,
          145,
          120,
          120,
          120,
          130,
          190,
          120,
          160,
          110,
          130,
          130,
          140,
          130,
          130,
          140,
          120,
          120,
          125,
          112,
          120,
          120,
          150,
          120,
          160,
          140,
          142,
          120,
          130,
          150,
          140,
          135,
          120,
          140,
          140,
          120,
          150,
          110,
          110,
          180,
          110,
          160,
          140,
          100,
          130,
          140,
          110,
          100,
          140,
          120,
          140,
          120,
          140,
          170,
          140,
          150,
          125,
          130,
          130,
          120,
          140,
          160,
          140,
          120,
          140,
          120,
          124,
          130,
          140,
          120,
          110,
          120,
          120,
          160,
          160,
          120,
          150,
          150,
          120,
          140,
          145,
          110,
          120,
          120,
          140,
          130,
          130,
          130,
          120,
          140,
          130,
          130,
          140,
          135,
          140,
          130,
          180,
          140,
          120,
          125,
          140,
          120,
          140,
          110,
          120,
          140,
          110,
          120,
          92,
          120,
          110,
          120,
          150,
          110,
          118,
          120,
          140,
          150,
          106,
          120,
          160,
          115,
          130,
          145,
          130,
          125,
          125,
          140,
          140,
          130,
          100,
          150,
          140,
          118,
          110,
          110,
          120,
          130,
          120,
          130,
          122,
          160,
          160,
          160,
          130,
          120,
          170,
          120,
          120,
          130,
          130,
          140,
          200,
          140,
          150,
          150,
          160,
          130,
          130,
          120,
          150,
          130,
          140,
          130,
          140,
          135,
          112,
          130,
          140,
          160,
          145,
          180,
          140,
          140,
          160,
          145,
          150,
          170,
          136,
          130,
          140,
          170,
          140,
          120,
          140,
          135,
          160,
          128,
          150,
          140,
          140,
          140,
          160,
          155,
          130,
          95,
          115,
          29,
          110,
          100,
          115,
          135,
          150,
          95,
          125,
          105,
          145,
          100,
          115,
          140,
          110,
          100,
          115,
          110,
          155,
          110,
          160,
          115,
          115,
          120,
          145,
          110,
          120,
          130,
          130,
          140,
          95,
          130,
          135,
          165,
          95,
          120,
          130,
          105,
          160,
          120,
          125,
          130,
          80,
          120,
          130,
          180,
          140,
          115,
          120,
          140,
          120,
          125,
          155,
          115,
          120,
          120,
          125,
          140,
          105,
          110,
          140,
          140,
          160,
          95,
          115,
          130,
          170,
          125,
          110,
          120,
          125,
          135,
          115,
          125,
          130,
          135,
          160,
          160,
          200,
          105,
          110,
          125,
          130,
          130,
          150,
          150,
          160,
          120,
          160,
          115,
          115,
          150,
          100,
          140,
          150,
          150,
          185,
          110,
          115,
          145,
          155,
          160,
          150,
          145,
          135,
          145,
          135,
          94,
          115,
          140,
          160,
          145,
          140,
          130,
          132,
          142,
          110,
          120,
          150,
          180,
          120,
          160,
          126,
          140,
          110,
          179,
          128,
          120,
          170,
          110,
          126,
          152,
          116,
          120,
          130,
          179,
          128,
          130,
          179,
          130,
          120,
          179,
          179,
          124,
          160,
          0,
          122,
          144,
          179,
          120,
          179,
          154,
          120,
          125,
          179,
          104,
          179,
          136,
          122,
          128,
          179,
          134,
          120,
          152,
          124,
          126,
          138,
          154,
          179,
          179,
          178,
          179,
          110,
          130,
          170,
          126,
          140,
          142,
          120,
          179,
          179,
          110,
          140,
          179,
          136,
          120,
          170,
          130,
          179,
          142,
          132,
          146,
          160,
          135,
          136,
          130,
          140,
          179,
          158,
          179,
          136,
          106,
          120,
          110,
          179,
          160,
          21,
          112,
          122,
          130,
          150,
          150,
          102,
          96,
          130,
          120,
          144,
          124,
          150,
          21,
          179,
          179,
          21,
          179,
          21,
          179,
          116,
          110,
          125,
          179,
          179,
          150,
          130,
          110,
          179,
          104,
          170,
          21,
          132,
          142,
          112,
          179,
          172,
          120,
          179,
          179,
          155,
          150,
          160,
          179,
          179,
          134,
          179,
          179,
          140,
          179,
          144,
          179,
          150,
          130,
          110,
          158,
          128,
          179,
          150,
          160,
          179,
          179,
          179,
          179,
          156,
          179,
          179,
          140,
          122,
          179,
          179,
          180,
          124,
          118,
          140,
          140,
          179,
          100,
          190,
          130,
          160,
          130,
          122,
          179,
          120,
          130,
          130,
          179,
          120,
          150,
          155,
          134,
          160,
          144,
          158,
          134,
          179,
          122,
          179,
          120
         ]
        },
        {
         "boxmean": true,
         "marker": {
          "color": "red"
         },
         "name": "Женщины",
         "type": "box",
         "y": [
          130,
          140,
          120,
          140,
          130,
          150,
          120,
          120,
          150,
          140,
          150,
          160,
          130,
          140,
          105,
          130,
          142,
          135,
          155,
          160,
          140,
          130,
          128,
          138,
          130,
          160,
          108,
          135,
          150,
          128,
          110,
          145,
          132,
          130,
          138,
          150,
          130,
          200,
          124,
          122,
          135,
          102,
          102,
          115,
          110,
          100,
          132,
          112,
          174,
          140,
          134,
          158,
          140,
          138,
          120,
          138,
          120,
          110,
          180,
          140,
          150,
          120,
          178,
          105,
          138,
          130,
          112,
          108,
          94,
          108,
          118,
          152,
          136,
          180,
          120,
          160,
          134,
          126,
          130,
          120,
          120,
          120,
          106,
          140,
          118,
          136,
          150,
          112,
          146,
          138,
          130,
          128,
          170,
          132,
          124,
          140,
          130,
          170,
          100,
          105,
          130,
          120,
          140,
          120,
          130,
          130,
          120,
          110,
          110,
          125,
          130,
          115,
          100,
          120,
          120,
          120,
          120,
          150,
          150,
          120,
          130,
          180,
          132,
          130,
          140,
          130,
          169,
          120,
          120,
          120,
          108,
          120,
          150,
          110,
          110,
          124,
          130,
          110,
          120,
          160,
          110,
          130,
          150,
          120,
          140,
          125,
          130,
          113,
          140,
          120,
          120,
          120,
          120,
          130,
          140,
          150,
          160,
          110,
          122,
          130,
          130,
          130,
          180,
          130,
          130,
          160,
          100,
          160,
          140,
          160,
          130,
          150,
          135,
          138,
          120,
          120,
          130,
          180,
          105,
          110,
          160,
          120,
          140,
          120,
          200,
          95,
          155,
          160,
          179,
          142,
          138,
          140,
          114,
          127
         ]
        }
       ],
       "layout": {
        "template": {
         "data": {
          "bar": [
           {
            "error_x": {
             "color": "#2a3f5f"
            },
            "error_y": {
             "color": "#2a3f5f"
            },
            "marker": {
             "line": {
              "color": "#E5ECF6",
              "width": 0.5
             },
             "pattern": {
              "fillmode": "overlay",
              "size": 10,
              "solidity": 0.2
             }
            },
            "type": "bar"
           }
          ],
          "barpolar": [
           {
            "marker": {
             "line": {
              "color": "#E5ECF6",
              "width": 0.5
             },
             "pattern": {
              "fillmode": "overlay",
              "size": 10,
              "solidity": 0.2
             }
            },
            "type": "barpolar"
           }
          ],
          "carpet": [
           {
            "aaxis": {
             "endlinecolor": "#2a3f5f",
             "gridcolor": "white",
             "linecolor": "white",
             "minorgridcolor": "white",
             "startlinecolor": "#2a3f5f"
            },
            "baxis": {
             "endlinecolor": "#2a3f5f",
             "gridcolor": "white",
             "linecolor": "white",
             "minorgridcolor": "white",
             "startlinecolor": "#2a3f5f"
            },
            "type": "carpet"
           }
          ],
          "choropleth": [
           {
            "colorbar": {
             "outlinewidth": 0,
             "ticks": ""
            },
            "type": "choropleth"
           }
          ],
          "contour": [
           {
            "colorbar": {
             "outlinewidth": 0,
             "ticks": ""
            },
            "colorscale": [
             [
              0,
              "#0d0887"
             ],
             [
              0.1111111111111111,
              "#46039f"
             ],
             [
              0.2222222222222222,
              "#7201a8"
             ],
             [
              0.3333333333333333,
              "#9c179e"
             ],
             [
              0.4444444444444444,
              "#bd3786"
             ],
             [
              0.5555555555555556,
              "#d8576b"
             ],
             [
              0.6666666666666666,
              "#ed7953"
             ],
             [
              0.7777777777777778,
              "#fb9f3a"
             ],
             [
              0.8888888888888888,
              "#fdca26"
             ],
             [
              1,
              "#f0f921"
             ]
            ],
            "type": "contour"
           }
          ],
          "contourcarpet": [
           {
            "colorbar": {
             "outlinewidth": 0,
             "ticks": ""
            },
            "type": "contourcarpet"
           }
          ],
          "heatmap": [
           {
            "colorbar": {
             "outlinewidth": 0,
             "ticks": ""
            },
            "colorscale": [
             [
              0,
              "#0d0887"
             ],
             [
              0.1111111111111111,
              "#46039f"
             ],
             [
              0.2222222222222222,
              "#7201a8"
             ],
             [
              0.3333333333333333,
              "#9c179e"
             ],
             [
              0.4444444444444444,
              "#bd3786"
             ],
             [
              0.5555555555555556,
              "#d8576b"
             ],
             [
              0.6666666666666666,
              "#ed7953"
             ],
             [
              0.7777777777777778,
              "#fb9f3a"
             ],
             [
              0.8888888888888888,
              "#fdca26"
             ],
             [
              1,
              "#f0f921"
             ]
            ],
            "type": "heatmap"
           }
          ],
          "heatmapgl": [
           {
            "colorbar": {
             "outlinewidth": 0,
             "ticks": ""
            },
            "colorscale": [
             [
              0,
              "#0d0887"
             ],
             [
              0.1111111111111111,
              "#46039f"
             ],
             [
              0.2222222222222222,
              "#7201a8"
             ],
             [
              0.3333333333333333,
              "#9c179e"
             ],
             [
              0.4444444444444444,
              "#bd3786"
             ],
             [
              0.5555555555555556,
              "#d8576b"
             ],
             [
              0.6666666666666666,
              "#ed7953"
             ],
             [
              0.7777777777777778,
              "#fb9f3a"
             ],
             [
              0.8888888888888888,
              "#fdca26"
             ],
             [
              1,
              "#f0f921"
             ]
            ],
            "type": "heatmapgl"
           }
          ],
          "histogram": [
           {
            "marker": {
             "pattern": {
              "fillmode": "overlay",
              "size": 10,
              "solidity": 0.2
             }
            },
            "type": "histogram"
           }
          ],
          "histogram2d": [
           {
            "colorbar": {
             "outlinewidth": 0,
             "ticks": ""
            },
            "colorscale": [
             [
              0,
              "#0d0887"
             ],
             [
              0.1111111111111111,
              "#46039f"
             ],
             [
              0.2222222222222222,
              "#7201a8"
             ],
             [
              0.3333333333333333,
              "#9c179e"
             ],
             [
              0.4444444444444444,
              "#bd3786"
             ],
             [
              0.5555555555555556,
              "#d8576b"
             ],
             [
              0.6666666666666666,
              "#ed7953"
             ],
             [
              0.7777777777777778,
              "#fb9f3a"
             ],
             [
              0.8888888888888888,
              "#fdca26"
             ],
             [
              1,
              "#f0f921"
             ]
            ],
            "type": "histogram2d"
           }
          ],
          "histogram2dcontour": [
           {
            "colorbar": {
             "outlinewidth": 0,
             "ticks": ""
            },
            "colorscale": [
             [
              0,
              "#0d0887"
             ],
             [
              0.1111111111111111,
              "#46039f"
             ],
             [
              0.2222222222222222,
              "#7201a8"
             ],
             [
              0.3333333333333333,
              "#9c179e"
             ],
             [
              0.4444444444444444,
              "#bd3786"
             ],
             [
              0.5555555555555556,
              "#d8576b"
             ],
             [
              0.6666666666666666,
              "#ed7953"
             ],
             [
              0.7777777777777778,
              "#fb9f3a"
             ],
             [
              0.8888888888888888,
              "#fdca26"
             ],
             [
              1,
              "#f0f921"
             ]
            ],
            "type": "histogram2dcontour"
           }
          ],
          "mesh3d": [
           {
            "colorbar": {
             "outlinewidth": 0,
             "ticks": ""
            },
            "type": "mesh3d"
           }
          ],
          "parcoords": [
           {
            "line": {
             "colorbar": {
              "outlinewidth": 0,
              "ticks": ""
             }
            },
            "type": "parcoords"
           }
          ],
          "pie": [
           {
            "automargin": true,
            "type": "pie"
           }
          ],
          "scatter": [
           {
            "fillpattern": {
             "fillmode": "overlay",
             "size": 10,
             "solidity": 0.2
            },
            "type": "scatter"
           }
          ],
          "scatter3d": [
           {
            "line": {
             "colorbar": {
              "outlinewidth": 0,
              "ticks": ""
             }
            },
            "marker": {
             "colorbar": {
              "outlinewidth": 0,
              "ticks": ""
             }
            },
            "type": "scatter3d"
           }
          ],
          "scattercarpet": [
           {
            "marker": {
             "colorbar": {
              "outlinewidth": 0,
              "ticks": ""
             }
            },
            "type": "scattercarpet"
           }
          ],
          "scattergeo": [
           {
            "marker": {
             "colorbar": {
              "outlinewidth": 0,
              "ticks": ""
             }
            },
            "type": "scattergeo"
           }
          ],
          "scattergl": [
           {
            "marker": {
             "colorbar": {
              "outlinewidth": 0,
              "ticks": ""
             }
            },
            "type": "scattergl"
           }
          ],
          "scattermapbox": [
           {
            "marker": {
             "colorbar": {
              "outlinewidth": 0,
              "ticks": ""
             }
            },
            "type": "scattermapbox"
           }
          ],
          "scatterpolar": [
           {
            "marker": {
             "colorbar": {
              "outlinewidth": 0,
              "ticks": ""
             }
            },
            "type": "scatterpolar"
           }
          ],
          "scatterpolargl": [
           {
            "marker": {
             "colorbar": {
              "outlinewidth": 0,
              "ticks": ""
             }
            },
            "type": "scatterpolargl"
           }
          ],
          "scatterternary": [
           {
            "marker": {
             "colorbar": {
              "outlinewidth": 0,
              "ticks": ""
             }
            },
            "type": "scatterternary"
           }
          ],
          "surface": [
           {
            "colorbar": {
             "outlinewidth": 0,
             "ticks": ""
            },
            "colorscale": [
             [
              0,
              "#0d0887"
             ],
             [
              0.1111111111111111,
              "#46039f"
             ],
             [
              0.2222222222222222,
              "#7201a8"
             ],
             [
              0.3333333333333333,
              "#9c179e"
             ],
             [
              0.4444444444444444,
              "#bd3786"
             ],
             [
              0.5555555555555556,
              "#d8576b"
             ],
             [
              0.6666666666666666,
              "#ed7953"
             ],
             [
              0.7777777777777778,
              "#fb9f3a"
             ],
             [
              0.8888888888888888,
              "#fdca26"
             ],
             [
              1,
              "#f0f921"
             ]
            ],
            "type": "surface"
           }
          ],
          "table": [
           {
            "cells": {
             "fill": {
              "color": "#EBF0F8"
             },
             "line": {
              "color": "white"
             }
            },
            "header": {
             "fill": {
              "color": "#C8D4E3"
             },
             "line": {
              "color": "white"
             }
            },
            "type": "table"
           }
          ]
         },
         "layout": {
          "annotationdefaults": {
           "arrowcolor": "#2a3f5f",
           "arrowhead": 0,
           "arrowwidth": 1
          },
          "autotypenumbers": "strict",
          "coloraxis": {
           "colorbar": {
            "outlinewidth": 0,
            "ticks": ""
           }
          },
          "colorscale": {
           "diverging": [
            [
             0,
             "#8e0152"
            ],
            [
             0.1,
             "#c51b7d"
            ],
            [
             0.2,
             "#de77ae"
            ],
            [
             0.3,
             "#f1b6da"
            ],
            [
             0.4,
             "#fde0ef"
            ],
            [
             0.5,
             "#f7f7f7"
            ],
            [
             0.6,
             "#e6f5d0"
            ],
            [
             0.7,
             "#b8e186"
            ],
            [
             0.8,
             "#7fbc41"
            ],
            [
             0.9,
             "#4d9221"
            ],
            [
             1,
             "#276419"
            ]
           ],
           "sequential": [
            [
             0,
             "#0d0887"
            ],
            [
             0.1111111111111111,
             "#46039f"
            ],
            [
             0.2222222222222222,
             "#7201a8"
            ],
            [
             0.3333333333333333,
             "#9c179e"
            ],
            [
             0.4444444444444444,
             "#bd3786"
            ],
            [
             0.5555555555555556,
             "#d8576b"
            ],
            [
             0.6666666666666666,
             "#ed7953"
            ],
            [
             0.7777777777777778,
             "#fb9f3a"
            ],
            [
             0.8888888888888888,
             "#fdca26"
            ],
            [
             1,
             "#f0f921"
            ]
           ],
           "sequentialminus": [
            [
             0,
             "#0d0887"
            ],
            [
             0.1111111111111111,
             "#46039f"
            ],
            [
             0.2222222222222222,
             "#7201a8"
            ],
            [
             0.3333333333333333,
             "#9c179e"
            ],
            [
             0.4444444444444444,
             "#bd3786"
            ],
            [
             0.5555555555555556,
             "#d8576b"
            ],
            [
             0.6666666666666666,
             "#ed7953"
            ],
            [
             0.7777777777777778,
             "#fb9f3a"
            ],
            [
             0.8888888888888888,
             "#fdca26"
            ],
            [
             1,
             "#f0f921"
            ]
           ]
          },
          "colorway": [
           "#636efa",
           "#EF553B",
           "#00cc96",
           "#ab63fa",
           "#FFA15A",
           "#19d3f3",
           "#FF6692",
           "#B6E880",
           "#FF97FF",
           "#FECB52"
          ],
          "font": {
           "color": "#2a3f5f"
          },
          "geo": {
           "bgcolor": "white",
           "lakecolor": "white",
           "landcolor": "#E5ECF6",
           "showlakes": true,
           "showland": true,
           "subunitcolor": "white"
          },
          "hoverlabel": {
           "align": "left"
          },
          "hovermode": "closest",
          "mapbox": {
           "style": "light"
          },
          "paper_bgcolor": "white",
          "plot_bgcolor": "#E5ECF6",
          "polar": {
           "angularaxis": {
            "gridcolor": "white",
            "linecolor": "white",
            "ticks": ""
           },
           "bgcolor": "#E5ECF6",
           "radialaxis": {
            "gridcolor": "white",
            "linecolor": "white",
            "ticks": ""
           }
          },
          "scene": {
           "xaxis": {
            "backgroundcolor": "#E5ECF6",
            "gridcolor": "white",
            "gridwidth": 2,
            "linecolor": "white",
            "showbackground": true,
            "ticks": "",
            "zerolinecolor": "white"
           },
           "yaxis": {
            "backgroundcolor": "#E5ECF6",
            "gridcolor": "white",
            "gridwidth": 2,
            "linecolor": "white",
            "showbackground": true,
            "ticks": "",
            "zerolinecolor": "white"
           },
           "zaxis": {
            "backgroundcolor": "#E5ECF6",
            "gridcolor": "white",
            "gridwidth": 2,
            "linecolor": "white",
            "showbackground": true,
            "ticks": "",
            "zerolinecolor": "white"
           }
          },
          "shapedefaults": {
           "line": {
            "color": "#2a3f5f"
           }
          },
          "ternary": {
           "aaxis": {
            "gridcolor": "white",
            "linecolor": "white",
            "ticks": ""
           },
           "baxis": {
            "gridcolor": "white",
            "linecolor": "white",
            "ticks": ""
           },
           "bgcolor": "#E5ECF6",
           "caxis": {
            "gridcolor": "white",
            "linecolor": "white",
            "ticks": ""
           }
          },
          "title": {
           "x": 0.05
          },
          "xaxis": {
           "automargin": true,
           "gridcolor": "white",
           "linecolor": "white",
           "ticks": "",
           "title": {
            "standoff": 15
           },
           "zerolinecolor": "white",
           "zerolinewidth": 2
          },
          "yaxis": {
           "automargin": true,
           "gridcolor": "white",
           "linecolor": "white",
           "ticks": "",
           "title": {
            "standoff": 15
           },
           "zerolinecolor": "white",
           "zerolinewidth": 2
          }
         }
        },
        "title": {
         "text": "КД Распределение",
         "x": 1
        },
        "xaxis": {
         "linecolor": "black",
         "linewidth": 2,
         "mirror": true,
         "showline": true
        },
        "yaxis": {
         "linecolor": "black",
         "linewidth": 2,
         "mirror": true,
         "showline": true,
         "title": {
          "text": "Кровяное давление (mm/Hg)"
         }
        }
       }
      }
     },
     "metadata": {},
     "output_type": "display_data"
    }
   ],
   "source": [
    "# проверим стольбец trestbps на выбросы\n",
    "# распределим на категории \n",
    "\n",
    "fig = go.Figure()\n",
    "\n",
    "fig.add_trace(go.Box(y=data['trestbps'].values , name='Давление', marker_color = 'green', boxmean=True))\n",
    "fig.add_trace(go.Box(y=data[data['sex']=='Male']['trestbps'].values, name ='Мужчины', marker_color = 'blue', boxmean = True))\n",
    "fig.add_trace(go.Box(y=data[data['sex']=='Female']['trestbps'].values, name ='Женщины', marker_color = 'red', boxmean = True))\n",
    "\n",
    "fig.update_layout(title = 'КД Распределение', yaxis_title = 'Кровяное давление (mm/Hg)', title_x = 1)\n",
    "fig.update_xaxes(showline=True, linewidth=2, linecolor='black', mirror=True)\n",
    "fig.update_yaxes(showline=True, linewidth=2, linecolor='black', mirror=True)\n",
    "\n",
    "fig.show()"
   ]
  },
  {
   "cell_type": "markdown",
   "metadata": {
    "pycharm": {
     "name": "#%% md\n"
    }
   },
   "source": [
    "Не все, что за усами, это выбросы. Равно как не все, что в их пределах, это не выбросы. Диапазон кровянного давления 70 - 150, может быть и выше,  но это признаки заболевания, а вот экстремально низкие можно считать выбросами. Выбросами здесь могут быть точки у нижней границы усов для категории мужчин. \n",
    "\n"
   ]
  },
  {
   "cell_type": "code",
   "execution_count": 860,
   "metadata": {
    "pycharm": {
     "name": "#%%\n"
    }
   },
   "outputs": [],
   "source": [
    "# удалим значения давления ниже 30\n",
    "data = data.query('trestbps > 30')"
   ]
  },
  {
   "cell_type": "markdown",
   "metadata": {
    "pycharm": {
     "name": "#%% md\n"
    }
   },
   "source": [
    "Возможно, кровянное давление зависит от состояния сердца."
   ]
  },
  {
   "cell_type": "code",
   "execution_count": 861,
   "metadata": {
    "pycharm": {
     "name": "#%%\n"
    }
   },
   "outputs": [
    {
     "data": {
      "application/vnd.plotly.v1+json": {
       "config": {
        "plotlyServerURL": "https://plot.ly"
       },
       "data": [
        {
         "marker": {
          "color": "green"
         },
         "name": "Все пациенты",
         "type": "violin",
         "y": [
          145,
          160,
          120,
          130,
          130,
          120,
          140,
          120,
          130,
          140,
          140,
          140,
          130,
          120,
          172,
          150,
          110,
          140,
          130,
          130,
          110,
          150,
          120,
          132,
          130,
          120,
          120,
          150,
          150,
          110,
          140,
          117,
          140,
          135,
          130,
          140,
          120,
          150,
          132,
          150,
          150,
          140,
          160,
          150,
          130,
          112,
          110,
          150,
          140,
          130,
          105,
          120,
          112,
          130,
          130,
          124,
          140,
          110,
          125,
          125,
          130,
          142,
          128,
          135,
          120,
          145,
          140,
          150,
          170,
          150,
          155,
          125,
          120,
          110,
          110,
          160,
          125,
          140,
          130,
          150,
          104,
          130,
          140,
          180,
          120,
          140,
          138,
          128,
          138,
          130,
          120,
          160,
          130,
          108,
          135,
          128,
          110,
          150,
          134,
          122,
          115,
          118,
          128,
          110,
          120,
          108,
          140,
          128,
          120,
          118,
          145,
          125,
          118,
          132,
          130,
          135,
          140,
          138,
          130,
          135,
          130,
          150,
          100,
          140,
          138,
          130,
          200,
          110,
          120,
          124,
          120,
          94,
          130,
          140,
          122,
          135,
          145,
          120,
          120,
          125,
          140,
          170,
          128,
          125,
          105,
          108,
          165,
          112,
          128,
          102,
          152,
          102,
          115,
          160,
          120,
          130,
          140,
          125,
          140,
          118,
          101,
          125,
          110,
          100,
          124,
          132,
          138,
          132,
          126,
          112,
          160,
          142,
          174,
          140,
          145,
          152,
          108,
          132,
          130,
          130,
          124,
          134,
          148,
          178,
          158,
          140,
          120,
          160,
          192,
          140,
          129,
          140,
          132,
          138,
          120,
          100,
          160,
          138,
          120,
          160,
          110,
          180,
          150,
          140,
          110,
          142,
          128,
          144,
          130,
          150,
          120,
          120,
          130,
          178,
          112,
          120,
          105,
          138,
          130,
          138,
          112,
          108,
          94,
          123,
          108,
          118,
          112,
          152,
          110,
          112,
          136,
          180,
          118,
          120,
          160,
          122,
          130,
          120,
          134,
          120,
          110,
          126,
          130,
          134,
          120,
          120,
          100,
          110,
          125,
          128,
          110,
          146,
          128,
          120,
          115,
          120,
          106,
          140,
          156,
          124,
          118,
          136,
          150,
          120,
          138,
          136,
          128,
          126,
          152,
          130,
          140,
          160,
          140,
          112,
          134,
          170,
          146,
          138,
          154,
          130,
          110,
          130,
          128,
          122,
          148,
          114,
          170,
          125,
          130,
          120,
          152,
          132,
          120,
          140,
          124,
          120,
          164,
          140,
          110,
          144,
          130,
          130,
          138,
          130,
          120,
          140,
          170,
          100,
          105,
          110,
          125,
          120,
          130,
          150,
          98,
          120,
          140,
          120,
          150,
          120,
          112,
          130,
          150,
          120,
          130,
          130,
          130,
          130,
          120,
          130,
          120,
          140,
          145,
          110,
          120,
          120,
          120,
          130,
          190,
          120,
          160,
          110,
          130,
          130,
          140,
          130,
          130,
          140,
          110,
          125,
          130,
          120,
          120,
          125,
          112,
          115,
          120,
          120,
          150,
          120,
          160,
          140,
          100,
          120,
          120,
          120,
          120,
          150,
          150,
          142,
          120,
          120,
          130,
          150,
          130,
          180,
          132,
          140,
          135,
          120,
          140,
          130,
          140,
          120,
          150,
          110,
          110,
          180,
          140,
          130,
          110,
          160,
          140,
          169,
          120,
          120,
          120,
          108,
          120,
          150,
          100,
          130,
          140,
          110,
          110,
          110,
          124,
          130,
          100,
          140,
          120,
          140,
          110,
          120,
          120,
          140,
          170,
          140,
          150,
          160,
          110,
          130,
          150,
          125,
          130,
          130,
          120,
          140,
          125,
          130,
          120,
          140,
          160,
          140,
          113,
          140,
          120,
          120,
          140,
          120,
          124,
          130,
          140,
          120,
          120,
          120,
          130,
          140,
          150,
          160,
          120,
          110,
          120,
          120,
          160,
          160,
          120,
          150,
          150,
          110,
          122,
          130,
          120,
          140,
          145,
          110,
          120,
          120,
          140,
          130,
          130,
          130,
          130,
          120,
          130,
          180,
          140,
          130,
          130,
          140,
          135,
          130,
          140,
          130,
          180,
          140,
          120,
          130,
          125,
          160,
          140,
          120,
          100,
          140,
          110,
          120,
          140,
          110,
          120,
          92,
          120,
          110,
          120,
          150,
          110,
          118,
          120,
          140,
          150,
          106,
          120,
          160,
          160,
          115,
          130,
          140,
          145,
          160,
          130,
          125,
          125,
          140,
          140,
          130,
          130,
          100,
          150,
          140,
          118,
          110,
          110,
          150,
          120,
          130,
          120,
          130,
          122,
          160,
          160,
          160,
          130,
          120,
          170,
          120,
          120,
          130,
          130,
          140,
          200,
          140,
          150,
          150,
          160,
          130,
          130,
          120,
          150,
          130,
          140,
          135,
          138,
          130,
          140,
          135,
          112,
          130,
          140,
          160,
          145,
          180,
          140,
          140,
          160,
          145,
          120,
          150,
          170,
          136,
          130,
          140,
          170,
          140,
          120,
          140,
          135,
          120,
          160,
          128,
          150,
          140,
          140,
          140,
          160,
          130,
          155,
          180,
          130,
          95,
          115,
          110,
          105,
          110,
          100,
          115,
          135,
          150,
          95,
          125,
          105,
          145,
          100,
          115,
          140,
          110,
          100,
          115,
          110,
          155,
          110,
          160,
          115,
          160,
          115,
          120,
          145,
          120,
          110,
          120,
          130,
          130,
          140,
          95,
          130,
          135,
          165,
          95,
          120,
          130,
          105,
          160,
          120,
          125,
          130,
          80,
          120,
          130,
          180,
          140,
          115,
          120,
          140,
          120,
          125,
          155,
          115,
          120,
          120,
          125,
          140,
          105,
          110,
          140,
          140,
          160,
          95,
          115,
          130,
          170,
          125,
          110,
          120,
          125,
          135,
          115,
          125,
          130,
          135,
          160,
          160,
          200,
          105,
          110,
          125,
          130,
          130,
          150,
          150,
          160,
          140,
          120,
          120,
          160,
          115,
          115,
          150,
          100,
          140,
          150,
          150,
          185,
          200,
          95,
          110,
          115,
          145,
          155,
          160,
          155,
          150,
          145,
          135,
          145,
          135,
          94,
          115,
          140,
          160,
          160,
          145,
          140,
          130,
          132,
          142,
          110,
          120,
          150,
          180,
          120,
          160,
          126,
          140,
          110,
          179,
          128,
          120,
          170,
          110,
          126,
          152,
          116,
          120,
          130,
          179,
          128,
          130,
          179,
          130,
          120,
          179,
          179,
          124,
          160,
          122,
          144,
          179,
          120,
          179,
          154,
          120,
          125,
          179,
          104,
          179,
          136,
          122,
          128,
          179,
          134,
          120,
          179,
          152,
          124,
          126,
          138,
          154,
          179,
          179,
          178,
          179,
          110,
          130,
          170,
          126,
          140,
          142,
          120,
          179,
          179,
          110,
          140,
          179,
          136,
          120,
          170,
          130,
          179,
          142,
          142,
          132,
          146,
          160,
          135,
          136,
          130,
          140,
          179,
          158,
          179,
          136,
          106,
          120,
          110,
          179,
          160,
          112,
          122,
          130,
          150,
          150,
          102,
          96,
          130,
          120,
          144,
          124,
          150,
          179,
          179,
          179,
          179,
          116,
          110,
          125,
          179,
          179,
          150,
          130,
          110,
          179,
          104,
          138,
          170,
          140,
          132,
          142,
          112,
          179,
          172,
          120,
          179,
          179,
          155,
          150,
          160,
          179,
          179,
          134,
          179,
          179,
          140,
          179,
          144,
          179,
          150,
          130,
          110,
          158,
          128,
          179,
          150,
          160,
          179,
          179,
          179,
          179,
          156,
          179,
          179,
          140,
          122,
          179,
          179,
          180,
          124,
          118,
          140,
          140,
          179,
          100,
          190,
          130,
          160,
          130,
          122,
          179,
          120,
          130,
          130,
          179,
          120,
          150,
          155,
          134,
          114,
          160,
          144,
          158,
          134,
          127,
          179,
          122,
          179,
          120
         ]
        },
        {
         "marker": {
          "color": "blue"
         },
         "name": "Отсутствие видимых сердечных заболеваний",
         "type": "violin",
         "y": [
          145,
          130,
          130,
          120,
          120,
          140,
          140,
          120,
          172,
          150,
          140,
          130,
          130,
          110,
          150,
          120,
          120,
          150,
          150,
          140,
          135,
          130,
          140,
          150,
          140,
          160,
          150,
          110,
          140,
          130,
          105,
          120,
          130,
          125,
          125,
          142,
          135,
          150,
          155,
          160,
          140,
          130,
          104,
          130,
          140,
          120,
          140,
          138,
          128,
          138,
          130,
          120,
          130,
          108,
          135,
          134,
          122,
          115,
          118,
          128,
          110,
          108,
          118,
          135,
          140,
          138,
          100,
          130,
          120,
          124,
          120,
          94,
          130,
          140,
          122,
          135,
          125,
          140,
          128,
          105,
          112,
          128,
          102,
          152,
          102,
          115,
          118,
          101,
          110,
          100,
          124,
          132,
          138,
          132,
          112,
          142,
          140,
          108,
          130,
          130,
          148,
          178,
          140,
          120,
          129,
          120,
          160,
          138,
          120,
          110,
          180,
          150,
          140,
          110,
          130,
          120,
          130,
          120,
          105,
          138,
          130,
          138,
          112,
          108,
          94,
          118,
          112,
          152,
          136,
          120,
          160,
          134,
          120,
          110,
          126,
          130,
          120,
          128,
          110,
          128,
          120,
          115,
          120,
          106,
          140,
          156,
          118,
          150,
          120,
          130,
          160,
          112,
          170,
          146,
          138,
          130,
          130,
          122,
          125,
          130,
          120,
          132,
          120,
          138,
          130,
          120,
          140,
          170,
          100,
          105,
          110,
          125,
          120,
          130,
          150,
          98,
          120,
          140,
          120,
          150,
          120,
          112,
          130,
          150,
          120,
          130,
          130,
          130,
          130,
          120,
          130,
          120,
          140,
          145,
          110,
          120,
          120,
          120,
          130,
          190,
          120,
          160,
          110,
          130,
          130,
          140,
          130,
          130,
          140,
          110,
          125,
          130,
          120,
          120,
          125,
          112,
          115,
          120,
          120,
          150,
          120,
          160,
          140,
          100,
          120,
          120,
          120,
          120,
          150,
          150,
          142,
          120,
          120,
          130,
          150,
          130,
          180,
          132,
          140,
          135,
          120,
          140,
          130,
          140,
          120,
          150,
          110,
          110,
          180,
          140,
          130,
          110,
          160,
          140,
          169,
          120,
          120,
          120,
          108,
          120,
          150,
          100,
          130,
          140,
          110,
          110,
          110,
          124,
          130,
          100,
          140,
          120,
          140,
          110,
          120,
          120,
          140,
          170,
          140,
          150,
          160,
          110,
          130,
          150,
          125,
          130,
          130,
          120,
          140,
          125,
          130,
          120,
          140,
          160,
          140,
          113,
          140,
          120,
          120,
          140,
          120,
          124,
          130,
          140,
          120,
          120,
          120,
          130,
          140,
          150,
          160,
          120,
          110,
          120,
          120,
          160,
          160,
          120,
          150,
          150,
          110,
          122,
          130,
          120,
          140,
          145,
          110,
          120,
          120,
          140,
          130,
          130,
          130,
          130,
          120,
          130,
          180,
          140,
          130,
          130,
          140,
          135,
          130,
          140,
          130,
          180,
          140,
          120,
          130,
          125,
          160,
          140,
          100,
          110,
          130,
          80,
          140,
          120,
          155,
          160,
          130,
          110,
          120,
          180,
          126,
          120,
          126,
          152,
          179,
          120,
          154,
          104,
          128,
          134,
          179,
          124,
          179,
          179,
          110,
          179,
          132,
          179,
          106,
          179,
          130,
          130,
          150,
          179,
          110,
          140,
          179,
          120,
          155,
          160,
          179,
          179,
          140,
          150,
          179,
          118,
          179,
          100,
          179,
          130,
          134,
          114,
          179,
          179
         ]
        },
        {
         "marker": {
          "color": "red"
         },
         "name": "Легкая болезнь сердца",
         "type": "violin",
         "y": [
          120,
          140,
          110,
          120,
          140,
          150,
          130,
          130,
          124,
          140,
          110,
          128,
          140,
          150,
          120,
          110,
          110,
          125,
          128,
          128,
          145,
          125,
          138,
          120,
          170,
          125,
          108,
          130,
          140,
          125,
          126,
          174,
          152,
          132,
          158,
          192,
          132,
          160,
          150,
          112,
          108,
          118,
          120,
          110,
          146,
          124,
          152,
          140,
          134,
          154,
          152,
          124,
          140,
          110,
          130,
          120,
          100,
          140,
          110,
          120,
          140,
          110,
          120,
          92,
          120,
          110,
          120,
          150,
          110,
          118,
          120,
          140,
          150,
          106,
          120,
          160,
          160,
          115,
          130,
          140,
          145,
          160,
          130,
          125,
          125,
          140,
          140,
          130,
          130,
          100,
          150,
          140,
          118,
          110,
          110,
          150,
          120,
          130,
          120,
          130,
          122,
          160,
          160,
          160,
          130,
          120,
          170,
          120,
          120,
          130,
          130,
          140,
          200,
          140,
          150,
          150,
          160,
          130,
          130,
          120,
          150,
          130,
          140,
          135,
          138,
          130,
          140,
          135,
          112,
          130,
          140,
          160,
          145,
          180,
          140,
          140,
          160,
          145,
          120,
          150,
          170,
          136,
          130,
          140,
          170,
          140,
          120,
          140,
          135,
          120,
          160,
          128,
          150,
          140,
          140,
          140,
          160,
          130,
          155,
          180,
          130,
          95,
          115,
          110,
          110,
          115,
          150,
          105,
          100,
          115,
          110,
          160,
          160,
          145,
          130,
          105,
          160,
          120,
          180,
          115,
          115,
          140,
          105,
          95,
          115,
          170,
          125,
          125,
          135,
          115,
          130,
          160,
          105,
          110,
          150,
          120,
          120,
          115,
          100,
          185,
          95,
          110,
          115,
          155,
          145,
          135,
          115,
          160,
          145,
          142,
          160,
          140,
          110,
          179,
          128,
          110,
          120,
          130,
          120,
          179,
          125,
          122,
          120,
          126,
          178,
          130,
          120,
          179,
          179,
          170,
          142,
          158,
          179,
          110,
          112,
          122,
          150,
          102,
          96,
          144,
          124,
          179,
          179,
          130,
          179,
          138,
          132,
          112,
          179,
          110,
          158,
          179,
          179,
          180,
          124,
          140,
          130,
          122,
          120,
          130,
          179,
          158,
          127,
          120
         ]
        },
        {
         "marker": {
          "color": "red"
         },
         "name": "Умеренная болезнь сердца",
         "type": "violin",
         "y": [
          160,
          130,
          130,
          117,
          112,
          130,
          120,
          145,
          170,
          110,
          140,
          120,
          132,
          130,
          135,
          140,
          134,
          160,
          140,
          138,
          112,
          180,
          130,
          134,
          120,
          100,
          136,
          128,
          126,
          140,
          110,
          148,
          170,
          120,
          140,
          144,
          105,
          135,
          95,
          125,
          145,
          140,
          110,
          115,
          120,
          130,
          140,
          95,
          130,
          135,
          165,
          95,
          130,
          120,
          140,
          125,
          155,
          120,
          120,
          140,
          160,
          120,
          150,
          160,
          140,
          115,
          140,
          145,
          140,
          132,
          116,
          128,
          130,
          179,
          122,
          179,
          136,
          179,
          152,
          138,
          154,
          110,
          126,
          140,
          140,
          130,
          142,
          146,
          160,
          135,
          130,
          116,
          110,
          179,
          170,
          150,
          179,
          128,
          179,
          150,
          160,
          179,
          122,
          179,
          130,
          150,
          155,
          134,
          122
         ]
        },
        {
         "marker": {
          "color": "red"
         },
         "name": "Тяжелое заболевание сердца",
         "type": "violin",
         "y": [
          140,
          132,
          110,
          120,
          132,
          125,
          150,
          180,
          160,
          150,
          120,
          118,
          130,
          130,
          140,
          200,
          110,
          120,
          120,
          160,
          124,
          140,
          100,
          142,
          128,
          144,
          178,
          123,
          110,
          122,
          125,
          136,
          128,
          164,
          130,
          100,
          155,
          115,
          120,
          120,
          120,
          130,
          125,
          110,
          140,
          110,
          125,
          135,
          160,
          200,
          125,
          130,
          130,
          160,
          150,
          150,
          150,
          200,
          145,
          160,
          150,
          135,
          94,
          140,
          150,
          120,
          130,
          179,
          179,
          124,
          160,
          144,
          120,
          179,
          179,
          142,
          136,
          120,
          179,
          140,
          136,
          120,
          160,
          150,
          120,
          179,
          179,
          125,
          150,
          142,
          172,
          179,
          179,
          144,
          179,
          130,
          179,
          156,
          179,
          140,
          140,
          160,
          120,
          144
         ]
        },
        {
         "marker": {
          "color": "red"
         },
         "name": "Очень тяжелое заболевание сердца",
         "type": "violin",
         "y": [
          130,
          150,
          112,
          150,
          150,
          145,
          165,
          160,
          125,
          145,
          120,
          138,
          114,
          115,
          110,
          125,
          120,
          130,
          170,
          179,
          170,
          136,
          104,
          179,
          134,
          179,
          190,
          160
         ]
        }
       ],
       "layout": {
        "template": {
         "data": {
          "bar": [
           {
            "error_x": {
             "color": "#2a3f5f"
            },
            "error_y": {
             "color": "#2a3f5f"
            },
            "marker": {
             "line": {
              "color": "#E5ECF6",
              "width": 0.5
             },
             "pattern": {
              "fillmode": "overlay",
              "size": 10,
              "solidity": 0.2
             }
            },
            "type": "bar"
           }
          ],
          "barpolar": [
           {
            "marker": {
             "line": {
              "color": "#E5ECF6",
              "width": 0.5
             },
             "pattern": {
              "fillmode": "overlay",
              "size": 10,
              "solidity": 0.2
             }
            },
            "type": "barpolar"
           }
          ],
          "carpet": [
           {
            "aaxis": {
             "endlinecolor": "#2a3f5f",
             "gridcolor": "white",
             "linecolor": "white",
             "minorgridcolor": "white",
             "startlinecolor": "#2a3f5f"
            },
            "baxis": {
             "endlinecolor": "#2a3f5f",
             "gridcolor": "white",
             "linecolor": "white",
             "minorgridcolor": "white",
             "startlinecolor": "#2a3f5f"
            },
            "type": "carpet"
           }
          ],
          "choropleth": [
           {
            "colorbar": {
             "outlinewidth": 0,
             "ticks": ""
            },
            "type": "choropleth"
           }
          ],
          "contour": [
           {
            "colorbar": {
             "outlinewidth": 0,
             "ticks": ""
            },
            "colorscale": [
             [
              0,
              "#0d0887"
             ],
             [
              0.1111111111111111,
              "#46039f"
             ],
             [
              0.2222222222222222,
              "#7201a8"
             ],
             [
              0.3333333333333333,
              "#9c179e"
             ],
             [
              0.4444444444444444,
              "#bd3786"
             ],
             [
              0.5555555555555556,
              "#d8576b"
             ],
             [
              0.6666666666666666,
              "#ed7953"
             ],
             [
              0.7777777777777778,
              "#fb9f3a"
             ],
             [
              0.8888888888888888,
              "#fdca26"
             ],
             [
              1,
              "#f0f921"
             ]
            ],
            "type": "contour"
           }
          ],
          "contourcarpet": [
           {
            "colorbar": {
             "outlinewidth": 0,
             "ticks": ""
            },
            "type": "contourcarpet"
           }
          ],
          "heatmap": [
           {
            "colorbar": {
             "outlinewidth": 0,
             "ticks": ""
            },
            "colorscale": [
             [
              0,
              "#0d0887"
             ],
             [
              0.1111111111111111,
              "#46039f"
             ],
             [
              0.2222222222222222,
              "#7201a8"
             ],
             [
              0.3333333333333333,
              "#9c179e"
             ],
             [
              0.4444444444444444,
              "#bd3786"
             ],
             [
              0.5555555555555556,
              "#d8576b"
             ],
             [
              0.6666666666666666,
              "#ed7953"
             ],
             [
              0.7777777777777778,
              "#fb9f3a"
             ],
             [
              0.8888888888888888,
              "#fdca26"
             ],
             [
              1,
              "#f0f921"
             ]
            ],
            "type": "heatmap"
           }
          ],
          "heatmapgl": [
           {
            "colorbar": {
             "outlinewidth": 0,
             "ticks": ""
            },
            "colorscale": [
             [
              0,
              "#0d0887"
             ],
             [
              0.1111111111111111,
              "#46039f"
             ],
             [
              0.2222222222222222,
              "#7201a8"
             ],
             [
              0.3333333333333333,
              "#9c179e"
             ],
             [
              0.4444444444444444,
              "#bd3786"
             ],
             [
              0.5555555555555556,
              "#d8576b"
             ],
             [
              0.6666666666666666,
              "#ed7953"
             ],
             [
              0.7777777777777778,
              "#fb9f3a"
             ],
             [
              0.8888888888888888,
              "#fdca26"
             ],
             [
              1,
              "#f0f921"
             ]
            ],
            "type": "heatmapgl"
           }
          ],
          "histogram": [
           {
            "marker": {
             "pattern": {
              "fillmode": "overlay",
              "size": 10,
              "solidity": 0.2
             }
            },
            "type": "histogram"
           }
          ],
          "histogram2d": [
           {
            "colorbar": {
             "outlinewidth": 0,
             "ticks": ""
            },
            "colorscale": [
             [
              0,
              "#0d0887"
             ],
             [
              0.1111111111111111,
              "#46039f"
             ],
             [
              0.2222222222222222,
              "#7201a8"
             ],
             [
              0.3333333333333333,
              "#9c179e"
             ],
             [
              0.4444444444444444,
              "#bd3786"
             ],
             [
              0.5555555555555556,
              "#d8576b"
             ],
             [
              0.6666666666666666,
              "#ed7953"
             ],
             [
              0.7777777777777778,
              "#fb9f3a"
             ],
             [
              0.8888888888888888,
              "#fdca26"
             ],
             [
              1,
              "#f0f921"
             ]
            ],
            "type": "histogram2d"
           }
          ],
          "histogram2dcontour": [
           {
            "colorbar": {
             "outlinewidth": 0,
             "ticks": ""
            },
            "colorscale": [
             [
              0,
              "#0d0887"
             ],
             [
              0.1111111111111111,
              "#46039f"
             ],
             [
              0.2222222222222222,
              "#7201a8"
             ],
             [
              0.3333333333333333,
              "#9c179e"
             ],
             [
              0.4444444444444444,
              "#bd3786"
             ],
             [
              0.5555555555555556,
              "#d8576b"
             ],
             [
              0.6666666666666666,
              "#ed7953"
             ],
             [
              0.7777777777777778,
              "#fb9f3a"
             ],
             [
              0.8888888888888888,
              "#fdca26"
             ],
             [
              1,
              "#f0f921"
             ]
            ],
            "type": "histogram2dcontour"
           }
          ],
          "mesh3d": [
           {
            "colorbar": {
             "outlinewidth": 0,
             "ticks": ""
            },
            "type": "mesh3d"
           }
          ],
          "parcoords": [
           {
            "line": {
             "colorbar": {
              "outlinewidth": 0,
              "ticks": ""
             }
            },
            "type": "parcoords"
           }
          ],
          "pie": [
           {
            "automargin": true,
            "type": "pie"
           }
          ],
          "scatter": [
           {
            "fillpattern": {
             "fillmode": "overlay",
             "size": 10,
             "solidity": 0.2
            },
            "type": "scatter"
           }
          ],
          "scatter3d": [
           {
            "line": {
             "colorbar": {
              "outlinewidth": 0,
              "ticks": ""
             }
            },
            "marker": {
             "colorbar": {
              "outlinewidth": 0,
              "ticks": ""
             }
            },
            "type": "scatter3d"
           }
          ],
          "scattercarpet": [
           {
            "marker": {
             "colorbar": {
              "outlinewidth": 0,
              "ticks": ""
             }
            },
            "type": "scattercarpet"
           }
          ],
          "scattergeo": [
           {
            "marker": {
             "colorbar": {
              "outlinewidth": 0,
              "ticks": ""
             }
            },
            "type": "scattergeo"
           }
          ],
          "scattergl": [
           {
            "marker": {
             "colorbar": {
              "outlinewidth": 0,
              "ticks": ""
             }
            },
            "type": "scattergl"
           }
          ],
          "scattermapbox": [
           {
            "marker": {
             "colorbar": {
              "outlinewidth": 0,
              "ticks": ""
             }
            },
            "type": "scattermapbox"
           }
          ],
          "scatterpolar": [
           {
            "marker": {
             "colorbar": {
              "outlinewidth": 0,
              "ticks": ""
             }
            },
            "type": "scatterpolar"
           }
          ],
          "scatterpolargl": [
           {
            "marker": {
             "colorbar": {
              "outlinewidth": 0,
              "ticks": ""
             }
            },
            "type": "scatterpolargl"
           }
          ],
          "scatterternary": [
           {
            "marker": {
             "colorbar": {
              "outlinewidth": 0,
              "ticks": ""
             }
            },
            "type": "scatterternary"
           }
          ],
          "surface": [
           {
            "colorbar": {
             "outlinewidth": 0,
             "ticks": ""
            },
            "colorscale": [
             [
              0,
              "#0d0887"
             ],
             [
              0.1111111111111111,
              "#46039f"
             ],
             [
              0.2222222222222222,
              "#7201a8"
             ],
             [
              0.3333333333333333,
              "#9c179e"
             ],
             [
              0.4444444444444444,
              "#bd3786"
             ],
             [
              0.5555555555555556,
              "#d8576b"
             ],
             [
              0.6666666666666666,
              "#ed7953"
             ],
             [
              0.7777777777777778,
              "#fb9f3a"
             ],
             [
              0.8888888888888888,
              "#fdca26"
             ],
             [
              1,
              "#f0f921"
             ]
            ],
            "type": "surface"
           }
          ],
          "table": [
           {
            "cells": {
             "fill": {
              "color": "#EBF0F8"
             },
             "line": {
              "color": "white"
             }
            },
            "header": {
             "fill": {
              "color": "#C8D4E3"
             },
             "line": {
              "color": "white"
             }
            },
            "type": "table"
           }
          ]
         },
         "layout": {
          "annotationdefaults": {
           "arrowcolor": "#2a3f5f",
           "arrowhead": 0,
           "arrowwidth": 1
          },
          "autotypenumbers": "strict",
          "coloraxis": {
           "colorbar": {
            "outlinewidth": 0,
            "ticks": ""
           }
          },
          "colorscale": {
           "diverging": [
            [
             0,
             "#8e0152"
            ],
            [
             0.1,
             "#c51b7d"
            ],
            [
             0.2,
             "#de77ae"
            ],
            [
             0.3,
             "#f1b6da"
            ],
            [
             0.4,
             "#fde0ef"
            ],
            [
             0.5,
             "#f7f7f7"
            ],
            [
             0.6,
             "#e6f5d0"
            ],
            [
             0.7,
             "#b8e186"
            ],
            [
             0.8,
             "#7fbc41"
            ],
            [
             0.9,
             "#4d9221"
            ],
            [
             1,
             "#276419"
            ]
           ],
           "sequential": [
            [
             0,
             "#0d0887"
            ],
            [
             0.1111111111111111,
             "#46039f"
            ],
            [
             0.2222222222222222,
             "#7201a8"
            ],
            [
             0.3333333333333333,
             "#9c179e"
            ],
            [
             0.4444444444444444,
             "#bd3786"
            ],
            [
             0.5555555555555556,
             "#d8576b"
            ],
            [
             0.6666666666666666,
             "#ed7953"
            ],
            [
             0.7777777777777778,
             "#fb9f3a"
            ],
            [
             0.8888888888888888,
             "#fdca26"
            ],
            [
             1,
             "#f0f921"
            ]
           ],
           "sequentialminus": [
            [
             0,
             "#0d0887"
            ],
            [
             0.1111111111111111,
             "#46039f"
            ],
            [
             0.2222222222222222,
             "#7201a8"
            ],
            [
             0.3333333333333333,
             "#9c179e"
            ],
            [
             0.4444444444444444,
             "#bd3786"
            ],
            [
             0.5555555555555556,
             "#d8576b"
            ],
            [
             0.6666666666666666,
             "#ed7953"
            ],
            [
             0.7777777777777778,
             "#fb9f3a"
            ],
            [
             0.8888888888888888,
             "#fdca26"
            ],
            [
             1,
             "#f0f921"
            ]
           ]
          },
          "colorway": [
           "#636efa",
           "#EF553B",
           "#00cc96",
           "#ab63fa",
           "#FFA15A",
           "#19d3f3",
           "#FF6692",
           "#B6E880",
           "#FF97FF",
           "#FECB52"
          ],
          "font": {
           "color": "#2a3f5f"
          },
          "geo": {
           "bgcolor": "white",
           "lakecolor": "white",
           "landcolor": "#E5ECF6",
           "showlakes": true,
           "showland": true,
           "subunitcolor": "white"
          },
          "hoverlabel": {
           "align": "left"
          },
          "hovermode": "closest",
          "mapbox": {
           "style": "light"
          },
          "paper_bgcolor": "white",
          "plot_bgcolor": "#E5ECF6",
          "polar": {
           "angularaxis": {
            "gridcolor": "white",
            "linecolor": "white",
            "ticks": ""
           },
           "bgcolor": "#E5ECF6",
           "radialaxis": {
            "gridcolor": "white",
            "linecolor": "white",
            "ticks": ""
           }
          },
          "scene": {
           "xaxis": {
            "backgroundcolor": "#E5ECF6",
            "gridcolor": "white",
            "gridwidth": 2,
            "linecolor": "white",
            "showbackground": true,
            "ticks": "",
            "zerolinecolor": "white"
           },
           "yaxis": {
            "backgroundcolor": "#E5ECF6",
            "gridcolor": "white",
            "gridwidth": 2,
            "linecolor": "white",
            "showbackground": true,
            "ticks": "",
            "zerolinecolor": "white"
           },
           "zaxis": {
            "backgroundcolor": "#E5ECF6",
            "gridcolor": "white",
            "gridwidth": 2,
            "linecolor": "white",
            "showbackground": true,
            "ticks": "",
            "zerolinecolor": "white"
           }
          },
          "shapedefaults": {
           "line": {
            "color": "#2a3f5f"
           }
          },
          "ternary": {
           "aaxis": {
            "gridcolor": "white",
            "linecolor": "white",
            "ticks": ""
           },
           "baxis": {
            "gridcolor": "white",
            "linecolor": "white",
            "ticks": ""
           },
           "bgcolor": "#E5ECF6",
           "caxis": {
            "gridcolor": "white",
            "linecolor": "white",
            "ticks": ""
           }
          },
          "title": {
           "x": 0.05
          },
          "xaxis": {
           "automargin": true,
           "gridcolor": "white",
           "linecolor": "white",
           "ticks": "",
           "title": {
            "standoff": 15
           },
           "zerolinecolor": "white",
           "zerolinewidth": 2
          },
          "yaxis": {
           "automargin": true,
           "gridcolor": "white",
           "linecolor": "white",
           "ticks": "",
           "title": {
            "standoff": 15
           },
           "zerolinecolor": "white",
           "zerolinewidth": 2
          }
         }
        },
        "title": {
         "text": "Уровень кровянного давления в зависимости от степени болезни сердца",
         "x": 0.5
        },
        "xaxis": {
         "linecolor": "black",
         "linewidth": 2,
         "mirror": true,
         "showline": true
        },
        "yaxis": {
         "linecolor": "black",
         "linewidth": 2,
         "mirror": true,
         "showline": true,
         "title": {
          "text": "Кровяное давление"
         }
        }
       }
      }
     },
     "metadata": {},
     "output_type": "display_data"
    }
   ],
   "source": [
    "fig = go.Figure()\n",
    "fig.add_trace(go.Violin(y=data['trestbps'].values , name='Все пациенты', marker_color = 'green'))\n",
    "fig.add_trace(go.Violin(y=data[data['num'] == 0]['trestbps'].values, name ='Отсутствие видимых сердечных заболеваний', marker_color = 'blue'))\n",
    "fig.add_trace(go.Violin(y=data[data['num'] == 1]['trestbps'].values, name ='Легкая болезнь сердца', marker_color = 'red'))\n",
    "fig.add_trace(go.Violin(y=data[data['num'] == 2]['trestbps'].values, name ='Умеренная болезнь сердца', marker_color = 'red'))\n",
    "fig.add_trace(go.Violin(y=data[data['num'] == 3]['trestbps'].values, name ='Тяжелое заболевание сердца', marker_color = 'red'))\n",
    "fig.add_trace(go.Violin(y=data[data['num'] == 4]['trestbps'].values, name ='Очень тяжелое заболевание сердца', marker_color = 'red'))\n",
    "fig.update_layout(title = 'Уровень кровянного давления в зависимости от степени болезни сердца', yaxis_title = 'Кровяное давление', title_x = 0.5)\n",
    "fig.update_xaxes(showline=True, linewidth=2, linecolor='black', mirror=True)\n",
    "fig.update_yaxes(showline=True, linewidth=2, linecolor='black', mirror=True)\n",
    "fig.show() "
   ]
  },
  {
   "cell_type": "markdown",
   "metadata": {
    "pycharm": {
     "name": "#%% md\n"
    }
   },
   "source": [
    "При заболевании сердца нижняя планка кровяного давления с 80, поднимается от 90 и выше в зависимости от степени заболевания."
   ]
  },
  {
   "cell_type": "code",
   "execution_count": 862,
   "metadata": {
    "pycharm": {
     "name": "#%%\n"
    }
   },
   "outputs": [
    {
     "data": {
      "application/vnd.plotly.v1+json": {
       "config": {
        "plotlyServerURL": "https://plot.ly"
       },
       "data": [
        {
         "boxmean": true,
         "marker": {
          "color": "green"
         },
         "name": "Холестерин",
         "type": "box",
         "y": [
          233,
          286,
          229,
          250,
          204,
          236,
          268,
          354,
          254,
          203,
          192,
          294,
          256,
          263,
          199,
          168,
          229,
          239,
          275,
          266,
          211,
          283,
          284,
          224,
          206,
          219,
          340,
          226,
          247,
          167,
          239,
          230,
          335,
          234,
          233,
          226,
          177,
          276,
          353,
          243,
          225,
          199,
          302,
          212,
          330,
          230,
          175,
          243,
          417,
          197,
          198,
          177,
          290,
          219,
          253,
          266,
          233,
          172,
          273,
          213,
          305,
          177,
          216,
          304,
          188,
          282,
          185,
          232,
          326,
          231,
          269,
          254,
          267,
          248,
          197,
          360,
          258,
          308,
          245,
          270,
          208,
          264,
          321,
          274,
          325,
          235,
          257,
          216,
          234,
          256,
          302,
          164,
          231,
          141,
          252,
          255,
          239,
          258,
          201,
          222,
          260,
          182,
          303,
          265,
          188,
          309,
          177,
          229,
          260,
          219,
          307,
          249,
          186,
          341,
          263,
          203,
          211,
          183,
          330,
          254,
          256,
          407,
          222,
          217,
          282,
          234,
          288,
          239,
          220,
          209,
          258,
          227,
          204,
          261,
          213,
          250,
          174,
          281,
          198,
          245,
          221,
          288,
          205,
          309,
          240,
          243,
          289,
          250,
          308,
          318,
          298,
          265,
          564,
          289,
          246,
          322,
          299,
          300,
          293,
          277,
          197,
          304,
          214,
          248,
          255,
          207,
          223,
          288,
          282,
          160,
          269,
          226,
          249,
          394,
          212,
          274,
          233,
          184,
          315,
          246,
          274,
          409,
          244,
          270,
          305,
          195,
          240,
          246,
          283,
          254,
          196,
          298,
          247,
          294,
          211,
          299,
          234,
          236,
          244,
          273,
          254,
          325,
          126,
          313,
          211,
          309,
          259,
          200,
          262,
          244,
          215,
          231,
          214,
          228,
          230,
          193,
          204,
          243,
          303,
          271,
          268,
          267,
          199,
          282,
          269,
          210,
          204,
          277,
          206,
          212,
          196,
          327,
          149,
          269,
          201,
          286,
          283,
          249,
          271,
          295,
          235,
          306,
          269,
          234,
          178,
          237,
          234,
          275,
          212,
          208,
          201,
          218,
          263,
          295,
          303,
          209,
          223,
          197,
          245,
          261,
          242,
          319,
          240,
          226,
          166,
          315,
          204,
          218,
          223,
          180,
          207,
          228,
          311,
          149,
          204,
          227,
          278,
          220,
          232,
          197,
          335,
          253,
          205,
          192,
          203,
          318,
          225,
          220,
          221,
          240,
          212,
          342,
          169,
          187,
          197,
          157,
          176,
          241,
          264,
          193,
          131,
          236,
          175,
          132,
          243,
          218,
          237,
          219,
          198,
          225,
          254,
          298,
          161,
          214,
          220,
          160,
          167,
          308,
          264,
          166,
          340,
          209,
          160,
          260,
          211,
          173,
          283,
          194,
          223,
          315,
          275,
          297,
          292,
          182,
          218,
          200,
          204,
          218,
          241,
          339,
          147,
          273,
          307,
          275,
          289,
          215,
          281,
          218,
          250,
          184,
          245,
          291,
          295,
          269,
          250,
          211,
          196,
          198,
          268,
          228,
          147,
          358,
          223,
          201,
          215,
          249,
          266,
          186,
          250,
          207,
          218,
          184,
          215,
          412,
          237,
          250,
          297,
          224,
          218,
          225,
          224,
          238,
          275,
          230,
          163,
          238,
          240,
          280,
          257,
          250,
          249,
          263,
          276,
          308,
          250,
          284,
          195,
          163,
          254,
          227,
          142,
          245,
          238,
          211,
          241,
          241,
          201,
          207,
          253,
          187,
          297,
          218,
          202,
          328,
          168,
          216,
          209,
          129,
          215,
          194,
          190,
          220,
          200,
          188,
          224,
          179,
          210,
          250,
          272,
          180,
          284,
          100,
          196,
          259,
          468,
          216,
          274,
          218,
          320,
          195,
          260,
          182,
          243,
          221,
          230,
          273,
          253,
          309,
          230,
          312,
          171,
          208,
          238,
          246,
          195,
          305,
          217,
          218,
          365,
          344,
          320,
          394,
          256,
          196,
          326,
          277,
          220,
          270,
          229,
          219,
          184,
          218,
          276,
          85,
          308,
          347,
          260,
          230,
          251,
          179,
          222,
          188,
          287,
          318,
          213,
          218,
          246,
          294,
          292,
          193,
          271,
          270,
          246,
          156,
          257,
          267,
          207,
          196,
          282,
          117,
          466,
          289,
          237,
          247,
          202,
          186,
          277,
          193,
          226,
          263,
          260,
          268,
          180,
          265,
          206,
          288,
          264,
          303,
          225,
          216,
          224,
          201,
          265,
          213,
          338,
          248,
          223,
          306,
          529,
          191,
          280,
          392,
          291,
          219,
          231,
          222,
          275,
          193,
          329,
          355,
          233,
          182,
          218,
          246,
          237,
          242,
          603,
          218,
          198,
          268,
          213,
          255,
          211,
          263,
          172,
          175,
          288,
          290,
          272,
          248,
          214,
          341,
          234,
          160,
          342,
          298,
          404,
          246,
          518,
          285,
          216,
          295,
          292,
          248,
          279,
          230,
          388,
          164,
          218,
          264,
          263,
          218,
          336,
          288,
          491,
          205,
          291,
          212,
          222,
          231,
          341,
          266,
          331,
          294,
          342,
          393,
          275,
          29,
          29,
          29,
          29,
          29,
          29,
          29,
          29,
          29,
          29,
          29,
          29,
          29,
          29,
          29,
          29,
          29,
          29,
          29,
          29,
          29,
          29,
          29,
          29,
          29,
          29,
          29,
          29,
          94,
          94,
          94,
          94,
          94,
          94,
          94,
          94,
          94,
          94,
          94,
          94,
          94,
          94,
          94,
          94,
          94,
          94,
          94,
          94,
          94,
          94,
          94,
          94,
          94,
          94,
          94,
          94,
          94,
          94,
          94,
          94,
          94,
          94,
          94,
          94,
          94,
          94,
          94,
          94,
          94,
          94,
          94,
          94,
          94,
          94,
          94,
          94,
          94,
          94,
          94,
          94,
          94,
          94,
          94,
          94,
          94,
          94,
          94,
          94,
          94,
          94,
          94,
          94,
          94,
          94,
          94,
          94,
          94,
          94,
          94,
          94,
          94,
          94,
          94,
          94,
          94,
          94,
          94,
          94,
          94,
          94,
          94,
          94,
          94,
          94,
          94,
          94,
          94,
          94,
          94,
          94,
          94,
          94,
          260,
          209,
          218,
          228,
          213,
          179,
          236,
          179,
          179,
          267,
          166,
          179,
          179,
          179,
          179,
          220,
          177,
          236,
          179,
          179,
          179,
          179,
          179,
          179,
          179,
          179,
          179,
          186,
          100,
          228,
          179,
          171,
          230,
          179,
          179,
          281,
          179,
          203,
          179,
          179,
          21,
          179,
          21,
          277,
          179,
          233,
          179,
          179,
          240,
          179,
          179,
          153,
          224,
          179,
          179,
          179,
          316,
          179,
          179,
          218,
          179,
          311,
          179,
          179,
          179,
          270,
          179,
          179,
          217,
          214,
          214,
          252,
          220,
          214,
          203,
          21,
          339,
          216,
          276,
          458,
          241,
          384,
          297,
          248,
          308,
          208,
          227,
          210,
          245,
          225,
          240,
          179,
          198,
          195,
          267,
          258,
          21,
          179,
          195,
          235,
          21,
          305,
          223,
          282,
          349,
          218,
          160,
          312,
          283,
          211,
          306,
          186,
          252,
          222,
          179,
          179,
          258,
          202,
          197,
          204,
          142,
          274,
          192,
          298,
          220,
          200,
          261,
          181,
          260,
          220,
          221,
          216,
          175,
          219,
          310,
          208,
          232,
          273,
          203,
          182,
          274,
          204,
          270,
          292,
          171,
          221,
          289,
          217,
          223,
          218,
          193,
          218,
          210,
          282,
          170,
          369,
          173,
          289,
          218,
          218,
          216,
          271,
          244,
          285,
          243,
          240,
          219,
          237,
          165,
          213,
          287,
          258,
          256,
          186,
          264,
          218,
          226,
          203,
          207,
          284,
          337,
          219,
          310,
          254,
          258,
          254,
          300,
          170,
          310,
          333,
          139,
          223,
          385,
          254
         ]
        },
        {
         "boxmean": true,
         "marker": {
          "color": "blue"
         },
         "name": "Мужчины",
         "type": "box",
         "y": [
          233,
          286,
          229,
          250,
          236,
          254,
          203,
          192,
          256,
          263,
          199,
          168,
          229,
          239,
          266,
          211,
          284,
          224,
          206,
          247,
          167,
          230,
          335,
          234,
          233,
          226,
          177,
          276,
          353,
          243,
          199,
          212,
          230,
          175,
          243,
          197,
          177,
          290,
          219,
          253,
          266,
          233,
          172,
          273,
          213,
          216,
          188,
          282,
          185,
          232,
          326,
          231,
          254,
          267,
          248,
          197,
          258,
          245,
          270,
          208,
          321,
          274,
          325,
          235,
          257,
          302,
          231,
          255,
          239,
          201,
          222,
          260,
          182,
          188,
          309,
          177,
          229,
          260,
          219,
          249,
          186,
          203,
          211,
          330,
          254,
          256,
          222,
          217,
          282,
          239,
          220,
          258,
          227,
          204,
          261,
          174,
          281,
          198,
          245,
          221,
          288,
          205,
          309,
          240,
          243,
          289,
          250,
          308,
          298,
          289,
          246,
          322,
          299,
          300,
          293,
          277,
          197,
          304,
          255,
          207,
          223,
          282,
          269,
          226,
          212,
          274,
          233,
          184,
          315,
          246,
          274,
          244,
          270,
          240,
          246,
          283,
          254,
          196,
          298,
          247,
          299,
          234,
          273,
          126,
          211,
          309,
          259,
          200,
          262,
          231,
          214,
          230,
          193,
          271,
          282,
          204,
          206,
          212,
          149,
          286,
          283,
          249,
          295,
          235,
          234,
          237,
          234,
          275,
          212,
          208,
          201,
          218,
          263,
          303,
          245,
          261,
          226,
          166,
          315,
          204,
          218,
          223,
          180,
          207,
          228,
          311,
          204,
          227,
          232,
          335,
          253,
          192,
          203,
          318,
          220,
          221,
          240,
          212,
          169,
          187,
          157,
          176,
          264,
          193,
          131,
          175,
          132,
          243,
          218,
          225,
          254,
          298,
          214,
          220,
          308,
          264,
          166,
          340,
          209,
          160,
          283,
          194,
          223,
          315,
          297,
          292,
          218,
          200,
          204,
          218,
          241,
          339,
          147,
          273,
          307,
          275,
          289,
          215,
          281,
          218,
          291,
          295,
          269,
          250,
          196,
          198,
          268,
          228,
          147,
          358,
          207,
          184,
          215,
          412,
          224,
          218,
          225,
          224,
          275,
          230,
          163,
          238,
          240,
          280,
          249,
          263,
          276,
          142,
          245,
          238,
          211,
          253,
          187,
          297,
          218,
          168,
          216,
          209,
          129,
          215,
          188,
          224,
          179,
          284,
          100,
          196,
          259,
          218,
          320,
          195,
          260,
          182,
          243,
          171,
          208,
          238,
          246,
          195,
          305,
          217,
          218,
          365,
          256,
          196,
          326,
          277,
          220,
          270,
          229,
          184,
          218,
          276,
          85,
          260,
          230,
          251,
          179,
          222,
          287,
          318,
          213,
          218,
          246,
          292,
          271,
          270,
          156,
          257,
          267,
          207,
          196,
          282,
          117,
          466,
          289,
          237,
          247,
          202,
          186,
          277,
          193,
          226,
          263,
          260,
          268,
          265,
          206,
          264,
          225,
          216,
          224,
          201,
          265,
          213,
          248,
          223,
          306,
          529,
          191,
          280,
          291,
          219,
          231,
          222,
          275,
          193,
          329,
          355,
          233,
          182,
          218,
          246,
          237,
          242,
          603,
          218,
          198,
          268,
          213,
          255,
          211,
          263,
          172,
          175,
          288,
          290,
          272,
          341,
          234,
          160,
          342,
          298,
          404,
          246,
          518,
          285,
          216,
          295,
          292,
          248,
          230,
          388,
          164,
          218,
          264,
          263,
          218,
          336,
          288,
          491,
          291,
          212,
          222,
          231,
          341,
          266,
          331,
          342,
          275,
          29,
          29,
          29,
          29,
          29,
          29,
          29,
          29,
          29,
          29,
          29,
          29,
          29,
          29,
          29,
          29,
          29,
          29,
          29,
          29,
          29,
          29,
          29,
          29,
          29,
          94,
          94,
          94,
          94,
          94,
          94,
          94,
          94,
          94,
          94,
          94,
          94,
          94,
          94,
          94,
          94,
          94,
          94,
          94,
          94,
          94,
          94,
          94,
          94,
          94,
          94,
          94,
          94,
          94,
          94,
          94,
          94,
          94,
          94,
          94,
          94,
          94,
          94,
          94,
          94,
          94,
          94,
          94,
          94,
          94,
          94,
          94,
          94,
          94,
          94,
          94,
          94,
          94,
          94,
          94,
          94,
          94,
          94,
          94,
          94,
          94,
          94,
          94,
          94,
          94,
          94,
          94,
          94,
          94,
          94,
          94,
          94,
          94,
          94,
          94,
          94,
          94,
          94,
          94,
          94,
          94,
          94,
          94,
          94,
          94,
          94,
          94,
          260,
          209,
          218,
          228,
          213,
          179,
          236,
          179,
          179,
          267,
          166,
          179,
          179,
          179,
          179,
          220,
          177,
          236,
          179,
          179,
          179,
          179,
          179,
          179,
          179,
          179,
          179,
          186,
          100,
          228,
          179,
          171,
          230,
          179,
          179,
          281,
          179,
          203,
          179,
          179,
          21,
          179,
          21,
          277,
          179,
          233,
          179,
          179,
          240,
          179,
          153,
          224,
          179,
          179,
          179,
          316,
          179,
          179,
          218,
          179,
          311,
          179,
          179,
          179,
          270,
          179,
          179,
          217,
          214,
          214,
          252,
          220,
          214,
          203,
          21,
          339,
          216,
          458,
          241,
          384,
          297,
          248,
          308,
          208,
          227,
          210,
          245,
          225,
          240,
          179,
          198,
          195,
          267,
          258,
          21,
          179,
          195,
          235,
          21,
          305,
          223,
          282,
          349,
          218,
          160,
          312,
          283,
          211,
          306,
          186,
          252,
          222,
          179,
          179,
          258,
          202,
          197,
          204,
          142,
          192,
          220,
          200,
          261,
          181,
          260,
          220,
          221,
          216,
          175,
          219,
          310,
          208,
          232,
          273,
          203,
          182,
          274,
          204,
          270,
          292,
          171,
          221,
          289,
          217,
          223,
          218,
          193,
          218,
          210,
          282,
          170,
          369,
          173,
          289,
          218,
          218,
          216,
          271,
          244,
          285,
          243,
          240,
          219,
          237,
          165,
          213,
          287,
          258,
          256,
          186,
          264,
          218,
          226,
          203,
          207,
          284,
          337,
          219,
          310,
          254,
          254,
          300,
          170,
          310,
          139,
          223,
          385,
          254
         ]
        },
        {
         "boxmean": true,
         "marker": {
          "color": "red"
         },
         "name": "Женщины",
         "type": "box",
         "y": [
          204,
          268,
          354,
          294,
          275,
          283,
          219,
          340,
          226,
          239,
          225,
          302,
          330,
          417,
          198,
          305,
          177,
          304,
          269,
          360,
          308,
          264,
          216,
          234,
          256,
          164,
          141,
          252,
          258,
          303,
          265,
          307,
          341,
          263,
          183,
          407,
          234,
          288,
          209,
          213,
          250,
          318,
          265,
          564,
          214,
          248,
          288,
          160,
          249,
          394,
          409,
          305,
          195,
          294,
          211,
          236,
          244,
          254,
          325,
          313,
          244,
          215,
          228,
          204,
          243,
          303,
          268,
          267,
          199,
          269,
          210,
          277,
          196,
          327,
          269,
          201,
          271,
          306,
          269,
          178,
          295,
          209,
          223,
          197,
          242,
          319,
          240,
          149,
          278,
          220,
          197,
          205,
          225,
          342,
          197,
          241,
          236,
          237,
          219,
          198,
          161,
          160,
          167,
          260,
          211,
          173,
          275,
          182,
          250,
          184,
          245,
          211,
          223,
          201,
          215,
          249,
          266,
          186,
          250,
          218,
          237,
          250,
          297,
          238,
          257,
          250,
          308,
          250,
          284,
          195,
          163,
          254,
          227,
          241,
          241,
          201,
          207,
          202,
          328,
          194,
          190,
          220,
          200,
          210,
          250,
          272,
          180,
          468,
          216,
          274,
          221,
          230,
          273,
          253,
          309,
          230,
          312,
          344,
          320,
          394,
          219,
          308,
          347,
          188,
          294,
          193,
          246,
          180,
          288,
          303,
          338,
          392,
          248,
          214,
          279,
          205,
          294,
          393,
          29,
          29,
          29,
          94,
          94,
          94,
          94,
          94,
          94,
          94,
          179,
          276,
          274,
          298,
          258,
          333
         ]
        }
       ],
       "layout": {
        "template": {
         "data": {
          "bar": [
           {
            "error_x": {
             "color": "#2a3f5f"
            },
            "error_y": {
             "color": "#2a3f5f"
            },
            "marker": {
             "line": {
              "color": "#E5ECF6",
              "width": 0.5
             },
             "pattern": {
              "fillmode": "overlay",
              "size": 10,
              "solidity": 0.2
             }
            },
            "type": "bar"
           }
          ],
          "barpolar": [
           {
            "marker": {
             "line": {
              "color": "#E5ECF6",
              "width": 0.5
             },
             "pattern": {
              "fillmode": "overlay",
              "size": 10,
              "solidity": 0.2
             }
            },
            "type": "barpolar"
           }
          ],
          "carpet": [
           {
            "aaxis": {
             "endlinecolor": "#2a3f5f",
             "gridcolor": "white",
             "linecolor": "white",
             "minorgridcolor": "white",
             "startlinecolor": "#2a3f5f"
            },
            "baxis": {
             "endlinecolor": "#2a3f5f",
             "gridcolor": "white",
             "linecolor": "white",
             "minorgridcolor": "white",
             "startlinecolor": "#2a3f5f"
            },
            "type": "carpet"
           }
          ],
          "choropleth": [
           {
            "colorbar": {
             "outlinewidth": 0,
             "ticks": ""
            },
            "type": "choropleth"
           }
          ],
          "contour": [
           {
            "colorbar": {
             "outlinewidth": 0,
             "ticks": ""
            },
            "colorscale": [
             [
              0,
              "#0d0887"
             ],
             [
              0.1111111111111111,
              "#46039f"
             ],
             [
              0.2222222222222222,
              "#7201a8"
             ],
             [
              0.3333333333333333,
              "#9c179e"
             ],
             [
              0.4444444444444444,
              "#bd3786"
             ],
             [
              0.5555555555555556,
              "#d8576b"
             ],
             [
              0.6666666666666666,
              "#ed7953"
             ],
             [
              0.7777777777777778,
              "#fb9f3a"
             ],
             [
              0.8888888888888888,
              "#fdca26"
             ],
             [
              1,
              "#f0f921"
             ]
            ],
            "type": "contour"
           }
          ],
          "contourcarpet": [
           {
            "colorbar": {
             "outlinewidth": 0,
             "ticks": ""
            },
            "type": "contourcarpet"
           }
          ],
          "heatmap": [
           {
            "colorbar": {
             "outlinewidth": 0,
             "ticks": ""
            },
            "colorscale": [
             [
              0,
              "#0d0887"
             ],
             [
              0.1111111111111111,
              "#46039f"
             ],
             [
              0.2222222222222222,
              "#7201a8"
             ],
             [
              0.3333333333333333,
              "#9c179e"
             ],
             [
              0.4444444444444444,
              "#bd3786"
             ],
             [
              0.5555555555555556,
              "#d8576b"
             ],
             [
              0.6666666666666666,
              "#ed7953"
             ],
             [
              0.7777777777777778,
              "#fb9f3a"
             ],
             [
              0.8888888888888888,
              "#fdca26"
             ],
             [
              1,
              "#f0f921"
             ]
            ],
            "type": "heatmap"
           }
          ],
          "heatmapgl": [
           {
            "colorbar": {
             "outlinewidth": 0,
             "ticks": ""
            },
            "colorscale": [
             [
              0,
              "#0d0887"
             ],
             [
              0.1111111111111111,
              "#46039f"
             ],
             [
              0.2222222222222222,
              "#7201a8"
             ],
             [
              0.3333333333333333,
              "#9c179e"
             ],
             [
              0.4444444444444444,
              "#bd3786"
             ],
             [
              0.5555555555555556,
              "#d8576b"
             ],
             [
              0.6666666666666666,
              "#ed7953"
             ],
             [
              0.7777777777777778,
              "#fb9f3a"
             ],
             [
              0.8888888888888888,
              "#fdca26"
             ],
             [
              1,
              "#f0f921"
             ]
            ],
            "type": "heatmapgl"
           }
          ],
          "histogram": [
           {
            "marker": {
             "pattern": {
              "fillmode": "overlay",
              "size": 10,
              "solidity": 0.2
             }
            },
            "type": "histogram"
           }
          ],
          "histogram2d": [
           {
            "colorbar": {
             "outlinewidth": 0,
             "ticks": ""
            },
            "colorscale": [
             [
              0,
              "#0d0887"
             ],
             [
              0.1111111111111111,
              "#46039f"
             ],
             [
              0.2222222222222222,
              "#7201a8"
             ],
             [
              0.3333333333333333,
              "#9c179e"
             ],
             [
              0.4444444444444444,
              "#bd3786"
             ],
             [
              0.5555555555555556,
              "#d8576b"
             ],
             [
              0.6666666666666666,
              "#ed7953"
             ],
             [
              0.7777777777777778,
              "#fb9f3a"
             ],
             [
              0.8888888888888888,
              "#fdca26"
             ],
             [
              1,
              "#f0f921"
             ]
            ],
            "type": "histogram2d"
           }
          ],
          "histogram2dcontour": [
           {
            "colorbar": {
             "outlinewidth": 0,
             "ticks": ""
            },
            "colorscale": [
             [
              0,
              "#0d0887"
             ],
             [
              0.1111111111111111,
              "#46039f"
             ],
             [
              0.2222222222222222,
              "#7201a8"
             ],
             [
              0.3333333333333333,
              "#9c179e"
             ],
             [
              0.4444444444444444,
              "#bd3786"
             ],
             [
              0.5555555555555556,
              "#d8576b"
             ],
             [
              0.6666666666666666,
              "#ed7953"
             ],
             [
              0.7777777777777778,
              "#fb9f3a"
             ],
             [
              0.8888888888888888,
              "#fdca26"
             ],
             [
              1,
              "#f0f921"
             ]
            ],
            "type": "histogram2dcontour"
           }
          ],
          "mesh3d": [
           {
            "colorbar": {
             "outlinewidth": 0,
             "ticks": ""
            },
            "type": "mesh3d"
           }
          ],
          "parcoords": [
           {
            "line": {
             "colorbar": {
              "outlinewidth": 0,
              "ticks": ""
             }
            },
            "type": "parcoords"
           }
          ],
          "pie": [
           {
            "automargin": true,
            "type": "pie"
           }
          ],
          "scatter": [
           {
            "fillpattern": {
             "fillmode": "overlay",
             "size": 10,
             "solidity": 0.2
            },
            "type": "scatter"
           }
          ],
          "scatter3d": [
           {
            "line": {
             "colorbar": {
              "outlinewidth": 0,
              "ticks": ""
             }
            },
            "marker": {
             "colorbar": {
              "outlinewidth": 0,
              "ticks": ""
             }
            },
            "type": "scatter3d"
           }
          ],
          "scattercarpet": [
           {
            "marker": {
             "colorbar": {
              "outlinewidth": 0,
              "ticks": ""
             }
            },
            "type": "scattercarpet"
           }
          ],
          "scattergeo": [
           {
            "marker": {
             "colorbar": {
              "outlinewidth": 0,
              "ticks": ""
             }
            },
            "type": "scattergeo"
           }
          ],
          "scattergl": [
           {
            "marker": {
             "colorbar": {
              "outlinewidth": 0,
              "ticks": ""
             }
            },
            "type": "scattergl"
           }
          ],
          "scattermapbox": [
           {
            "marker": {
             "colorbar": {
              "outlinewidth": 0,
              "ticks": ""
             }
            },
            "type": "scattermapbox"
           }
          ],
          "scatterpolar": [
           {
            "marker": {
             "colorbar": {
              "outlinewidth": 0,
              "ticks": ""
             }
            },
            "type": "scatterpolar"
           }
          ],
          "scatterpolargl": [
           {
            "marker": {
             "colorbar": {
              "outlinewidth": 0,
              "ticks": ""
             }
            },
            "type": "scatterpolargl"
           }
          ],
          "scatterternary": [
           {
            "marker": {
             "colorbar": {
              "outlinewidth": 0,
              "ticks": ""
             }
            },
            "type": "scatterternary"
           }
          ],
          "surface": [
           {
            "colorbar": {
             "outlinewidth": 0,
             "ticks": ""
            },
            "colorscale": [
             [
              0,
              "#0d0887"
             ],
             [
              0.1111111111111111,
              "#46039f"
             ],
             [
              0.2222222222222222,
              "#7201a8"
             ],
             [
              0.3333333333333333,
              "#9c179e"
             ],
             [
              0.4444444444444444,
              "#bd3786"
             ],
             [
              0.5555555555555556,
              "#d8576b"
             ],
             [
              0.6666666666666666,
              "#ed7953"
             ],
             [
              0.7777777777777778,
              "#fb9f3a"
             ],
             [
              0.8888888888888888,
              "#fdca26"
             ],
             [
              1,
              "#f0f921"
             ]
            ],
            "type": "surface"
           }
          ],
          "table": [
           {
            "cells": {
             "fill": {
              "color": "#EBF0F8"
             },
             "line": {
              "color": "white"
             }
            },
            "header": {
             "fill": {
              "color": "#C8D4E3"
             },
             "line": {
              "color": "white"
             }
            },
            "type": "table"
           }
          ]
         },
         "layout": {
          "annotationdefaults": {
           "arrowcolor": "#2a3f5f",
           "arrowhead": 0,
           "arrowwidth": 1
          },
          "autotypenumbers": "strict",
          "coloraxis": {
           "colorbar": {
            "outlinewidth": 0,
            "ticks": ""
           }
          },
          "colorscale": {
           "diverging": [
            [
             0,
             "#8e0152"
            ],
            [
             0.1,
             "#c51b7d"
            ],
            [
             0.2,
             "#de77ae"
            ],
            [
             0.3,
             "#f1b6da"
            ],
            [
             0.4,
             "#fde0ef"
            ],
            [
             0.5,
             "#f7f7f7"
            ],
            [
             0.6,
             "#e6f5d0"
            ],
            [
             0.7,
             "#b8e186"
            ],
            [
             0.8,
             "#7fbc41"
            ],
            [
             0.9,
             "#4d9221"
            ],
            [
             1,
             "#276419"
            ]
           ],
           "sequential": [
            [
             0,
             "#0d0887"
            ],
            [
             0.1111111111111111,
             "#46039f"
            ],
            [
             0.2222222222222222,
             "#7201a8"
            ],
            [
             0.3333333333333333,
             "#9c179e"
            ],
            [
             0.4444444444444444,
             "#bd3786"
            ],
            [
             0.5555555555555556,
             "#d8576b"
            ],
            [
             0.6666666666666666,
             "#ed7953"
            ],
            [
             0.7777777777777778,
             "#fb9f3a"
            ],
            [
             0.8888888888888888,
             "#fdca26"
            ],
            [
             1,
             "#f0f921"
            ]
           ],
           "sequentialminus": [
            [
             0,
             "#0d0887"
            ],
            [
             0.1111111111111111,
             "#46039f"
            ],
            [
             0.2222222222222222,
             "#7201a8"
            ],
            [
             0.3333333333333333,
             "#9c179e"
            ],
            [
             0.4444444444444444,
             "#bd3786"
            ],
            [
             0.5555555555555556,
             "#d8576b"
            ],
            [
             0.6666666666666666,
             "#ed7953"
            ],
            [
             0.7777777777777778,
             "#fb9f3a"
            ],
            [
             0.8888888888888888,
             "#fdca26"
            ],
            [
             1,
             "#f0f921"
            ]
           ]
          },
          "colorway": [
           "#636efa",
           "#EF553B",
           "#00cc96",
           "#ab63fa",
           "#FFA15A",
           "#19d3f3",
           "#FF6692",
           "#B6E880",
           "#FF97FF",
           "#FECB52"
          ],
          "font": {
           "color": "#2a3f5f"
          },
          "geo": {
           "bgcolor": "white",
           "lakecolor": "white",
           "landcolor": "#E5ECF6",
           "showlakes": true,
           "showland": true,
           "subunitcolor": "white"
          },
          "hoverlabel": {
           "align": "left"
          },
          "hovermode": "closest",
          "mapbox": {
           "style": "light"
          },
          "paper_bgcolor": "white",
          "plot_bgcolor": "#E5ECF6",
          "polar": {
           "angularaxis": {
            "gridcolor": "white",
            "linecolor": "white",
            "ticks": ""
           },
           "bgcolor": "#E5ECF6",
           "radialaxis": {
            "gridcolor": "white",
            "linecolor": "white",
            "ticks": ""
           }
          },
          "scene": {
           "xaxis": {
            "backgroundcolor": "#E5ECF6",
            "gridcolor": "white",
            "gridwidth": 2,
            "linecolor": "white",
            "showbackground": true,
            "ticks": "",
            "zerolinecolor": "white"
           },
           "yaxis": {
            "backgroundcolor": "#E5ECF6",
            "gridcolor": "white",
            "gridwidth": 2,
            "linecolor": "white",
            "showbackground": true,
            "ticks": "",
            "zerolinecolor": "white"
           },
           "zaxis": {
            "backgroundcolor": "#E5ECF6",
            "gridcolor": "white",
            "gridwidth": 2,
            "linecolor": "white",
            "showbackground": true,
            "ticks": "",
            "zerolinecolor": "white"
           }
          },
          "shapedefaults": {
           "line": {
            "color": "#2a3f5f"
           }
          },
          "ternary": {
           "aaxis": {
            "gridcolor": "white",
            "linecolor": "white",
            "ticks": ""
           },
           "baxis": {
            "gridcolor": "white",
            "linecolor": "white",
            "ticks": ""
           },
           "bgcolor": "#E5ECF6",
           "caxis": {
            "gridcolor": "white",
            "linecolor": "white",
            "ticks": ""
           }
          },
          "title": {
           "x": 0.05
          },
          "xaxis": {
           "automargin": true,
           "gridcolor": "white",
           "linecolor": "white",
           "ticks": "",
           "title": {
            "standoff": 15
           },
           "zerolinecolor": "white",
           "zerolinewidth": 2
          },
          "yaxis": {
           "automargin": true,
           "gridcolor": "white",
           "linecolor": "white",
           "ticks": "",
           "title": {
            "standoff": 15
           },
           "zerolinecolor": "white",
           "zerolinewidth": 2
          }
         }
        },
        "title": {
         "text": "УХ Распределение",
         "x": 1
        },
        "xaxis": {
         "linecolor": "black",
         "linewidth": 2,
         "mirror": true,
         "showline": true
        },
        "yaxis": {
         "linecolor": "black",
         "linewidth": 2,
         "mirror": true,
         "showline": true,
         "title": {
          "text": "Уровень холестерина"
         }
        }
       }
      }
     },
     "metadata": {},
     "output_type": "display_data"
    }
   ],
   "source": [
    "# проверим стольбец chol на выбросы\n",
    "fig = go.Figure()\n",
    "\n",
    "fig.add_trace(go.Box(y=data['chol'].values , name='Холестерин', marker_color = 'green', boxmean=True))\n",
    "fig.add_trace(go.Box(y=data[data['sex']=='Male']['chol'].values, name ='Мужчины', marker_color = 'blue', boxmean = True))\n",
    "fig.add_trace(go.Box(y=data[data['sex']=='Female']['chol'].values, name ='Женщины', marker_color = 'red', boxmean = True))\n",
    "\n",
    "fig.update_layout(title = 'УХ Распределение', yaxis_title = 'Уровень холестерина', title_x = 1)\n",
    "fig.update_xaxes(showline=True, linewidth=2, linecolor='black', mirror=True)\n",
    "fig.update_yaxes(showline=True, linewidth=2, linecolor='black', mirror=True)\n",
    "\n",
    "fig.show()"
   ]
  },
  {
   "cell_type": "code",
   "execution_count": 863,
   "metadata": {},
   "outputs": [],
   "source": [
    "# удалим значения холестерина ниже 30\n",
    "data = data.query('chol > 30')"
   ]
  },
  {
   "cell_type": "markdown",
   "metadata": {},
   "source": [
    "Исследуем уровень холестерина в зависимости от степени болезни сердца."
   ]
  },
  {
   "cell_type": "code",
   "execution_count": 864,
   "metadata": {},
   "outputs": [
    {
     "data": {
      "application/vnd.plotly.v1+json": {
       "config": {
        "plotlyServerURL": "https://plot.ly"
       },
       "data": [
        {
         "marker": {
          "color": "green"
         },
         "name": "Все пациенты",
         "type": "violin",
         "y": [
          233,
          286,
          229,
          250,
          204,
          236,
          268,
          354,
          254,
          203,
          192,
          294,
          256,
          263,
          199,
          168,
          229,
          239,
          275,
          266,
          211,
          283,
          284,
          224,
          206,
          219,
          340,
          226,
          247,
          167,
          239,
          230,
          335,
          234,
          233,
          226,
          177,
          276,
          353,
          243,
          225,
          199,
          302,
          212,
          330,
          230,
          175,
          243,
          417,
          197,
          198,
          177,
          290,
          219,
          253,
          266,
          233,
          172,
          273,
          213,
          305,
          177,
          216,
          304,
          188,
          282,
          185,
          232,
          326,
          231,
          269,
          254,
          267,
          248,
          197,
          360,
          258,
          308,
          245,
          270,
          208,
          264,
          321,
          274,
          325,
          235,
          257,
          216,
          234,
          256,
          302,
          164,
          231,
          141,
          252,
          255,
          239,
          258,
          201,
          222,
          260,
          182,
          303,
          265,
          188,
          309,
          177,
          229,
          260,
          219,
          307,
          249,
          186,
          341,
          263,
          203,
          211,
          183,
          330,
          254,
          256,
          407,
          222,
          217,
          282,
          234,
          288,
          239,
          220,
          209,
          258,
          227,
          204,
          261,
          213,
          250,
          174,
          281,
          198,
          245,
          221,
          288,
          205,
          309,
          240,
          243,
          289,
          250,
          308,
          318,
          298,
          265,
          564,
          289,
          246,
          322,
          299,
          300,
          293,
          277,
          197,
          304,
          214,
          248,
          255,
          207,
          223,
          288,
          282,
          160,
          269,
          226,
          249,
          394,
          212,
          274,
          233,
          184,
          315,
          246,
          274,
          409,
          244,
          270,
          305,
          195,
          240,
          246,
          283,
          254,
          196,
          298,
          247,
          294,
          211,
          299,
          234,
          236,
          244,
          273,
          254,
          325,
          126,
          313,
          211,
          309,
          259,
          200,
          262,
          244,
          215,
          231,
          214,
          228,
          230,
          193,
          204,
          243,
          303,
          271,
          268,
          267,
          199,
          282,
          269,
          210,
          204,
          277,
          206,
          212,
          196,
          327,
          149,
          269,
          201,
          286,
          283,
          249,
          271,
          295,
          235,
          306,
          269,
          234,
          178,
          237,
          234,
          275,
          212,
          208,
          201,
          218,
          263,
          295,
          303,
          209,
          223,
          197,
          245,
          261,
          242,
          319,
          240,
          226,
          166,
          315,
          204,
          218,
          223,
          180,
          207,
          228,
          311,
          149,
          204,
          227,
          278,
          220,
          232,
          197,
          335,
          253,
          205,
          192,
          203,
          318,
          225,
          220,
          221,
          240,
          212,
          342,
          169,
          187,
          197,
          157,
          176,
          241,
          264,
          193,
          131,
          236,
          175,
          132,
          243,
          218,
          237,
          219,
          198,
          225,
          254,
          298,
          161,
          214,
          220,
          160,
          167,
          308,
          264,
          166,
          340,
          209,
          160,
          260,
          211,
          173,
          283,
          194,
          223,
          315,
          275,
          297,
          292,
          182,
          218,
          200,
          204,
          218,
          241,
          339,
          147,
          273,
          307,
          275,
          289,
          215,
          281,
          218,
          250,
          184,
          245,
          291,
          295,
          269,
          250,
          211,
          196,
          198,
          268,
          228,
          147,
          358,
          223,
          201,
          215,
          249,
          266,
          186,
          250,
          207,
          218,
          184,
          215,
          412,
          237,
          250,
          297,
          224,
          218,
          225,
          224,
          238,
          275,
          230,
          163,
          238,
          240,
          280,
          257,
          250,
          249,
          263,
          276,
          308,
          250,
          284,
          195,
          163,
          254,
          227,
          142,
          245,
          238,
          211,
          241,
          241,
          201,
          207,
          253,
          187,
          297,
          218,
          202,
          328,
          168,
          216,
          209,
          129,
          215,
          194,
          190,
          220,
          200,
          188,
          224,
          179,
          210,
          250,
          272,
          180,
          284,
          100,
          196,
          259,
          468,
          216,
          274,
          218,
          320,
          195,
          260,
          182,
          243,
          221,
          230,
          273,
          253,
          309,
          230,
          312,
          171,
          208,
          238,
          246,
          195,
          305,
          217,
          218,
          365,
          344,
          320,
          394,
          256,
          196,
          326,
          277,
          220,
          270,
          229,
          219,
          184,
          218,
          276,
          85,
          308,
          347,
          260,
          230,
          251,
          179,
          222,
          188,
          287,
          318,
          213,
          218,
          246,
          294,
          292,
          193,
          271,
          270,
          246,
          156,
          257,
          267,
          207,
          196,
          282,
          117,
          466,
          289,
          237,
          247,
          202,
          186,
          277,
          193,
          226,
          263,
          260,
          268,
          180,
          265,
          206,
          288,
          264,
          303,
          225,
          216,
          224,
          201,
          265,
          213,
          338,
          248,
          223,
          306,
          529,
          191,
          280,
          392,
          291,
          219,
          231,
          222,
          275,
          193,
          329,
          355,
          233,
          182,
          218,
          246,
          237,
          242,
          603,
          218,
          198,
          268,
          213,
          255,
          211,
          263,
          172,
          175,
          288,
          290,
          272,
          248,
          214,
          341,
          234,
          160,
          342,
          298,
          404,
          246,
          518,
          285,
          216,
          295,
          292,
          248,
          279,
          230,
          388,
          164,
          218,
          264,
          263,
          218,
          336,
          288,
          491,
          205,
          291,
          212,
          222,
          231,
          341,
          266,
          331,
          294,
          342,
          393,
          275,
          94,
          94,
          94,
          94,
          94,
          94,
          94,
          94,
          94,
          94,
          94,
          94,
          94,
          94,
          94,
          94,
          94,
          94,
          94,
          94,
          94,
          94,
          94,
          94,
          94,
          94,
          94,
          94,
          94,
          94,
          94,
          94,
          94,
          94,
          94,
          94,
          94,
          94,
          94,
          94,
          94,
          94,
          94,
          94,
          94,
          94,
          94,
          94,
          94,
          94,
          94,
          94,
          94,
          94,
          94,
          94,
          94,
          94,
          94,
          94,
          94,
          94,
          94,
          94,
          94,
          94,
          94,
          94,
          94,
          94,
          94,
          94,
          94,
          94,
          94,
          94,
          94,
          94,
          94,
          94,
          94,
          94,
          94,
          94,
          94,
          94,
          94,
          94,
          94,
          94,
          94,
          94,
          94,
          94,
          260,
          209,
          218,
          228,
          213,
          179,
          236,
          179,
          179,
          267,
          166,
          179,
          179,
          179,
          179,
          220,
          177,
          236,
          179,
          179,
          179,
          179,
          179,
          179,
          179,
          179,
          179,
          186,
          100,
          228,
          179,
          171,
          230,
          179,
          179,
          281,
          179,
          203,
          179,
          179,
          179,
          277,
          179,
          233,
          179,
          179,
          240,
          179,
          179,
          153,
          224,
          179,
          179,
          179,
          316,
          179,
          179,
          218,
          179,
          311,
          179,
          179,
          179,
          270,
          179,
          179,
          217,
          214,
          214,
          252,
          220,
          214,
          203,
          339,
          216,
          276,
          458,
          241,
          384,
          297,
          248,
          308,
          208,
          227,
          210,
          245,
          225,
          240,
          179,
          198,
          195,
          267,
          258,
          179,
          195,
          235,
          305,
          223,
          282,
          349,
          218,
          160,
          312,
          283,
          211,
          306,
          186,
          252,
          222,
          179,
          179,
          258,
          202,
          197,
          204,
          142,
          274,
          192,
          298,
          220,
          200,
          261,
          181,
          260,
          220,
          221,
          216,
          175,
          219,
          310,
          208,
          232,
          273,
          203,
          182,
          274,
          204,
          270,
          292,
          171,
          221,
          289,
          217,
          223,
          218,
          193,
          218,
          210,
          282,
          170,
          369,
          173,
          289,
          218,
          218,
          216,
          271,
          244,
          285,
          243,
          240,
          219,
          237,
          165,
          213,
          287,
          258,
          256,
          186,
          264,
          218,
          226,
          203,
          207,
          284,
          337,
          219,
          310,
          254,
          258,
          254,
          300,
          170,
          310,
          333,
          139,
          223,
          385,
          254
         ]
        },
        {
         "marker": {
          "color": "blue"
         },
         "name": "Отсутствие видимых сердечных заболеваний",
         "type": "violin",
         "y": [
          233,
          250,
          204,
          236,
          354,
          192,
          294,
          263,
          199,
          168,
          239,
          275,
          266,
          211,
          283,
          219,
          340,
          226,
          247,
          239,
          234,
          233,
          226,
          243,
          199,
          302,
          212,
          175,
          417,
          197,
          198,
          177,
          219,
          273,
          213,
          177,
          304,
          232,
          269,
          360,
          308,
          245,
          208,
          264,
          321,
          325,
          235,
          257,
          216,
          234,
          256,
          302,
          231,
          141,
          252,
          201,
          222,
          260,
          182,
          303,
          265,
          309,
          186,
          203,
          211,
          183,
          222,
          234,
          220,
          209,
          258,
          227,
          204,
          261,
          213,
          250,
          245,
          221,
          205,
          240,
          250,
          308,
          318,
          298,
          265,
          564,
          277,
          197,
          214,
          248,
          255,
          207,
          223,
          288,
          160,
          226,
          394,
          233,
          315,
          246,
          244,
          270,
          195,
          240,
          196,
          211,
          234,
          236,
          244,
          254,
          325,
          126,
          313,
          211,
          262,
          215,
          214,
          193,
          204,
          243,
          303,
          271,
          268,
          267,
          199,
          210,
          204,
          277,
          196,
          269,
          201,
          271,
          295,
          235,
          306,
          269,
          178,
          208,
          201,
          263,
          295,
          303,
          209,
          223,
          197,
          245,
          242,
          240,
          226,
          180,
          228,
          149,
          227,
          278,
          220,
          197,
          253,
          192,
          220,
          221,
          240,
          342,
          157,
          175,
          132,
          243,
          218,
          237,
          219,
          198,
          225,
          254,
          298,
          161,
          214,
          220,
          160,
          167,
          308,
          264,
          166,
          340,
          209,
          160,
          260,
          211,
          173,
          283,
          194,
          223,
          315,
          275,
          297,
          292,
          182,
          218,
          200,
          204,
          218,
          241,
          339,
          147,
          273,
          307,
          275,
          289,
          215,
          281,
          218,
          250,
          184,
          245,
          291,
          295,
          269,
          250,
          211,
          196,
          198,
          268,
          228,
          147,
          358,
          223,
          201,
          215,
          249,
          266,
          186,
          250,
          207,
          218,
          184,
          215,
          412,
          237,
          250,
          297,
          224,
          218,
          225,
          224,
          238,
          275,
          230,
          163,
          238,
          240,
          280,
          257,
          250,
          249,
          263,
          276,
          308,
          250,
          284,
          195,
          163,
          254,
          227,
          142,
          245,
          238,
          211,
          241,
          241,
          201,
          207,
          253,
          187,
          297,
          218,
          202,
          328,
          168,
          216,
          209,
          129,
          215,
          194,
          190,
          220,
          200,
          188,
          224,
          179,
          210,
          250,
          272,
          180,
          284,
          100,
          196,
          259,
          468,
          216,
          274,
          218,
          320,
          195,
          260,
          182,
          243,
          221,
          230,
          273,
          253,
          309,
          230,
          312,
          171,
          208,
          238,
          246,
          195,
          305,
          217,
          218,
          365,
          344,
          320,
          394,
          256,
          196,
          326,
          277,
          220,
          270,
          229,
          219,
          184,
          218,
          276,
          85,
          308,
          347,
          260,
          230,
          251,
          179,
          222,
          188,
          287,
          318,
          213,
          218,
          246,
          294,
          292,
          193,
          271,
          94,
          94,
          94,
          94,
          94,
          94,
          209,
          213,
          179,
          179,
          166,
          220,
          179,
          179,
          179,
          179,
          179,
          179,
          240,
          179,
          224,
          179,
          218,
          214,
          252,
          458,
          227,
          240,
          195,
          179,
          223,
          160,
          283,
          197,
          298,
          181,
          220,
          175,
          310,
          203,
          182,
          274,
          171,
          271,
          240,
          165,
          213,
          218,
          207,
          254,
          258,
          139,
          385
         ]
        },
        {
         "marker": {
          "color": "red"
         },
         "name": "Легкая болезнь сердца",
         "type": "violin",
         "y": [
          229,
          203,
          229,
          284,
          335,
          276,
          330,
          253,
          266,
          233,
          172,
          216,
          185,
          231,
          267,
          248,
          197,
          258,
          255,
          229,
          307,
          249,
          282,
          198,
          288,
          309,
          243,
          322,
          299,
          300,
          282,
          249,
          274,
          184,
          305,
          283,
          247,
          273,
          244,
          230,
          269,
          149,
          249,
          275,
          218,
          261,
          223,
          207,
          204,
          232,
          212,
          197,
          241,
          264,
          236,
          270,
          246,
          156,
          257,
          267,
          207,
          196,
          282,
          117,
          466,
          289,
          237,
          247,
          202,
          186,
          277,
          193,
          226,
          263,
          260,
          268,
          180,
          265,
          206,
          288,
          264,
          303,
          225,
          216,
          224,
          201,
          265,
          213,
          338,
          248,
          223,
          306,
          529,
          191,
          280,
          392,
          291,
          219,
          231,
          222,
          275,
          193,
          329,
          355,
          233,
          182,
          218,
          246,
          237,
          242,
          603,
          218,
          198,
          268,
          213,
          255,
          211,
          263,
          172,
          175,
          288,
          290,
          272,
          248,
          214,
          341,
          234,
          160,
          342,
          298,
          404,
          246,
          518,
          285,
          216,
          295,
          292,
          248,
          279,
          230,
          388,
          164,
          218,
          264,
          263,
          218,
          336,
          288,
          491,
          205,
          291,
          212,
          222,
          231,
          341,
          266,
          331,
          294,
          342,
          393,
          275,
          94,
          94,
          94,
          94,
          94,
          94,
          94,
          94,
          94,
          94,
          94,
          94,
          94,
          94,
          94,
          94,
          94,
          94,
          94,
          94,
          94,
          94,
          94,
          94,
          94,
          94,
          94,
          94,
          94,
          94,
          94,
          94,
          94,
          94,
          94,
          228,
          267,
          179,
          179,
          179,
          179,
          236,
          179,
          186,
          100,
          203,
          233,
          179,
          179,
          179,
          311,
          179,
          179,
          217,
          203,
          276,
          210,
          245,
          198,
          258,
          195,
          305,
          349,
          218,
          211,
          179,
          202,
          204,
          274,
          220,
          261,
          204,
          289,
          217,
          282,
          218,
          285,
          243,
          237,
          186,
          264,
          226,
          203,
          284,
          170,
          333,
          254
         ]
        },
        {
         "marker": {
          "color": "red"
         },
         "name": "Умеренная болезнь сердца",
         "type": "violin",
         "y": [
          286,
          254,
          256,
          230,
          290,
          305,
          188,
          282,
          326,
          239,
          177,
          260,
          341,
          263,
          254,
          293,
          409,
          246,
          254,
          294,
          212,
          327,
          283,
          234,
          237,
          234,
          315,
          204,
          218,
          311,
          335,
          203,
          225,
          169,
          187,
          193,
          94,
          94,
          94,
          94,
          94,
          94,
          94,
          94,
          94,
          94,
          94,
          94,
          94,
          94,
          94,
          94,
          94,
          94,
          94,
          94,
          94,
          94,
          94,
          94,
          260,
          218,
          179,
          179,
          179,
          179,
          179,
          281,
          179,
          179,
          153,
          179,
          179,
          179,
          179,
          179,
          214,
          216,
          241,
          384,
          297,
          308,
          186,
          252,
          179,
          192,
          219,
          232,
          223,
          218,
          193,
          218,
          210,
          216,
          244,
          258,
          219,
          310,
          310,
          223
         ]
        },
        {
         "marker": {
          "color": "red"
         },
         "name": "Тяжелое заболевание сердца",
         "type": "violin",
         "y": [
          268,
          224,
          167,
          177,
          353,
          254,
          270,
          274,
          164,
          258,
          188,
          219,
          330,
          256,
          217,
          288,
          239,
          281,
          246,
          269,
          274,
          298,
          299,
          309,
          259,
          200,
          228,
          282,
          206,
          286,
          212,
          319,
          205,
          176,
          131,
          94,
          94,
          94,
          94,
          94,
          94,
          94,
          94,
          94,
          94,
          94,
          94,
          94,
          94,
          94,
          94,
          94,
          94,
          94,
          94,
          94,
          94,
          94,
          94,
          94,
          236,
          179,
          179,
          228,
          179,
          171,
          230,
          179,
          179,
          179,
          316,
          270,
          220,
          214,
          339,
          208,
          225,
          179,
          267,
          235,
          282,
          312,
          306,
          222,
          258,
          200,
          260,
          221,
          216,
          270,
          292,
          221,
          369,
          173,
          289,
          218,
          219,
          256,
          337,
          300
         ]
        },
        {
         "marker": {
          "color": "red"
         },
         "name": "Очень тяжелое заболевание сердца",
         "type": "violin",
         "y": [
          206,
          225,
          230,
          243,
          407,
          174,
          289,
          289,
          304,
          212,
          231,
          166,
          318,
          94,
          94,
          94,
          94,
          177,
          277,
          179,
          248,
          142,
          208,
          273,
          170,
          287,
          254
         ]
        }
       ],
       "layout": {
        "template": {
         "data": {
          "bar": [
           {
            "error_x": {
             "color": "#2a3f5f"
            },
            "error_y": {
             "color": "#2a3f5f"
            },
            "marker": {
             "line": {
              "color": "#E5ECF6",
              "width": 0.5
             },
             "pattern": {
              "fillmode": "overlay",
              "size": 10,
              "solidity": 0.2
             }
            },
            "type": "bar"
           }
          ],
          "barpolar": [
           {
            "marker": {
             "line": {
              "color": "#E5ECF6",
              "width": 0.5
             },
             "pattern": {
              "fillmode": "overlay",
              "size": 10,
              "solidity": 0.2
             }
            },
            "type": "barpolar"
           }
          ],
          "carpet": [
           {
            "aaxis": {
             "endlinecolor": "#2a3f5f",
             "gridcolor": "white",
             "linecolor": "white",
             "minorgridcolor": "white",
             "startlinecolor": "#2a3f5f"
            },
            "baxis": {
             "endlinecolor": "#2a3f5f",
             "gridcolor": "white",
             "linecolor": "white",
             "minorgridcolor": "white",
             "startlinecolor": "#2a3f5f"
            },
            "type": "carpet"
           }
          ],
          "choropleth": [
           {
            "colorbar": {
             "outlinewidth": 0,
             "ticks": ""
            },
            "type": "choropleth"
           }
          ],
          "contour": [
           {
            "colorbar": {
             "outlinewidth": 0,
             "ticks": ""
            },
            "colorscale": [
             [
              0,
              "#0d0887"
             ],
             [
              0.1111111111111111,
              "#46039f"
             ],
             [
              0.2222222222222222,
              "#7201a8"
             ],
             [
              0.3333333333333333,
              "#9c179e"
             ],
             [
              0.4444444444444444,
              "#bd3786"
             ],
             [
              0.5555555555555556,
              "#d8576b"
             ],
             [
              0.6666666666666666,
              "#ed7953"
             ],
             [
              0.7777777777777778,
              "#fb9f3a"
             ],
             [
              0.8888888888888888,
              "#fdca26"
             ],
             [
              1,
              "#f0f921"
             ]
            ],
            "type": "contour"
           }
          ],
          "contourcarpet": [
           {
            "colorbar": {
             "outlinewidth": 0,
             "ticks": ""
            },
            "type": "contourcarpet"
           }
          ],
          "heatmap": [
           {
            "colorbar": {
             "outlinewidth": 0,
             "ticks": ""
            },
            "colorscale": [
             [
              0,
              "#0d0887"
             ],
             [
              0.1111111111111111,
              "#46039f"
             ],
             [
              0.2222222222222222,
              "#7201a8"
             ],
             [
              0.3333333333333333,
              "#9c179e"
             ],
             [
              0.4444444444444444,
              "#bd3786"
             ],
             [
              0.5555555555555556,
              "#d8576b"
             ],
             [
              0.6666666666666666,
              "#ed7953"
             ],
             [
              0.7777777777777778,
              "#fb9f3a"
             ],
             [
              0.8888888888888888,
              "#fdca26"
             ],
             [
              1,
              "#f0f921"
             ]
            ],
            "type": "heatmap"
           }
          ],
          "heatmapgl": [
           {
            "colorbar": {
             "outlinewidth": 0,
             "ticks": ""
            },
            "colorscale": [
             [
              0,
              "#0d0887"
             ],
             [
              0.1111111111111111,
              "#46039f"
             ],
             [
              0.2222222222222222,
              "#7201a8"
             ],
             [
              0.3333333333333333,
              "#9c179e"
             ],
             [
              0.4444444444444444,
              "#bd3786"
             ],
             [
              0.5555555555555556,
              "#d8576b"
             ],
             [
              0.6666666666666666,
              "#ed7953"
             ],
             [
              0.7777777777777778,
              "#fb9f3a"
             ],
             [
              0.8888888888888888,
              "#fdca26"
             ],
             [
              1,
              "#f0f921"
             ]
            ],
            "type": "heatmapgl"
           }
          ],
          "histogram": [
           {
            "marker": {
             "pattern": {
              "fillmode": "overlay",
              "size": 10,
              "solidity": 0.2
             }
            },
            "type": "histogram"
           }
          ],
          "histogram2d": [
           {
            "colorbar": {
             "outlinewidth": 0,
             "ticks": ""
            },
            "colorscale": [
             [
              0,
              "#0d0887"
             ],
             [
              0.1111111111111111,
              "#46039f"
             ],
             [
              0.2222222222222222,
              "#7201a8"
             ],
             [
              0.3333333333333333,
              "#9c179e"
             ],
             [
              0.4444444444444444,
              "#bd3786"
             ],
             [
              0.5555555555555556,
              "#d8576b"
             ],
             [
              0.6666666666666666,
              "#ed7953"
             ],
             [
              0.7777777777777778,
              "#fb9f3a"
             ],
             [
              0.8888888888888888,
              "#fdca26"
             ],
             [
              1,
              "#f0f921"
             ]
            ],
            "type": "histogram2d"
           }
          ],
          "histogram2dcontour": [
           {
            "colorbar": {
             "outlinewidth": 0,
             "ticks": ""
            },
            "colorscale": [
             [
              0,
              "#0d0887"
             ],
             [
              0.1111111111111111,
              "#46039f"
             ],
             [
              0.2222222222222222,
              "#7201a8"
             ],
             [
              0.3333333333333333,
              "#9c179e"
             ],
             [
              0.4444444444444444,
              "#bd3786"
             ],
             [
              0.5555555555555556,
              "#d8576b"
             ],
             [
              0.6666666666666666,
              "#ed7953"
             ],
             [
              0.7777777777777778,
              "#fb9f3a"
             ],
             [
              0.8888888888888888,
              "#fdca26"
             ],
             [
              1,
              "#f0f921"
             ]
            ],
            "type": "histogram2dcontour"
           }
          ],
          "mesh3d": [
           {
            "colorbar": {
             "outlinewidth": 0,
             "ticks": ""
            },
            "type": "mesh3d"
           }
          ],
          "parcoords": [
           {
            "line": {
             "colorbar": {
              "outlinewidth": 0,
              "ticks": ""
             }
            },
            "type": "parcoords"
           }
          ],
          "pie": [
           {
            "automargin": true,
            "type": "pie"
           }
          ],
          "scatter": [
           {
            "fillpattern": {
             "fillmode": "overlay",
             "size": 10,
             "solidity": 0.2
            },
            "type": "scatter"
           }
          ],
          "scatter3d": [
           {
            "line": {
             "colorbar": {
              "outlinewidth": 0,
              "ticks": ""
             }
            },
            "marker": {
             "colorbar": {
              "outlinewidth": 0,
              "ticks": ""
             }
            },
            "type": "scatter3d"
           }
          ],
          "scattercarpet": [
           {
            "marker": {
             "colorbar": {
              "outlinewidth": 0,
              "ticks": ""
             }
            },
            "type": "scattercarpet"
           }
          ],
          "scattergeo": [
           {
            "marker": {
             "colorbar": {
              "outlinewidth": 0,
              "ticks": ""
             }
            },
            "type": "scattergeo"
           }
          ],
          "scattergl": [
           {
            "marker": {
             "colorbar": {
              "outlinewidth": 0,
              "ticks": ""
             }
            },
            "type": "scattergl"
           }
          ],
          "scattermapbox": [
           {
            "marker": {
             "colorbar": {
              "outlinewidth": 0,
              "ticks": ""
             }
            },
            "type": "scattermapbox"
           }
          ],
          "scatterpolar": [
           {
            "marker": {
             "colorbar": {
              "outlinewidth": 0,
              "ticks": ""
             }
            },
            "type": "scatterpolar"
           }
          ],
          "scatterpolargl": [
           {
            "marker": {
             "colorbar": {
              "outlinewidth": 0,
              "ticks": ""
             }
            },
            "type": "scatterpolargl"
           }
          ],
          "scatterternary": [
           {
            "marker": {
             "colorbar": {
              "outlinewidth": 0,
              "ticks": ""
             }
            },
            "type": "scatterternary"
           }
          ],
          "surface": [
           {
            "colorbar": {
             "outlinewidth": 0,
             "ticks": ""
            },
            "colorscale": [
             [
              0,
              "#0d0887"
             ],
             [
              0.1111111111111111,
              "#46039f"
             ],
             [
              0.2222222222222222,
              "#7201a8"
             ],
             [
              0.3333333333333333,
              "#9c179e"
             ],
             [
              0.4444444444444444,
              "#bd3786"
             ],
             [
              0.5555555555555556,
              "#d8576b"
             ],
             [
              0.6666666666666666,
              "#ed7953"
             ],
             [
              0.7777777777777778,
              "#fb9f3a"
             ],
             [
              0.8888888888888888,
              "#fdca26"
             ],
             [
              1,
              "#f0f921"
             ]
            ],
            "type": "surface"
           }
          ],
          "table": [
           {
            "cells": {
             "fill": {
              "color": "#EBF0F8"
             },
             "line": {
              "color": "white"
             }
            },
            "header": {
             "fill": {
              "color": "#C8D4E3"
             },
             "line": {
              "color": "white"
             }
            },
            "type": "table"
           }
          ]
         },
         "layout": {
          "annotationdefaults": {
           "arrowcolor": "#2a3f5f",
           "arrowhead": 0,
           "arrowwidth": 1
          },
          "autotypenumbers": "strict",
          "coloraxis": {
           "colorbar": {
            "outlinewidth": 0,
            "ticks": ""
           }
          },
          "colorscale": {
           "diverging": [
            [
             0,
             "#8e0152"
            ],
            [
             0.1,
             "#c51b7d"
            ],
            [
             0.2,
             "#de77ae"
            ],
            [
             0.3,
             "#f1b6da"
            ],
            [
             0.4,
             "#fde0ef"
            ],
            [
             0.5,
             "#f7f7f7"
            ],
            [
             0.6,
             "#e6f5d0"
            ],
            [
             0.7,
             "#b8e186"
            ],
            [
             0.8,
             "#7fbc41"
            ],
            [
             0.9,
             "#4d9221"
            ],
            [
             1,
             "#276419"
            ]
           ],
           "sequential": [
            [
             0,
             "#0d0887"
            ],
            [
             0.1111111111111111,
             "#46039f"
            ],
            [
             0.2222222222222222,
             "#7201a8"
            ],
            [
             0.3333333333333333,
             "#9c179e"
            ],
            [
             0.4444444444444444,
             "#bd3786"
            ],
            [
             0.5555555555555556,
             "#d8576b"
            ],
            [
             0.6666666666666666,
             "#ed7953"
            ],
            [
             0.7777777777777778,
             "#fb9f3a"
            ],
            [
             0.8888888888888888,
             "#fdca26"
            ],
            [
             1,
             "#f0f921"
            ]
           ],
           "sequentialminus": [
            [
             0,
             "#0d0887"
            ],
            [
             0.1111111111111111,
             "#46039f"
            ],
            [
             0.2222222222222222,
             "#7201a8"
            ],
            [
             0.3333333333333333,
             "#9c179e"
            ],
            [
             0.4444444444444444,
             "#bd3786"
            ],
            [
             0.5555555555555556,
             "#d8576b"
            ],
            [
             0.6666666666666666,
             "#ed7953"
            ],
            [
             0.7777777777777778,
             "#fb9f3a"
            ],
            [
             0.8888888888888888,
             "#fdca26"
            ],
            [
             1,
             "#f0f921"
            ]
           ]
          },
          "colorway": [
           "#636efa",
           "#EF553B",
           "#00cc96",
           "#ab63fa",
           "#FFA15A",
           "#19d3f3",
           "#FF6692",
           "#B6E880",
           "#FF97FF",
           "#FECB52"
          ],
          "font": {
           "color": "#2a3f5f"
          },
          "geo": {
           "bgcolor": "white",
           "lakecolor": "white",
           "landcolor": "#E5ECF6",
           "showlakes": true,
           "showland": true,
           "subunitcolor": "white"
          },
          "hoverlabel": {
           "align": "left"
          },
          "hovermode": "closest",
          "mapbox": {
           "style": "light"
          },
          "paper_bgcolor": "white",
          "plot_bgcolor": "#E5ECF6",
          "polar": {
           "angularaxis": {
            "gridcolor": "white",
            "linecolor": "white",
            "ticks": ""
           },
           "bgcolor": "#E5ECF6",
           "radialaxis": {
            "gridcolor": "white",
            "linecolor": "white",
            "ticks": ""
           }
          },
          "scene": {
           "xaxis": {
            "backgroundcolor": "#E5ECF6",
            "gridcolor": "white",
            "gridwidth": 2,
            "linecolor": "white",
            "showbackground": true,
            "ticks": "",
            "zerolinecolor": "white"
           },
           "yaxis": {
            "backgroundcolor": "#E5ECF6",
            "gridcolor": "white",
            "gridwidth": 2,
            "linecolor": "white",
            "showbackground": true,
            "ticks": "",
            "zerolinecolor": "white"
           },
           "zaxis": {
            "backgroundcolor": "#E5ECF6",
            "gridcolor": "white",
            "gridwidth": 2,
            "linecolor": "white",
            "showbackground": true,
            "ticks": "",
            "zerolinecolor": "white"
           }
          },
          "shapedefaults": {
           "line": {
            "color": "#2a3f5f"
           }
          },
          "ternary": {
           "aaxis": {
            "gridcolor": "white",
            "linecolor": "white",
            "ticks": ""
           },
           "baxis": {
            "gridcolor": "white",
            "linecolor": "white",
            "ticks": ""
           },
           "bgcolor": "#E5ECF6",
           "caxis": {
            "gridcolor": "white",
            "linecolor": "white",
            "ticks": ""
           }
          },
          "title": {
           "x": 0.05
          },
          "xaxis": {
           "automargin": true,
           "gridcolor": "white",
           "linecolor": "white",
           "ticks": "",
           "title": {
            "standoff": 15
           },
           "zerolinecolor": "white",
           "zerolinewidth": 2
          },
          "yaxis": {
           "automargin": true,
           "gridcolor": "white",
           "linecolor": "white",
           "ticks": "",
           "title": {
            "standoff": 15
           },
           "zerolinecolor": "white",
           "zerolinewidth": 2
          }
         }
        },
        "title": {
         "text": "Уровень холестерина в зависимости от степени болезни сердца",
         "x": 0.5
        },
        "xaxis": {
         "linecolor": "black",
         "linewidth": 2,
         "mirror": true,
         "showline": true
        },
        "yaxis": {
         "linecolor": "black",
         "linewidth": 2,
         "mirror": true,
         "showline": true,
         "title": {
          "text": "Уровень холестерина"
         }
        }
       }
      }
     },
     "metadata": {},
     "output_type": "display_data"
    }
   ],
   "source": [
    "fig = go.Figure()\n",
    "fig.add_trace(go.Violin(y=data['chol'].values , name='Все пациенты', marker_color = 'green'))\n",
    "fig.add_trace(go.Violin(y=data[data['num'] == 0]['chol'].values, name ='Отсутствие видимых сердечных заболеваний', marker_color = 'blue'))\n",
    "fig.add_trace(go.Violin(y=data[data['num'] == 1]['chol'].values, name ='Легкая болезнь сердца', marker_color = 'red'))\n",
    "fig.add_trace(go.Violin(y=data[data['num'] == 2]['chol'].values, name ='Умеренная болезнь сердца', marker_color = 'red'))\n",
    "fig.add_trace(go.Violin(y=data[data['num'] == 3]['chol'].values, name ='Тяжелое заболевание сердца', marker_color = 'red'))\n",
    "fig.add_trace(go.Violin(y=data[data['num'] == 4]['chol'].values, name ='Очень тяжелое заболевание сердца', marker_color = 'red'))\n",
    "fig.update_layout(title = 'Уровень холестерина в зависимости от степени болезни сердца', yaxis_title = 'Уровень холестерина', title_x = 0.5)\n",
    "fig.update_xaxes(showline=True, linewidth=2, linecolor='black', mirror=True)\n",
    "fig.update_yaxes(showline=True, linewidth=2, linecolor='black', mirror=True)\n",
    "fig.show() "
   ]
  },
  {
   "cell_type": "markdown",
   "metadata": {},
   "source": [
    "Уровень холестерина меняется в зависимости от болезни сердца, чем диагноз сложнее, тем уровень холестерина выше. Есть так же здоровые люди, но с высоким уровнем холестерина."
   ]
  },
  {
   "cell_type": "code",
   "execution_count": 865,
   "metadata": {},
   "outputs": [
    {
     "data": {
      "application/vnd.plotly.v1+json": {
       "config": {
        "plotlyServerURL": "https://plot.ly"
       },
       "data": [
        {
         "marker": {
          "color": "blue"
         },
         "name": "Стенокардия отсутствует. Макс частота сокращений",
         "type": "violin",
         "y": [
          150,
          187,
          172,
          178,
          160,
          147,
          148,
          153,
          173,
          162,
          174,
          168,
          160,
          139,
          171,
          162,
          160,
          173,
          158,
          172,
          114,
          171,
          151,
          158,
          161,
          178,
          114,
          162,
          157,
          169,
          165,
          123,
          128,
          157,
          152,
          168,
          140,
          153,
          188,
          163,
          158,
          152,
          170,
          113,
          155,
          165,
          147,
          148,
          163,
          158,
          177,
          151,
          142,
          180,
          143,
          182,
          172,
          180,
          156,
          115,
          160,
          149,
          151,
          145,
          146,
          175,
          172,
          157,
          158,
          186,
          185,
          174,
          159,
          130,
          139,
          156,
          150,
          140,
          190,
          97,
          132,
          165,
          182,
          127,
          154,
          174,
          175,
          170,
          163,
          147,
          202,
          165,
          161,
          103,
          166,
          159,
          184,
          152,
          124,
          179,
          170,
          160,
          178,
          122,
          160,
          109,
          171,
          170,
          151,
          156,
          158,
          122,
          175,
          169,
          138,
          157,
          132,
          147,
          162,
          173,
          166,
          178,
          145,
          161,
          179,
          194,
          195,
          146,
          163,
          106,
          115,
          131,
          162,
          125,
          159,
          173,
          133,
          161,
          155,
          170,
          168,
          160,
          162,
          172,
          122,
          182,
          167,
          179,
          192,
          143,
          172,
          169,
          126,
          163,
          144,
          162,
          162,
          153,
          163,
          163,
          145,
          96,
          71,
          156,
          168,
          140,
          105,
          157,
          181,
          173,
          142,
          116,
          143,
          141,
          149,
          152,
          171,
          169,
          134,
          181,
          150,
          138,
          125,
          162,
          155,
          152,
          152,
          164,
          131,
          179,
          174,
          161,
          140,
          144,
          163,
          169,
          150,
          166,
          182,
          90,
          132,
          141,
          174,
          173,
          185,
          160,
          170,
          170,
          150,
          165,
          184,
          155,
          185,
          190,
          168,
          150,
          185,
          150,
          180,
          168,
          180,
          184,
          178,
          172,
          130,
          142,
          184,
          98,
          150,
          168,
          158,
          129,
          150,
          130,
          180,
          146,
          145,
          120,
          106,
          170,
          160,
          132,
          140,
          150,
          172,
          138,
          167,
          188,
          142,
          180,
          150,
          160,
          170,
          144,
          142,
          137,
          150,
          155,
          136,
          146,
          170,
          142,
          165,
          175,
          176,
          118,
          154,
          175,
          138,
          115,
          142,
          135,
          170,
          170,
          180,
          144,
          122,
          110,
          140,
          144,
          90,
          150,
          116,
          140,
          120,
          135,
          145,
          150,
          174,
          148,
          120,
          125,
          175,
          110,
          100,
          160,
          118,
          138,
          160,
          160,
          164,
          135,
          174,
          172,
          132,
          130,
          145,
          160,
          170,
          116,
          135,
          170,
          120,
          120,
          145,
          150,
          100,
          148,
          140,
          139,
          118,
          165,
          170,
          127,
          130,
          132,
          162,
          140,
          148,
          155,
          138,
          140,
          150,
          155,
          140,
          130,
          130,
          137,
          142,
          154,
          110,
          130,
          175,
          137,
          122,
          134,
          160,
          155,
          150,
          137,
          150,
          155,
          160,
          134,
          140,
          164,
          100,
          114,
          140,
          98,
          140,
          150,
          110,
          160,
          100,
          124,
          150,
          100,
          140,
          135,
          116,
          152,
          180,
          140,
          160,
          166,
          170,
          170,
          124,
          110,
          115,
          156,
          175,
          170,
          150,
          140,
          122,
          140,
          125,
          115,
          130,
          150,
          130,
          155,
          112,
          150,
          92,
          130,
          175,
          170,
          150,
          130,
          105,
          136,
          150,
          125,
          135,
          122,
          92,
          104,
          170,
          163,
          60,
          126,
          120,
          95,
          120,
          115,
          120,
          120,
          155,
          150,
          150,
          155,
          92,
          83,
          97,
          98,
          99,
          82,
          148,
          148,
          182,
          138,
          175,
          94,
          115,
          143,
          110,
          149,
          70,
          113,
          115,
          77,
          145,
          143,
          134,
          78,
          109,
          149,
          154,
          145,
          67,
          154,
          122,
          90,
          125,
          136,
          130,
          114,
          121,
          123,
          127,
          120,
          157,
          140,
          190,
          86,
          120,
          124,
          106,
          180,
          129,
          163,
          151,
          86,
          107,
          160,
          95,
          161,
          106,
          95,
          84,
          118,
          125,
          124,
          196,
          180,
          108,
          69,
          85,
          78,
          150,
          110,
          144,
          160,
          132,
          128,
          150,
          150,
          112,
          102,
          100,
          120,
          162,
          100,
          140,
          200,
          73,
          86,
          83,
          160,
          186,
          145,
          122,
          76,
          130,
          108,
          121,
          174,
          83,
          120,
          165,
          94,
          80,
          110,
          130,
          100,
          141,
          98,
          190,
          96,
          126,
          154,
          185,
          100,
          87
         ]
        },
        {
         "marker": {
          "color": "red"
         },
         "name": "Стенокардия присутствует. Макс частота сокращений",
         "type": "violin",
         "y": [
          108,
          129,
          163,
          155,
          142,
          144,
          132,
          114,
          160,
          179,
          120,
          112,
          132,
          137,
          178,
          144,
          109,
          125,
          142,
          160,
          131,
          142,
          140,
          99,
          141,
          111,
          148,
          150,
          161,
          142,
          162,
          140,
          146,
          144,
          136,
          132,
          150,
          143,
          111,
          133,
          126,
          154,
          186,
          125,
          130,
          164,
          131,
          154,
          145,
          96,
          173,
          162,
          168,
          159,
          156,
          112,
          111,
          143,
          88,
          105,
          150,
          120,
          122,
          143,
          125,
          152,
          154,
          147,
          130,
          126,
          154,
          182,
          165,
          152,
          172,
          95,
          169,
          108,
          132,
          117,
          121,
          116,
          103,
          118,
          126,
          105,
          125,
          125,
          156,
          138,
          120,
          143,
          130,
          146,
          144,
          144,
          136,
          123,
          115,
          160,
          152,
          165,
          140,
          125,
          70,
          130,
          110,
          140,
          160,
          140,
          138,
          142,
          112,
          110,
          128,
          126,
          120,
          120,
          115,
          153,
          150,
          130,
          134,
          152,
          138,
          130,
          150,
          125,
          145,
          98,
          103,
          140,
          150,
          120,
          130,
          145,
          130,
          87,
          150,
          130,
          115,
          150,
          102,
          92,
          99,
          121,
          126,
          116,
          150,
          91,
          125,
          118,
          142,
          128,
          125,
          92,
          140,
          120,
          150,
          100,
          108,
          120,
          140,
          96,
          110,
          124,
          82,
          120,
          143,
          96,
          124,
          122,
          99,
          119,
          112,
          94,
          118,
          135,
          98,
          158,
          96,
          140,
          125,
          134,
          94,
          100,
          150,
          110,
          115,
          127,
          128,
          122,
          82,
          122,
          135,
          141,
          110,
          100,
          103,
          121,
          131,
          120,
          100,
          98,
          100,
          105,
          119,
          115,
          130,
          63,
          99,
          110,
          105,
          105,
          117,
          123,
          72,
          128,
          72,
          86,
          98,
          140,
          114,
          93,
          108,
          120,
          126,
          92,
          157,
          112,
          140,
          149,
          99,
          105,
          140,
          141,
          117,
          120,
          148,
          84,
          125,
          118,
          111,
          184,
          140,
          120,
          137,
          182,
          110,
          105,
          110,
          122,
          133,
          115,
          131,
          80,
          189,
          84,
          117,
          128,
          125,
          97,
          130,
          140,
          132,
          120,
          108,
          148,
          123,
          110,
          106,
          144,
          97,
          140,
          102,
          139,
          110,
          140,
          148,
          130,
          130,
          140,
          138,
          140,
          112,
          112,
          80,
          88,
          150,
          120,
          121,
          135,
          120,
          117,
          171,
          182,
          140,
          135,
          173,
          193,
          130,
          112,
          126,
          105,
          129,
          120,
          63,
          118,
          112,
          162,
          60,
          102,
          154,
          160,
          143,
          128,
          115,
          105,
          110,
          119,
          135,
          116,
          120,
          119,
          96,
          199,
          159,
          84,
          122,
          122,
          150,
          113,
          140,
          127,
          96,
          98,
          118,
          112,
          151,
          108,
          128,
          138,
          93
         ]
        }
       ],
       "layout": {
        "template": {
         "data": {
          "bar": [
           {
            "error_x": {
             "color": "#2a3f5f"
            },
            "error_y": {
             "color": "#2a3f5f"
            },
            "marker": {
             "line": {
              "color": "#E5ECF6",
              "width": 0.5
             },
             "pattern": {
              "fillmode": "overlay",
              "size": 10,
              "solidity": 0.2
             }
            },
            "type": "bar"
           }
          ],
          "barpolar": [
           {
            "marker": {
             "line": {
              "color": "#E5ECF6",
              "width": 0.5
             },
             "pattern": {
              "fillmode": "overlay",
              "size": 10,
              "solidity": 0.2
             }
            },
            "type": "barpolar"
           }
          ],
          "carpet": [
           {
            "aaxis": {
             "endlinecolor": "#2a3f5f",
             "gridcolor": "white",
             "linecolor": "white",
             "minorgridcolor": "white",
             "startlinecolor": "#2a3f5f"
            },
            "baxis": {
             "endlinecolor": "#2a3f5f",
             "gridcolor": "white",
             "linecolor": "white",
             "minorgridcolor": "white",
             "startlinecolor": "#2a3f5f"
            },
            "type": "carpet"
           }
          ],
          "choropleth": [
           {
            "colorbar": {
             "outlinewidth": 0,
             "ticks": ""
            },
            "type": "choropleth"
           }
          ],
          "contour": [
           {
            "colorbar": {
             "outlinewidth": 0,
             "ticks": ""
            },
            "colorscale": [
             [
              0,
              "#0d0887"
             ],
             [
              0.1111111111111111,
              "#46039f"
             ],
             [
              0.2222222222222222,
              "#7201a8"
             ],
             [
              0.3333333333333333,
              "#9c179e"
             ],
             [
              0.4444444444444444,
              "#bd3786"
             ],
             [
              0.5555555555555556,
              "#d8576b"
             ],
             [
              0.6666666666666666,
              "#ed7953"
             ],
             [
              0.7777777777777778,
              "#fb9f3a"
             ],
             [
              0.8888888888888888,
              "#fdca26"
             ],
             [
              1,
              "#f0f921"
             ]
            ],
            "type": "contour"
           }
          ],
          "contourcarpet": [
           {
            "colorbar": {
             "outlinewidth": 0,
             "ticks": ""
            },
            "type": "contourcarpet"
           }
          ],
          "heatmap": [
           {
            "colorbar": {
             "outlinewidth": 0,
             "ticks": ""
            },
            "colorscale": [
             [
              0,
              "#0d0887"
             ],
             [
              0.1111111111111111,
              "#46039f"
             ],
             [
              0.2222222222222222,
              "#7201a8"
             ],
             [
              0.3333333333333333,
              "#9c179e"
             ],
             [
              0.4444444444444444,
              "#bd3786"
             ],
             [
              0.5555555555555556,
              "#d8576b"
             ],
             [
              0.6666666666666666,
              "#ed7953"
             ],
             [
              0.7777777777777778,
              "#fb9f3a"
             ],
             [
              0.8888888888888888,
              "#fdca26"
             ],
             [
              1,
              "#f0f921"
             ]
            ],
            "type": "heatmap"
           }
          ],
          "heatmapgl": [
           {
            "colorbar": {
             "outlinewidth": 0,
             "ticks": ""
            },
            "colorscale": [
             [
              0,
              "#0d0887"
             ],
             [
              0.1111111111111111,
              "#46039f"
             ],
             [
              0.2222222222222222,
              "#7201a8"
             ],
             [
              0.3333333333333333,
              "#9c179e"
             ],
             [
              0.4444444444444444,
              "#bd3786"
             ],
             [
              0.5555555555555556,
              "#d8576b"
             ],
             [
              0.6666666666666666,
              "#ed7953"
             ],
             [
              0.7777777777777778,
              "#fb9f3a"
             ],
             [
              0.8888888888888888,
              "#fdca26"
             ],
             [
              1,
              "#f0f921"
             ]
            ],
            "type": "heatmapgl"
           }
          ],
          "histogram": [
           {
            "marker": {
             "pattern": {
              "fillmode": "overlay",
              "size": 10,
              "solidity": 0.2
             }
            },
            "type": "histogram"
           }
          ],
          "histogram2d": [
           {
            "colorbar": {
             "outlinewidth": 0,
             "ticks": ""
            },
            "colorscale": [
             [
              0,
              "#0d0887"
             ],
             [
              0.1111111111111111,
              "#46039f"
             ],
             [
              0.2222222222222222,
              "#7201a8"
             ],
             [
              0.3333333333333333,
              "#9c179e"
             ],
             [
              0.4444444444444444,
              "#bd3786"
             ],
             [
              0.5555555555555556,
              "#d8576b"
             ],
             [
              0.6666666666666666,
              "#ed7953"
             ],
             [
              0.7777777777777778,
              "#fb9f3a"
             ],
             [
              0.8888888888888888,
              "#fdca26"
             ],
             [
              1,
              "#f0f921"
             ]
            ],
            "type": "histogram2d"
           }
          ],
          "histogram2dcontour": [
           {
            "colorbar": {
             "outlinewidth": 0,
             "ticks": ""
            },
            "colorscale": [
             [
              0,
              "#0d0887"
             ],
             [
              0.1111111111111111,
              "#46039f"
             ],
             [
              0.2222222222222222,
              "#7201a8"
             ],
             [
              0.3333333333333333,
              "#9c179e"
             ],
             [
              0.4444444444444444,
              "#bd3786"
             ],
             [
              0.5555555555555556,
              "#d8576b"
             ],
             [
              0.6666666666666666,
              "#ed7953"
             ],
             [
              0.7777777777777778,
              "#fb9f3a"
             ],
             [
              0.8888888888888888,
              "#fdca26"
             ],
             [
              1,
              "#f0f921"
             ]
            ],
            "type": "histogram2dcontour"
           }
          ],
          "mesh3d": [
           {
            "colorbar": {
             "outlinewidth": 0,
             "ticks": ""
            },
            "type": "mesh3d"
           }
          ],
          "parcoords": [
           {
            "line": {
             "colorbar": {
              "outlinewidth": 0,
              "ticks": ""
             }
            },
            "type": "parcoords"
           }
          ],
          "pie": [
           {
            "automargin": true,
            "type": "pie"
           }
          ],
          "scatter": [
           {
            "fillpattern": {
             "fillmode": "overlay",
             "size": 10,
             "solidity": 0.2
            },
            "type": "scatter"
           }
          ],
          "scatter3d": [
           {
            "line": {
             "colorbar": {
              "outlinewidth": 0,
              "ticks": ""
             }
            },
            "marker": {
             "colorbar": {
              "outlinewidth": 0,
              "ticks": ""
             }
            },
            "type": "scatter3d"
           }
          ],
          "scattercarpet": [
           {
            "marker": {
             "colorbar": {
              "outlinewidth": 0,
              "ticks": ""
             }
            },
            "type": "scattercarpet"
           }
          ],
          "scattergeo": [
           {
            "marker": {
             "colorbar": {
              "outlinewidth": 0,
              "ticks": ""
             }
            },
            "type": "scattergeo"
           }
          ],
          "scattergl": [
           {
            "marker": {
             "colorbar": {
              "outlinewidth": 0,
              "ticks": ""
             }
            },
            "type": "scattergl"
           }
          ],
          "scattermapbox": [
           {
            "marker": {
             "colorbar": {
              "outlinewidth": 0,
              "ticks": ""
             }
            },
            "type": "scattermapbox"
           }
          ],
          "scatterpolar": [
           {
            "marker": {
             "colorbar": {
              "outlinewidth": 0,
              "ticks": ""
             }
            },
            "type": "scatterpolar"
           }
          ],
          "scatterpolargl": [
           {
            "marker": {
             "colorbar": {
              "outlinewidth": 0,
              "ticks": ""
             }
            },
            "type": "scatterpolargl"
           }
          ],
          "scatterternary": [
           {
            "marker": {
             "colorbar": {
              "outlinewidth": 0,
              "ticks": ""
             }
            },
            "type": "scatterternary"
           }
          ],
          "surface": [
           {
            "colorbar": {
             "outlinewidth": 0,
             "ticks": ""
            },
            "colorscale": [
             [
              0,
              "#0d0887"
             ],
             [
              0.1111111111111111,
              "#46039f"
             ],
             [
              0.2222222222222222,
              "#7201a8"
             ],
             [
              0.3333333333333333,
              "#9c179e"
             ],
             [
              0.4444444444444444,
              "#bd3786"
             ],
             [
              0.5555555555555556,
              "#d8576b"
             ],
             [
              0.6666666666666666,
              "#ed7953"
             ],
             [
              0.7777777777777778,
              "#fb9f3a"
             ],
             [
              0.8888888888888888,
              "#fdca26"
             ],
             [
              1,
              "#f0f921"
             ]
            ],
            "type": "surface"
           }
          ],
          "table": [
           {
            "cells": {
             "fill": {
              "color": "#EBF0F8"
             },
             "line": {
              "color": "white"
             }
            },
            "header": {
             "fill": {
              "color": "#C8D4E3"
             },
             "line": {
              "color": "white"
             }
            },
            "type": "table"
           }
          ]
         },
         "layout": {
          "annotationdefaults": {
           "arrowcolor": "#2a3f5f",
           "arrowhead": 0,
           "arrowwidth": 1
          },
          "autotypenumbers": "strict",
          "coloraxis": {
           "colorbar": {
            "outlinewidth": 0,
            "ticks": ""
           }
          },
          "colorscale": {
           "diverging": [
            [
             0,
             "#8e0152"
            ],
            [
             0.1,
             "#c51b7d"
            ],
            [
             0.2,
             "#de77ae"
            ],
            [
             0.3,
             "#f1b6da"
            ],
            [
             0.4,
             "#fde0ef"
            ],
            [
             0.5,
             "#f7f7f7"
            ],
            [
             0.6,
             "#e6f5d0"
            ],
            [
             0.7,
             "#b8e186"
            ],
            [
             0.8,
             "#7fbc41"
            ],
            [
             0.9,
             "#4d9221"
            ],
            [
             1,
             "#276419"
            ]
           ],
           "sequential": [
            [
             0,
             "#0d0887"
            ],
            [
             0.1111111111111111,
             "#46039f"
            ],
            [
             0.2222222222222222,
             "#7201a8"
            ],
            [
             0.3333333333333333,
             "#9c179e"
            ],
            [
             0.4444444444444444,
             "#bd3786"
            ],
            [
             0.5555555555555556,
             "#d8576b"
            ],
            [
             0.6666666666666666,
             "#ed7953"
            ],
            [
             0.7777777777777778,
             "#fb9f3a"
            ],
            [
             0.8888888888888888,
             "#fdca26"
            ],
            [
             1,
             "#f0f921"
            ]
           ],
           "sequentialminus": [
            [
             0,
             "#0d0887"
            ],
            [
             0.1111111111111111,
             "#46039f"
            ],
            [
             0.2222222222222222,
             "#7201a8"
            ],
            [
             0.3333333333333333,
             "#9c179e"
            ],
            [
             0.4444444444444444,
             "#bd3786"
            ],
            [
             0.5555555555555556,
             "#d8576b"
            ],
            [
             0.6666666666666666,
             "#ed7953"
            ],
            [
             0.7777777777777778,
             "#fb9f3a"
            ],
            [
             0.8888888888888888,
             "#fdca26"
            ],
            [
             1,
             "#f0f921"
            ]
           ]
          },
          "colorway": [
           "#636efa",
           "#EF553B",
           "#00cc96",
           "#ab63fa",
           "#FFA15A",
           "#19d3f3",
           "#FF6692",
           "#B6E880",
           "#FF97FF",
           "#FECB52"
          ],
          "font": {
           "color": "#2a3f5f"
          },
          "geo": {
           "bgcolor": "white",
           "lakecolor": "white",
           "landcolor": "#E5ECF6",
           "showlakes": true,
           "showland": true,
           "subunitcolor": "white"
          },
          "hoverlabel": {
           "align": "left"
          },
          "hovermode": "closest",
          "mapbox": {
           "style": "light"
          },
          "paper_bgcolor": "white",
          "plot_bgcolor": "#E5ECF6",
          "polar": {
           "angularaxis": {
            "gridcolor": "white",
            "linecolor": "white",
            "ticks": ""
           },
           "bgcolor": "#E5ECF6",
           "radialaxis": {
            "gridcolor": "white",
            "linecolor": "white",
            "ticks": ""
           }
          },
          "scene": {
           "xaxis": {
            "backgroundcolor": "#E5ECF6",
            "gridcolor": "white",
            "gridwidth": 2,
            "linecolor": "white",
            "showbackground": true,
            "ticks": "",
            "zerolinecolor": "white"
           },
           "yaxis": {
            "backgroundcolor": "#E5ECF6",
            "gridcolor": "white",
            "gridwidth": 2,
            "linecolor": "white",
            "showbackground": true,
            "ticks": "",
            "zerolinecolor": "white"
           },
           "zaxis": {
            "backgroundcolor": "#E5ECF6",
            "gridcolor": "white",
            "gridwidth": 2,
            "linecolor": "white",
            "showbackground": true,
            "ticks": "",
            "zerolinecolor": "white"
           }
          },
          "shapedefaults": {
           "line": {
            "color": "#2a3f5f"
           }
          },
          "ternary": {
           "aaxis": {
            "gridcolor": "white",
            "linecolor": "white",
            "ticks": ""
           },
           "baxis": {
            "gridcolor": "white",
            "linecolor": "white",
            "ticks": ""
           },
           "bgcolor": "#E5ECF6",
           "caxis": {
            "gridcolor": "white",
            "linecolor": "white",
            "ticks": ""
           }
          },
          "title": {
           "x": 0.05
          },
          "xaxis": {
           "automargin": true,
           "gridcolor": "white",
           "linecolor": "white",
           "ticks": "",
           "title": {
            "standoff": 15
           },
           "zerolinecolor": "white",
           "zerolinewidth": 2
          },
          "yaxis": {
           "automargin": true,
           "gridcolor": "white",
           "linecolor": "white",
           "ticks": "",
           "title": {
            "standoff": 15
           },
           "zerolinecolor": "white",
           "zerolinewidth": 2
          }
         }
        },
        "title": {
         "text": "Стенокардия и максимальная частота сердечных сокращений (после занятия спортом)",
         "x": 0.5
        },
        "xaxis": {
         "linecolor": "black",
         "linewidth": 2,
         "mirror": true,
         "showline": true
        },
        "yaxis": {
         "linecolor": "black",
         "linewidth": 2,
         "mirror": true,
         "showline": true,
         "title": {
          "text": "Макс. частота сердечных сокращений"
         }
        }
       }
      }
     },
     "metadata": {},
     "output_type": "display_data"
    }
   ],
   "source": [
    "\n",
    "fig = go.Figure()\n",
    "fig.add_trace(go.Violin(y=data[data['exang'] == 0]['thalch'], name ='Стенокардия отсутствует. Макс частота сокращений', marker_color = 'blue'))\n",
    "fig.add_trace(go.Violin(y=data[data['exang'] == 1]['thalch'], name ='Стенокардия присутствует. Макс частота сокращений', marker_color = 'red'))\n",
    "fig.update_layout(title = 'Стенокардия и максимальная частота сердечных сокращений (после занятия спортом)', yaxis_title = 'Макс. частота сердечных сокращений', title_x = 0.5)\n",
    "fig.update_xaxes(showline=True, linewidth=2, linecolor='black', mirror=True)\n",
    "fig.update_yaxes(showline=True, linewidth=2, linecolor='black', mirror=True)\n",
    "fig.show()  "
   ]
  },
  {
   "cell_type": "markdown",
   "metadata": {},
   "source": [
    "При стенокардии максимальная частота сердечных сокращений ниже, но есть максимальные/минимальные значения сильно выбивающиеся из общей картины."
   ]
  },
  {
   "cell_type": "code",
   "execution_count": 866,
   "metadata": {},
   "outputs": [
    {
     "data": {
      "image/png": "[encoded data removed]",
      "text/plain": [
       "<Figure size 1500x1500 with 1 Axes>"
      ]
     },
     "metadata": {},
     "output_type": "display_data"
    }
   ],
   "source": [
    "# построим гистограмму\n",
    "\n",
    "sns.barplot(data=data, y='exang', x='num')\n",
    "plt.show()"
   ]
  },
  {
   "cell_type": "markdown",
   "metadata": {},
   "source": [
    "Шанс стенакордии у человека с болещнию сердца более высок. Сравним электрокардиография у больных и не больных пациентов."
   ]
  },
  {
   "cell_type": "code",
   "execution_count": 867,
   "metadata": {},
   "outputs": [
    {
     "data": {
      "application/vnd.plotly.v1+json": {
       "config": {
        "plotlyServerURL": "https://plot.ly"
       },
       "data": [
        {
         "marker": {
          "color": "blue"
         },
         "name": "Электрокардиография normal",
         "type": "violin",
         "y": [
          0,
          0,
          0,
          0,
          0,
          0,
          0,
          1,
          0,
          0,
          0,
          0,
          0,
          0,
          0,
          0,
          2,
          1,
          0,
          0,
          0,
          3,
          0,
          0,
          0,
          0,
          0,
          0,
          0,
          1,
          1,
          2,
          0,
          2,
          1,
          0,
          3,
          1,
          0,
          0,
          0,
          1,
          0,
          3,
          0,
          2,
          2,
          3,
          2,
          0,
          0,
          0,
          3,
          3,
          0,
          0,
          0,
          0,
          4,
          1,
          0,
          0,
          1,
          1,
          0,
          0,
          0,
          1,
          0,
          0,
          0,
          0,
          0,
          0,
          0,
          3,
          1,
          1,
          0,
          0,
          0,
          0,
          2,
          0,
          3,
          2,
          0,
          0,
          0,
          0,
          0,
          0,
          1,
          0,
          4,
          3,
          1,
          0,
          0,
          0,
          3,
          1,
          0,
          0,
          0,
          0,
          0,
          0,
          0,
          0,
          0,
          2,
          0,
          2,
          2,
          3,
          0,
          1,
          0,
          0,
          0,
          0,
          1,
          0,
          0,
          0,
          2,
          2,
          2,
          1,
          0,
          2,
          0,
          1,
          0,
          0,
          2,
          0,
          0,
          2,
          0,
          0,
          0,
          2,
          1,
          0,
          1,
          1,
          2,
          3,
          0,
          0,
          0,
          0,
          0,
          0,
          0,
          0,
          0,
          0,
          0,
          0,
          0,
          0,
          0,
          0,
          0,
          0,
          0,
          0,
          0,
          0,
          0,
          0,
          0,
          0,
          0,
          0,
          0,
          0,
          0,
          0,
          0,
          0,
          0,
          0,
          0,
          0,
          0,
          0,
          0,
          0,
          0,
          0,
          0,
          0,
          0,
          0,
          0,
          0,
          0,
          0,
          0,
          0,
          0,
          0,
          0,
          0,
          0,
          0,
          0,
          0,
          0,
          0,
          0,
          0,
          0,
          0,
          0,
          0,
          0,
          0,
          0,
          0,
          0,
          0,
          0,
          0,
          0,
          0,
          0,
          0,
          0,
          0,
          0,
          0,
          0,
          0,
          0,
          0,
          0,
          0,
          0,
          0,
          0,
          0,
          0,
          0,
          0,
          0,
          0,
          0,
          0,
          0,
          0,
          0,
          0,
          0,
          0,
          0,
          0,
          0,
          0,
          0,
          0,
          0,
          0,
          0,
          0,
          0,
          0,
          0,
          0,
          0,
          0,
          0,
          0,
          0,
          0,
          0,
          0,
          0,
          0,
          0,
          0,
          0,
          0,
          0,
          0,
          0,
          0,
          0,
          0,
          0,
          0,
          0,
          0,
          0,
          0,
          0,
          0,
          1,
          1,
          1,
          1,
          1,
          1,
          1,
          1,
          1,
          1,
          1,
          1,
          1,
          1,
          1,
          1,
          1,
          1,
          1,
          1,
          1,
          1,
          1,
          1,
          1,
          1,
          1,
          1,
          1,
          1,
          1,
          1,
          1,
          1,
          1,
          1,
          1,
          1,
          1,
          1,
          1,
          1,
          1,
          1,
          1,
          1,
          1,
          1,
          1,
          1,
          1,
          1,
          1,
          1,
          1,
          1,
          1,
          1,
          1,
          1,
          1,
          1,
          1,
          1,
          1,
          1,
          1,
          1,
          1,
          1,
          1,
          1,
          1,
          1,
          1,
          1,
          1,
          1,
          1,
          1,
          1,
          1,
          1,
          1,
          1,
          1,
          2,
          4,
          3,
          2,
          2,
          2,
          2,
          2,
          2,
          2,
          3,
          1,
          1,
          4,
          0,
          2,
          3,
          1,
          1,
          2,
          0,
          2,
          3,
          1,
          1,
          2,
          3,
          2,
          1,
          1,
          1,
          3,
          2,
          1,
          1,
          1,
          3,
          3,
          1,
          1,
          1,
          3,
          3,
          1,
          2,
          2,
          3,
          2,
          1,
          1,
          3,
          1,
          3,
          1,
          1,
          1,
          0,
          1,
          3,
          1,
          1,
          3,
          3,
          1,
          4,
          1,
          2,
          0,
          1,
          3,
          2,
          0,
          1,
          3,
          2,
          1,
          0,
          2,
          0,
          0,
          0,
          1,
          2,
          0,
          2,
          2,
          3,
          1,
          0,
          3,
          3,
          3,
          2,
          1,
          0,
          2,
          2,
          4,
          2,
          1,
          3,
          0,
          3,
          1,
          0,
          1,
          3,
          1,
          0,
          1,
          3,
          1,
          1,
          0,
          1,
          3,
          3,
          3,
          0,
          4,
          0,
          0,
          1,
          1,
          2,
          1,
          3,
          3,
          1,
          1,
          1,
          1,
          3,
          2,
          0,
          2
         ]
        },
        {
         "marker": {
          "color": "red"
         },
         "name": "Электрокардиография lv hypertrophy",
         "type": "violin",
         "y": [
          0,
          2,
          1,
          0,
          3,
          2,
          1,
          0,
          2,
          0,
          0,
          1,
          3,
          4,
          3,
          3,
          1,
          4,
          1,
          4,
          4,
          0,
          0,
          2,
          0,
          1,
          1,
          0,
          0,
          0,
          1,
          2,
          1,
          0,
          2,
          1,
          1,
          0,
          1,
          0,
          0,
          3,
          0,
          0,
          0,
          3,
          0,
          0,
          0,
          0,
          0,
          0,
          3,
          0,
          2,
          3,
          0,
          0,
          0,
          0,
          0,
          1,
          1,
          1,
          0,
          2,
          0,
          3,
          2,
          3,
          4,
          1,
          0,
          3,
          0,
          0,
          0,
          0,
          3,
          0,
          1,
          0,
          4,
          0,
          0,
          0,
          4,
          3,
          1,
          1,
          2,
          4,
          0,
          0,
          1,
          0,
          0,
          4,
          1,
          0,
          3,
          2,
          0,
          0,
          1,
          1,
          2,
          1,
          0,
          3,
          0,
          0,
          1,
          0,
          3,
          3,
          3,
          0,
          0,
          0,
          0,
          0,
          0,
          3,
          2,
          0,
          1,
          0,
          3,
          2,
          1,
          1,
          0,
          0,
          0,
          3,
          4,
          1,
          0,
          0,
          0,
          1,
          2,
          0,
          1,
          2,
          3,
          1,
          0,
          0,
          0,
          0,
          0,
          1,
          1,
          2,
          3,
          1,
          2,
          2,
          0,
          0,
          1,
          1,
          0,
          4,
          1,
          1,
          3,
          1,
          0,
          4,
          0,
          2,
          3,
          1,
          2,
          0,
          0,
          4,
          2,
          3,
          1,
          1,
          1,
          0,
          0,
          1
         ]
        },
        {
         "marker": {
          "color": "red"
         },
         "name": "Электрокардиография st-t abnormality",
         "type": "violin",
         "y": [
          2,
          0,
          3,
          4,
          0,
          0,
          0,
          0,
          0,
          0,
          0,
          0,
          0,
          0,
          0,
          0,
          0,
          0,
          0,
          0,
          0,
          0,
          0,
          0,
          0,
          0,
          0,
          0,
          0,
          0,
          0,
          0,
          0,
          0,
          0,
          0,
          0,
          1,
          1,
          1,
          1,
          1,
          1,
          1,
          1,
          1,
          1,
          1,
          1,
          1,
          1,
          1,
          1,
          1,
          1,
          1,
          1,
          0,
          0,
          4,
          2,
          1,
          2,
          2,
          3,
          4,
          1,
          1,
          3,
          3,
          2,
          1,
          3,
          3,
          3,
          3,
          3,
          3,
          1,
          1,
          1,
          2,
          0,
          2,
          1,
          0,
          3,
          0,
          1,
          0,
          1,
          1,
          0,
          0,
          0,
          1,
          3,
          2,
          2,
          2,
          1,
          3,
          3,
          3,
          3,
          2,
          0,
          3,
          4,
          1,
          2,
          2,
          3,
          1,
          2,
          1,
          0,
          2,
          1,
          2,
          3,
          0,
          1,
          3,
          1,
          0,
          1,
          0,
          3,
          0,
          3,
          2,
          2,
          2,
          3,
          1,
          2,
          1,
          3,
          0,
          0,
          2,
          4,
          2,
          0,
          0,
          1,
          3,
          3,
          3,
          2,
          2,
          2,
          4,
          3,
          2,
          1,
          3,
          0,
          0,
          0,
          0,
          2,
          4,
          3,
          1,
          1,
          0,
          2
         ]
        }
       ],
       "layout": {
        "template": {
         "data": {
          "bar": [
           {
            "error_x": {
             "color": "#2a3f5f"
            },
            "error_y": {
             "color": "#2a3f5f"
            },
            "marker": {
             "line": {
              "color": "#E5ECF6",
              "width": 0.5
             },
             "pattern": {
              "fillmode": "overlay",
              "size": 10,
              "solidity": 0.2
             }
            },
            "type": "bar"
           }
          ],
          "barpolar": [
           {
            "marker": {
             "line": {
              "color": "#E5ECF6",
              "width": 0.5
             },
             "pattern": {
              "fillmode": "overlay",
              "size": 10,
              "solidity": 0.2
             }
            },
            "type": "barpolar"
           }
          ],
          "carpet": [
           {
            "aaxis": {
             "endlinecolor": "#2a3f5f",
             "gridcolor": "white",
             "linecolor": "white",
             "minorgridcolor": "white",
             "startlinecolor": "#2a3f5f"
            },
            "baxis": {
             "endlinecolor": "#2a3f5f",
             "gridcolor": "white",
             "linecolor": "white",
             "minorgridcolor": "white",
             "startlinecolor": "#2a3f5f"
            },
            "type": "carpet"
           }
          ],
          "choropleth": [
           {
            "colorbar": {
             "outlinewidth": 0,
             "ticks": ""
            },
            "type": "choropleth"
           }
          ],
          "contour": [
           {
            "colorbar": {
             "outlinewidth": 0,
             "ticks": ""
            },
            "colorscale": [
             [
              0,
              "#0d0887"
             ],
             [
              0.1111111111111111,
              "#46039f"
             ],
             [
              0.2222222222222222,
              "#7201a8"
             ],
             [
              0.3333333333333333,
              "#9c179e"
             ],
             [
              0.4444444444444444,
              "#bd3786"
             ],
             [
              0.5555555555555556,
              "#d8576b"
             ],
             [
              0.6666666666666666,
              "#ed7953"
             ],
             [
              0.7777777777777778,
              "#fb9f3a"
             ],
             [
              0.8888888888888888,
              "#fdca26"
             ],
             [
              1,
              "#f0f921"
             ]
            ],
            "type": "contour"
           }
          ],
          "contourcarpet": [
           {
            "colorbar": {
             "outlinewidth": 0,
             "ticks": ""
            },
            "type": "contourcarpet"
           }
          ],
          "heatmap": [
           {
            "colorbar": {
             "outlinewidth": 0,
             "ticks": ""
            },
            "colorscale": [
             [
              0,
              "#0d0887"
             ],
             [
              0.1111111111111111,
              "#46039f"
             ],
             [
              0.2222222222222222,
              "#7201a8"
             ],
             [
              0.3333333333333333,
              "#9c179e"
             ],
             [
              0.4444444444444444,
              "#bd3786"
             ],
             [
              0.5555555555555556,
              "#d8576b"
             ],
             [
              0.6666666666666666,
              "#ed7953"
             ],
             [
              0.7777777777777778,
              "#fb9f3a"
             ],
             [
              0.8888888888888888,
              "#fdca26"
             ],
             [
              1,
              "#f0f921"
             ]
            ],
            "type": "heatmap"
           }
          ],
          "heatmapgl": [
           {
            "colorbar": {
             "outlinewidth": 0,
             "ticks": ""
            },
            "colorscale": [
             [
              0,
              "#0d0887"
             ],
             [
              0.1111111111111111,
              "#46039f"
             ],
             [
              0.2222222222222222,
              "#7201a8"
             ],
             [
              0.3333333333333333,
              "#9c179e"
             ],
             [
              0.4444444444444444,
              "#bd3786"
             ],
             [
              0.5555555555555556,
              "#d8576b"
             ],
             [
              0.6666666666666666,
              "#ed7953"
             ],
             [
              0.7777777777777778,
              "#fb9f3a"
             ],
             [
              0.8888888888888888,
              "#fdca26"
             ],
             [
              1,
              "#f0f921"
             ]
            ],
            "type": "heatmapgl"
           }
          ],
          "histogram": [
           {
            "marker": {
             "pattern": {
              "fillmode": "overlay",
              "size": 10,
              "solidity": 0.2
             }
            },
            "type": "histogram"
           }
          ],
          "histogram2d": [
           {
            "colorbar": {
             "outlinewidth": 0,
             "ticks": ""
            },
            "colorscale": [
             [
              0,
              "#0d0887"
             ],
             [
              0.1111111111111111,
              "#46039f"
             ],
             [
              0.2222222222222222,
              "#7201a8"
             ],
             [
              0.3333333333333333,
              "#9c179e"
             ],
             [
              0.4444444444444444,
              "#bd3786"
             ],
             [
              0.5555555555555556,
              "#d8576b"
             ],
             [
              0.6666666666666666,
              "#ed7953"
             ],
             [
              0.7777777777777778,
              "#fb9f3a"
             ],
             [
              0.8888888888888888,
              "#fdca26"
             ],
             [
              1,
              "#f0f921"
             ]
            ],
            "type": "histogram2d"
           }
          ],
          "histogram2dcontour": [
           {
            "colorbar": {
             "outlinewidth": 0,
             "ticks": ""
            },
            "colorscale": [
             [
              0,
              "#0d0887"
             ],
             [
              0.1111111111111111,
              "#46039f"
             ],
             [
              0.2222222222222222,
              "#7201a8"
             ],
             [
              0.3333333333333333,
              "#9c179e"
             ],
             [
              0.4444444444444444,
              "#bd3786"
             ],
             [
              0.5555555555555556,
              "#d8576b"
             ],
             [
              0.6666666666666666,
              "#ed7953"
             ],
             [
              0.7777777777777778,
              "#fb9f3a"
             ],
             [
              0.8888888888888888,
              "#fdca26"
             ],
             [
              1,
              "#f0f921"
             ]
            ],
            "type": "histogram2dcontour"
           }
          ],
          "mesh3d": [
           {
            "colorbar": {
             "outlinewidth": 0,
             "ticks": ""
            },
            "type": "mesh3d"
           }
          ],
          "parcoords": [
           {
            "line": {
             "colorbar": {
              "outlinewidth": 0,
              "ticks": ""
             }
            },
            "type": "parcoords"
           }
          ],
          "pie": [
           {
            "automargin": true,
            "type": "pie"
           }
          ],
          "scatter": [
           {
            "fillpattern": {
             "fillmode": "overlay",
             "size": 10,
             "solidity": 0.2
            },
            "type": "scatter"
           }
          ],
          "scatter3d": [
           {
            "line": {
             "colorbar": {
              "outlinewidth": 0,
              "ticks": ""
             }
            },
            "marker": {
             "colorbar": {
              "outlinewidth": 0,
              "ticks": ""
             }
            },
            "type": "scatter3d"
           }
          ],
          "scattercarpet": [
           {
            "marker": {
             "colorbar": {
              "outlinewidth": 0,
              "ticks": ""
             }
            },
            "type": "scattercarpet"
           }
          ],
          "scattergeo": [
           {
            "marker": {
             "colorbar": {
              "outlinewidth": 0,
              "ticks": ""
             }
            },
            "type": "scattergeo"
           }
          ],
          "scattergl": [
           {
            "marker": {
             "colorbar": {
              "outlinewidth": 0,
              "ticks": ""
             }
            },
            "type": "scattergl"
           }
          ],
          "scattermapbox": [
           {
            "marker": {
             "colorbar": {
              "outlinewidth": 0,
              "ticks": ""
             }
            },
            "type": "scattermapbox"
           }
          ],
          "scatterpolar": [
           {
            "marker": {
             "colorbar": {
              "outlinewidth": 0,
              "ticks": ""
             }
            },
            "type": "scatterpolar"
           }
          ],
          "scatterpolargl": [
           {
            "marker": {
             "colorbar": {
              "outlinewidth": 0,
              "ticks": ""
             }
            },
            "type": "scatterpolargl"
           }
          ],
          "scatterternary": [
           {
            "marker": {
             "colorbar": {
              "outlinewidth": 0,
              "ticks": ""
             }
            },
            "type": "scatterternary"
           }
          ],
          "surface": [
           {
            "colorbar": {
             "outlinewidth": 0,
             "ticks": ""
            },
            "colorscale": [
             [
              0,
              "#0d0887"
             ],
             [
              0.1111111111111111,
              "#46039f"
             ],
             [
              0.2222222222222222,
              "#7201a8"
             ],
             [
              0.3333333333333333,
              "#9c179e"
             ],
             [
              0.4444444444444444,
              "#bd3786"
             ],
             [
              0.5555555555555556,
              "#d8576b"
             ],
             [
              0.6666666666666666,
              "#ed7953"
             ],
             [
              0.7777777777777778,
              "#fb9f3a"
             ],
             [
              0.8888888888888888,
              "#fdca26"
             ],
             [
              1,
              "#f0f921"
             ]
            ],
            "type": "surface"
           }
          ],
          "table": [
           {
            "cells": {
             "fill": {
              "color": "#EBF0F8"
             },
             "line": {
              "color": "white"
             }
            },
            "header": {
             "fill": {
              "color": "#C8D4E3"
             },
             "line": {
              "color": "white"
             }
            },
            "type": "table"
           }
          ]
         },
         "layout": {
          "annotationdefaults": {
           "arrowcolor": "#2a3f5f",
           "arrowhead": 0,
           "arrowwidth": 1
          },
          "autotypenumbers": "strict",
          "coloraxis": {
           "colorbar": {
            "outlinewidth": 0,
            "ticks": ""
           }
          },
          "colorscale": {
           "diverging": [
            [
             0,
             "#8e0152"
            ],
            [
             0.1,
             "#c51b7d"
            ],
            [
             0.2,
             "#de77ae"
            ],
            [
             0.3,
             "#f1b6da"
            ],
            [
             0.4,
             "#fde0ef"
            ],
            [
             0.5,
             "#f7f7f7"
            ],
            [
             0.6,
             "#e6f5d0"
            ],
            [
             0.7,
             "#b8e186"
            ],
            [
             0.8,
             "#7fbc41"
            ],
            [
             0.9,
             "#4d9221"
            ],
            [
             1,
             "#276419"
            ]
           ],
           "sequential": [
            [
             0,
             "#0d0887"
            ],
            [
             0.1111111111111111,
             "#46039f"
            ],
            [
             0.2222222222222222,
             "#7201a8"
            ],
            [
             0.3333333333333333,
             "#9c179e"
            ],
            [
             0.4444444444444444,
             "#bd3786"
            ],
            [
             0.5555555555555556,
             "#d8576b"
            ],
            [
             0.6666666666666666,
             "#ed7953"
            ],
            [
             0.7777777777777778,
             "#fb9f3a"
            ],
            [
             0.8888888888888888,
             "#fdca26"
            ],
            [
             1,
             "#f0f921"
            ]
           ],
           "sequentialminus": [
            [
             0,
             "#0d0887"
            ],
            [
             0.1111111111111111,
             "#46039f"
            ],
            [
             0.2222222222222222,
             "#7201a8"
            ],
            [
             0.3333333333333333,
             "#9c179e"
            ],
            [
             0.4444444444444444,
             "#bd3786"
            ],
            [
             0.5555555555555556,
             "#d8576b"
            ],
            [
             0.6666666666666666,
             "#ed7953"
            ],
            [
             0.7777777777777778,
             "#fb9f3a"
            ],
            [
             0.8888888888888888,
             "#fdca26"
            ],
            [
             1,
             "#f0f921"
            ]
           ]
          },
          "colorway": [
           "#636efa",
           "#EF553B",
           "#00cc96",
           "#ab63fa",
           "#FFA15A",
           "#19d3f3",
           "#FF6692",
           "#B6E880",
           "#FF97FF",
           "#FECB52"
          ],
          "font": {
           "color": "#2a3f5f"
          },
          "geo": {
           "bgcolor": "white",
           "lakecolor": "white",
           "landcolor": "#E5ECF6",
           "showlakes": true,
           "showland": true,
           "subunitcolor": "white"
          },
          "hoverlabel": {
           "align": "left"
          },
          "hovermode": "closest",
          "mapbox": {
           "style": "light"
          },
          "paper_bgcolor": "white",
          "plot_bgcolor": "#E5ECF6",
          "polar": {
           "angularaxis": {
            "gridcolor": "white",
            "linecolor": "white",
            "ticks": ""
           },
           "bgcolor": "#E5ECF6",
           "radialaxis": {
            "gridcolor": "white",
            "linecolor": "white",
            "ticks": ""
           }
          },
          "scene": {
           "xaxis": {
            "backgroundcolor": "#E5ECF6",
            "gridcolor": "white",
            "gridwidth": 2,
            "linecolor": "white",
            "showbackground": true,
            "ticks": "",
            "zerolinecolor": "white"
           },
           "yaxis": {
            "backgroundcolor": "#E5ECF6",
            "gridcolor": "white",
            "gridwidth": 2,
            "linecolor": "white",
            "showbackground": true,
            "ticks": "",
            "zerolinecolor": "white"
           },
           "zaxis": {
            "backgroundcolor": "#E5ECF6",
            "gridcolor": "white",
            "gridwidth": 2,
            "linecolor": "white",
            "showbackground": true,
            "ticks": "",
            "zerolinecolor": "white"
           }
          },
          "shapedefaults": {
           "line": {
            "color": "#2a3f5f"
           }
          },
          "ternary": {
           "aaxis": {
            "gridcolor": "white",
            "linecolor": "white",
            "ticks": ""
           },
           "baxis": {
            "gridcolor": "white",
            "linecolor": "white",
            "ticks": ""
           },
           "bgcolor": "#E5ECF6",
           "caxis": {
            "gridcolor": "white",
            "linecolor": "white",
            "ticks": ""
           }
          },
          "title": {
           "x": 0.05
          },
          "xaxis": {
           "automargin": true,
           "gridcolor": "white",
           "linecolor": "white",
           "ticks": "",
           "title": {
            "standoff": 15
           },
           "zerolinecolor": "white",
           "zerolinewidth": 2
          },
          "yaxis": {
           "automargin": true,
           "gridcolor": "white",
           "linecolor": "white",
           "ticks": "",
           "title": {
            "standoff": 15
           },
           "zerolinecolor": "white",
           "zerolinewidth": 2
          }
         }
        },
        "title": {
         "text": "Результаты электрокардиографии в состоянии покоя",
         "x": 0.5
        },
        "xaxis": {
         "linecolor": "black",
         "linewidth": 2,
         "mirror": true,
         "showline": true
        },
        "yaxis": {
         "linecolor": "black",
         "linewidth": 2,
         "mirror": true,
         "showline": true,
         "title": {
          "text": "Макс. частота сердечных сокращений"
         }
        }
       }
      }
     },
     "metadata": {},
     "output_type": "display_data"
    }
   ],
   "source": [
    "fig = go.Figure()\n",
    "fig.add_trace(go.Violin(y=data[data['restecg'] == 'normal']['num'], name ='Электрокардиография normal', marker_color = 'blue'))\n",
    "fig.add_trace(go.Violin(y=data[data['restecg'] == 'lv hypertrophy']['num'], name ='Электрокардиография lv hypertrophy', marker_color = 'red'))\n",
    "fig.add_trace(go.Violin(y=data[data['restecg'] == 'st-t abnormality']['num'], name ='Электрокардиография st-t abnormality', marker_color = 'red'))\n",
    "fig.update_layout(title = 'Результаты электрокардиографии в состоянии покоя', yaxis_title = 'Макс. частота сердечных сокращений', title_x = 0.5)\n",
    "fig.update_xaxes(showline=True, linewidth=2, linecolor='black', mirror=True)\n",
    "fig.update_yaxes(showline=True, linewidth=2, linecolor='black', mirror=True)\n",
    "fig.show()  "
   ]
  },
  {
   "cell_type": "markdown",
   "metadata": {},
   "source": [
    "По результатам электрокардиографи болезнь сердца не определить."
   ]
  },
  {
   "cell_type": "markdown",
   "metadata": {
    "pycharm": {
     "name": "#%% md\n"
    }
   },
   "source": [
    "### Baseline модель"
   ]
  },
  {
   "cell_type": "markdown",
   "metadata": {},
   "source": [
    "Перед тем как стоить модель, определимся с метрикой. Нам важнее найти всех больных, по этому выбираем метрику recall. "
   ]
  },
  {
   "cell_type": "code",
   "execution_count": 868,
   "metadata": {
    "pycharm": {
     "name": "#%%\n"
    }
   },
   "outputs": [],
   "source": [
    "# Удалим вспомогательные столбцы\n",
    "# Переведем целевой признак в бинарную классификацию\n",
    "# Т.к  0 - не болен, иначе болен (1, 2, 3)\n",
    "\n",
    "data = data.drop(['category_age', 'category_trestbps'], axis=1)\n",
    "data['num'] = data['num'].apply(lambda x: 1 if x > 0 else 0)"
   ]
  },
  {
   "cell_type": "code",
   "execution_count": 869,
   "metadata": {
    "pycharm": {
     "name": "#%%\n"
    }
   },
   "outputs": [
    {
     "name": "stdout",
     "output_type": "stream",
     "text": [
      "Числовые признаки (8): \n",
      "\n",
      "['age', 'trestbps', 'chol', 'thalch', 'exang', 'oldpeak', 'ca', 'fbs_b_int']\n"
     ]
    }
   ],
   "source": [
    "# Выведем числовые признаки\n",
    "numerical_features = data.drop(['num'], axis=1).select_dtypes(include='number').columns.tolist()\n",
    "print(f'Числовые признаки ({len(numerical_features)}):', '\\n')\n",
    "print(numerical_features)"
   ]
  },
  {
   "cell_type": "code",
   "execution_count": 870,
   "metadata": {
    "pycharm": {
     "name": "#%%\n"
    }
   },
   "outputs": [
    {
     "name": "stdout",
     "output_type": "stream",
     "text": [
      "Категориальные признаки (6): \n",
      "\n",
      "['sex', 'dataset', 'cp', 'restecg', 'slope', 'thal']\n"
     ]
    }
   ],
   "source": [
    "# Выведем категориальные признаки\n",
    "categorical_features = data.select_dtypes(exclude='number').columns.tolist()\n",
    "print(f'Категориальные признаки ({len(categorical_features)}):', '\\n')\n",
    "print(categorical_features) "
   ]
  },
  {
   "cell_type": "code",
   "execution_count": 871,
   "metadata": {
    "pycharm": {
     "name": "#%%\n"
    }
   },
   "outputs": [],
   "source": [
    "# Разобьем данные на трейновую и валидационную выборку\n",
    "features_train, features_valid, target_train, target_valid = train_test_split(\n",
    "    data.drop(['num'], axis=1), data['num'], test_size=0.4, random_state=0)"
   ]
  },
  {
   "cell_type": "code",
   "execution_count": 872,
   "metadata": {
    "pycharm": {
     "name": "#%%\n"
    }
   },
   "outputs": [],
   "source": [
    "# используем порядковое кодирования для категориальных переменных\n",
    "enc = OrdinalEncoder() \n",
    "enc.fit(features_train)\n",
    "\n",
    "features_train[categorical_features] = enc.set_params(encoded_missing_value=-1).fit_transform(features_train[categorical_features]) \n",
    "features_valid[categorical_features] = enc.set_params(encoded_missing_value=-1).fit_transform(features_valid[categorical_features])"
   ]
  },
  {
   "cell_type": "code",
   "execution_count": 873,
   "metadata": {
    "pycharm": {
     "name": "#%%\n"
    }
   },
   "outputs": [],
   "source": [
    "# приведем числовые признаки к единному формату\n",
    "scaler = StandardScaler()\n",
    "scaler.fit(features_train[numerical_features])\n",
    "\n",
    "features_train[numerical_features] = scaler.transform(features_train[numerical_features])\n",
    "features_valid[numerical_features] = scaler.transform(features_valid[numerical_features])"
   ]
  },
  {
   "cell_type": "code",
   "execution_count": 874,
   "metadata": {},
   "outputs": [
    {
     "name": "stdout",
     "output_type": "stream",
     "text": [
      "              precision    recall  f1-score   support\n",
      "\n",
      "           0       0.72      0.72      0.72       162\n",
      "           1       0.76      0.76      0.76       190\n",
      "\n",
      "    accuracy                           0.74       352\n",
      "   macro avg       0.74      0.74      0.74       352\n",
      "weighted avg       0.74      0.74      0.74       352\n",
      "\n"
     ]
    }
   ],
   "source": [
    "# Базовая модель Решающее дерево\n",
    "model = DecisionTreeClassifier(random_state=0)\n",
    "model.fit(features_train, target_train)\n",
    "\n",
    "predicted_valid = model.predict(features_valid)\n",
    "\n",
    "baseline_metrics = pd.DataFrame({\n",
    "    'Модель': ['Решающее дерево'],\n",
    "    'Recall': recall_score(target_valid, predicted_valid)\n",
    "})\n",
    "\n",
    "print(classification_report(target_valid, predicted_valid))"
   ]
  },
  {
   "cell_type": "code",
   "execution_count": 875,
   "metadata": {
    "pycharm": {
     "name": "#%%\n"
    }
   },
   "outputs": [
    {
     "name": "stdout",
     "output_type": "stream",
     "text": [
      "              precision    recall  f1-score   support\n",
      "\n",
      "           0       0.83      0.76      0.79       162\n",
      "           1       0.81      0.87      0.84       190\n",
      "\n",
      "    accuracy                           0.82       352\n",
      "   macro avg       0.82      0.81      0.82       352\n",
      "weighted avg       0.82      0.82      0.82       352\n",
      "\n"
     ]
    }
   ],
   "source": [
    "# Базовая модель Случайный лес\n",
    "model = RandomForestClassifier(random_state=0)\n",
    "model.fit(features_train, target_train)\n",
    "\n",
    "predicted_valid = model.predict(features_valid)\n",
    "\n",
    "baseline_metrics = pd.concat([baseline_metrics] + [pd.DataFrame({\n",
    "    'Модель': ['Случайный лес'],\n",
    "    'Recall': recall_score(target_valid, predicted_valid)\n",
    "})])\n",
    "\n",
    "print(classification_report(target_valid, predicted_valid))"
   ]
  },
  {
   "cell_type": "code",
   "execution_count": 876,
   "metadata": {},
   "outputs": [
    {
     "name": "stdout",
     "output_type": "stream",
     "text": [
      "              precision    recall  f1-score   support\n",
      "\n",
      "           0       0.80      0.76      0.78       162\n",
      "           1       0.80      0.84      0.82       190\n",
      "\n",
      "    accuracy                           0.80       352\n",
      "   macro avg       0.80      0.80      0.80       352\n",
      "weighted avg       0.80      0.80      0.80       352\n",
      "\n"
     ]
    }
   ],
   "source": [
    "# Базовая модель Лог. регрессия\n",
    "model = LogisticRegression(random_state=0, solver='liblinear')\n",
    "\n",
    "model.fit(features_train, target_train)\n",
    "predicted_valid = model.predict(features_valid)\n",
    "\n",
    "\n",
    "baseline_metrics = pd.concat([baseline_metrics] + [pd.DataFrame({\n",
    "    'Модель': ['Лог. регрессия'],\n",
    "    'Recall': recall_score(target_valid, predicted_valid)\n",
    "})])\n",
    "\n",
    "print(classification_report(target_valid, predicted_valid))"
   ]
  },
  {
   "cell_type": "code",
   "execution_count": 877,
   "metadata": {},
   "outputs": [
    {
     "data": {
      "image/png": "[encoded data removed]",
      "text/plain": [
       "<Figure size 1280x600 with 2 Axes>"
      ]
     },
     "metadata": {},
     "output_type": "display_data"
    }
   ],
   "source": [
    "matrix = confusion_matrix(target_valid, predicted_valid)\n",
    "\n",
    "plt.figure(figsize=(12.8,6))\n",
    "sns.heatmap(matrix, annot=True, cmap=\"Blues\", fmt=\"g\")\n",
    "plt.xlabel('Predicted'); plt.ylabel('Actual'); plt.title('Confusion Matrix')\n",
    "plt.show()"
   ]
  },
  {
   "cell_type": "markdown",
   "metadata": {
    "pycharm": {
     "name": "#%% md\n"
    }
   },
   "source": [
    "### Разработка модели ML"
   ]
  },
  {
   "cell_type": "code",
   "execution_count": 878,
   "metadata": {
    "pycharm": {
     "name": "#%%\n"
    }
   },
   "outputs": [
    {
     "name": "stderr",
     "output_type": "stream",
     "text": [
      "C:\\Temp\\ipykernel_4528\\1116144079.py:2: FutureWarning:\n",
      "\n",
      "The default value of numeric_only in DataFrame.corr is deprecated. In a future version, it will default to False. Select only valid columns or specify the value of numeric_only to silence this warning.\n",
      "\n"
     ]
    },
    {
     "data": {
      "image/png": "[encoded data removed]",
      "text/plain": [
       "<Figure size 3000x1500 with 2 Axes>"
      ]
     },
     "metadata": {},
     "output_type": "display_data"
    }
   ],
   "source": [
    "# построим матрицу корреляции\n",
    "corr_matrix = data.corr().round(2)\n",
    "sns.set(rc={\"figure.figsize\":(30, 15)}, font_scale=2)\n",
    "sns.heatmap(corr_matrix, annot = True, fmt='.2g',cmap= 'coolwarm')\n",
    "plt.show()\n"
   ]
  },
  {
   "cell_type": "markdown",
   "metadata": {
    "pycharm": {
     "name": "#%% md\n"
    }
   },
   "source": [
    "Все признаки являются значимыми для целевого признака. Посмотрим на балансировку классов."
   ]
  },
  {
   "cell_type": "code",
   "execution_count": 879,
   "metadata": {
    "pycharm": {
     "name": "#%%\n"
    }
   },
   "outputs": [
    {
     "data": {
      "image/png": "[encoded data removed]",
      "text/plain": [
       "<Figure size 3000x1500 with 1 Axes>"
      ]
     },
     "metadata": {},
     "output_type": "display_data"
    }
   ],
   "source": [
    "# построим гистограмму на 2а бина\n",
    "data['num'].hist(bins=2)\n",
    "sns.set(rc={\"figure.figsize\":(15, 15)}, font_scale=2)\n",
    "plt.show()"
   ]
  },
  {
   "cell_type": "markdown",
   "metadata": {
    "pycharm": {
     "name": "#%% md\n"
    }
   },
   "source": [
    "Присутствует небольшой дисбаланс в сторонку класса \"1\"."
   ]
  },
  {
   "cell_type": "code",
   "execution_count": 880,
   "metadata": {
    "pycharm": {
     "name": "#%%\n"
    }
   },
   "outputs": [
    {
     "name": "stdout",
     "output_type": "stream",
     "text": [
      "              precision    recall  f1-score   support\n",
      "\n",
      "           0       0.84      0.77      0.80       162\n",
      "           1       0.81      0.87      0.84       190\n",
      "\n",
      "    accuracy                           0.82       352\n",
      "   macro avg       0.83      0.82      0.82       352\n",
      "weighted avg       0.82      0.82      0.82       352\n",
      "\n"
     ]
    }
   ],
   "source": [
    "# Построим модель Случайного леса с балансировкой классов\n",
    "# используем кросс валидацию\n",
    "model = RandomForestClassifier(class_weight='balanced', random_state=0)\n",
    "\n",
    "params = {\n",
    "    'n_estimators': range(50, 175, 25),\n",
    "    'max_depth': range(8, 12)\n",
    "} \n",
    " \n",
    "gs = GridSearchCV(model, params, cv=StratifiedKFold(n_splits=6, shuffle=True, random_state=0), scoring='recall')\n",
    "\n",
    "gs.fit(features_train, target_train)\n",
    "\n",
    "predicted_valid = gs.best_estimator_.predict(features_valid)\n",
    "\n",
    "all_metrics = pd.DataFrame({\n",
    "    'Модель': ['balanced + cross_val Случайный лес'],\n",
    "    'Recall': recall_score(target_valid, predicted_valid)\n",
    "})\n",
    "\n",
    "print(classification_report(target_valid, predicted_valid))"
   ]
  },
  {
   "cell_type": "code",
   "execution_count": 881,
   "metadata": {},
   "outputs": [
    {
     "data": {
      "text/plain": [
       "<AxesSubplot: >"
      ]
     },
     "execution_count": 881,
     "metadata": {},
     "output_type": "execute_result"
    },
    {
     "data": {
      "image/png": "[encoded data removed]",
      "text/plain": [
       "<Figure size 3000x1500 with 1 Axes>"
      ]
     },
     "metadata": {},
     "output_type": "display_data"
    }
   ],
   "source": [
    "# посмотрим на важность признаков\n",
    "sns.set(rc={\"figure.figsize\":(15, 15)}, font_scale=2)\n",
    "\n",
    "feature_importances = pd.DataFrame(gs.best_estimator_.feature_importances_,\n",
    "                                       index = features_train.columns,\n",
    "                                       columns=['importance']).sort_values('importance', ascending=False)\n",
    "\n",
    "sns.set(rc={\"figure.figsize\":(30, 15)}, font_scale=2)\n",
    "feature_importances.plot(kind='bar')    "
   ]
  },
  {
   "cell_type": "code",
   "execution_count": 882,
   "metadata": {},
   "outputs": [
    {
     "data": {
      "image/png": "[encoded data removed]",
      "text/plain": [
       "<Figure size 1280x600 with 2 Axes>"
      ]
     },
     "metadata": {},
     "output_type": "display_data"
    }
   ],
   "source": [
    "matrix = confusion_matrix(target_valid, predicted_valid)\n",
    "\n",
    "plt.figure(figsize=(12.8,6))\n",
    "sns.heatmap(matrix, annot=True, cmap=\"Blues\", fmt=\"g\")\n",
    "plt.xlabel('Predicted'); plt.ylabel('Actual'); plt.title('Confusion Matrix')\n",
    "plt.show()"
   ]
  },
  {
   "cell_type": "markdown",
   "metadata": {},
   "source": [
    "Случайный лес с кросс валидацией дал результаты немного лучше (на уровне погрешности), чем базовая модель."
   ]
  },
  {
   "cell_type": "markdown",
   "metadata": {
    "pycharm": {
     "name": "#%% md\n"
    }
   },
   "source": [
    "#### Пайплайны"
   ]
  },
  {
   "cell_type": "code",
   "execution_count": 883,
   "metadata": {
    "pycharm": {
     "name": "#%%\n"
    }
   },
   "outputs": [],
   "source": [
    "# Используем датасет без предобработки\n",
    "\n",
    "data_new = pd.read_csv('heart_disease_uci.csv')\n",
    "\n",
    "data_new['num'] = data_new['num'].apply(lambda x: 1 if x > 0 else 0)\n",
    "\n",
    "features = data_new.drop(['num', 'id'], axis=1)\n",
    "target = data_new.num"
   ]
  },
  {
   "cell_type": "code",
   "execution_count": 884,
   "metadata": {
    "pycharm": {
     "name": "#%%\n"
    }
   },
   "outputs": [
    {
     "name": "stdout",
     "output_type": "stream",
     "text": [
      "Числовые признаки (6): \n",
      "\n",
      "['age', 'trestbps', 'chol', 'thalch', 'oldpeak', 'ca']\n"
     ]
    }
   ],
   "source": [
    "# Выведем числовые признаки\n",
    "numerical_features = features.select_dtypes(include='number').columns.tolist()\n",
    "print(f'Числовые признаки ({len(numerical_features)}):', '\\n')\n",
    "print(numerical_features)"
   ]
  },
  {
   "cell_type": "code",
   "execution_count": 885,
   "metadata": {
    "pycharm": {
     "name": "#%%\n"
    }
   },
   "outputs": [
    {
     "name": "stdout",
     "output_type": "stream",
     "text": [
      "Категориальные признаки (8): \n",
      "\n",
      "['sex', 'dataset', 'cp', 'fbs', 'restecg', 'exang', 'slope', 'thal']\n"
     ]
    }
   ],
   "source": [
    "# Выведем категориальные признаки\n",
    "categorical_features = features.select_dtypes(exclude='number').columns.tolist()\n",
    "print(f'Категориальные признаки ({len(categorical_features)}):', '\\n')\n",
    "print(categorical_features) "
   ]
  },
  {
   "cell_type": "code",
   "execution_count": 886,
   "metadata": {
    "pycharm": {
     "name": "#%%\n"
    }
   },
   "outputs": [],
   "source": [
    "# предобработка\n",
    "# для числовых характеристик заполнение средним и стандартизация данных\n",
    "# для категориальных заполнения по частоте и прямое кодирование\n",
    "numeric_pipeline = Pipeline(steps=[\n",
    "    ('impute', SimpleImputer(strategy='mean')),\n",
    "    ('scale', MinMaxScaler())\n",
    "])\n",
    "categorical_pipeline = Pipeline(steps=[\n",
    "    ('impute', SimpleImputer(strategy='most_frequent')),\n",
    "    ('ordinal-enc', OrdinalEncoder()),\n",
    "    #('one-hot', OneHotEncoder(handle_unknown='ignore', sparse=False))\n",
    "])"
   ]
  },
  {
   "cell_type": "code",
   "execution_count": 887,
   "metadata": {
    "pycharm": {
     "name": "#%%\n"
    }
   },
   "outputs": [
    {
     "name": "stdout",
     "output_type": "stream",
     "text": [
      "recall: 0.8447712418300654\n"
     ]
    }
   ],
   "source": [
    "# запускаем в конвеер и преобразуем\n",
    "# создаем модель Случайного леса с параметрами\n",
    "# передаем модель в пайплайн \n",
    "# в свою очередь пайплайн передаем на кросс валидацию\n",
    "\n",
    "full_processor = ColumnTransformer(transformers=[\n",
    "    ('number', numeric_pipeline, numerical_features),\n",
    "    ('category', categorical_pipeline, categorical_features)\n",
    "])\n",
    "\n",
    "full_processor.fit_transform(features)\n",
    "\n",
    "model = RandomForestClassifier(class_weight='balanced', max_depth=8, random_state=0)\n",
    "\n",
    "forest_pipeline = Pipeline(steps=[\n",
    "    ('preprocess', full_processor),\n",
    "    ('model', model)\n",
    "])\n",
    "\n",
    "gs = GridSearchCV(forest_pipeline, {}, cv=StratifiedKFold(n_splits=6, shuffle=True, random_state=0), scoring='recall')\n",
    "gs.fit(features, target)\n",
    "\n",
    "print('recall:', gs.best_score_)\n"
   ]
  },
  {
   "cell_type": "markdown",
   "metadata": {
    "pycharm": {
     "name": "#%% md\n"
    }
   },
   "source": [
    "### Общий вывод"
   ]
  },
  {
   "cell_type": "markdown",
   "metadata": {
    "pycharm": {
     "name": "#%% md\n"
    }
   },
   "source": [
    "В данном датасете присутствовали выбросы и пустые значения, а в результате анализа был составлен следующий портрет больного: \n",
    "\n",
    "* Крайне высокий рист стенокардии, возможно дальнейшее ухудшение работы сердца.\n",
    "* При стенокардии максимальная частота сердечных сокращений ниже.\n",
    "* Уровень холестерина меняется в зависимости от болезни сердца, чем диагноз сложнее, тем уровень холестерина выше. Есть так же здоровые люди, но с высоким уровнем холестерина. \n",
    "* Кровяное давление выше, чем у людей с отсутствием болезни. "
   ]
  },
  {
   "cell_type": "markdown",
   "metadata": {},
   "source": [
    "Перед построением Baseline моделей была выбрана Recall метрика, т.к нам важнее определить как можно больше больных:"
   ]
  },
  {
   "cell_type": "code",
   "execution_count": 888,
   "metadata": {},
   "outputs": [
    {
     "data": {
      "text/html": [
       "<div>\n",
       "<style scoped>\n",
       "    .dataframe tbody tr th:only-of-type {\n",
       "        vertical-align: middle;\n",
       "    }\n",
       "\n",
       "    .dataframe tbody tr th {\n",
       "        vertical-align: top;\n",
       "    }\n",
       "\n",
       "    .dataframe thead th {\n",
       "        text-align: right;\n",
       "    }\n",
       "</style>\n",
       "<table border=\"1\" class=\"dataframe\">\n",
       "  <thead>\n",
       "    <tr style=\"text-align: right;\">\n",
       "      <th></th>\n",
       "      <th>Модель</th>\n",
       "      <th>Recall</th>\n",
       "    </tr>\n",
       "  </thead>\n",
       "  <tbody>\n",
       "    <tr>\n",
       "      <th>0</th>\n",
       "      <td>Решающее дерево</td>\n",
       "      <td>0.757895</td>\n",
       "    </tr>\n",
       "    <tr>\n",
       "      <th>0</th>\n",
       "      <td>Случайный лес</td>\n",
       "      <td>0.868421</td>\n",
       "    </tr>\n",
       "    <tr>\n",
       "      <th>0</th>\n",
       "      <td>Лог. регрессия</td>\n",
       "      <td>0.836842</td>\n",
       "    </tr>\n",
       "  </tbody>\n",
       "</table>\n",
       "</div>"
      ],
      "text/plain": [
       "            Модель    Recall\n",
       "0  Решающее дерево  0.757895\n",
       "0    Случайный лес  0.868421\n",
       "0   Лог. регрессия  0.836842"
      ]
     },
     "execution_count": 888,
     "metadata": {},
     "output_type": "execute_result"
    }
   ],
   "source": [
    "# Базовые модели\n",
    "baseline_metrics"
   ]
  },
  {
   "cell_type": "markdown",
   "metadata": {},
   "source": [
    "Исходя из значений Recall выбираем лучшую базовую модель и улучшаем ее. В нашем случае Случайный лес показал наилучший результат. Улучшим данное значение кроссвалидацией и балансировкой классов."
   ]
  },
  {
   "cell_type": "code",
   "execution_count": 889,
   "metadata": {},
   "outputs": [
    {
     "data": {
      "text/html": [
       "<div>\n",
       "<style scoped>\n",
       "    .dataframe tbody tr th:only-of-type {\n",
       "        vertical-align: middle;\n",
       "    }\n",
       "\n",
       "    .dataframe tbody tr th {\n",
       "        vertical-align: top;\n",
       "    }\n",
       "\n",
       "    .dataframe thead th {\n",
       "        text-align: right;\n",
       "    }\n",
       "</style>\n",
       "<table border=\"1\" class=\"dataframe\">\n",
       "  <thead>\n",
       "    <tr style=\"text-align: right;\">\n",
       "      <th></th>\n",
       "      <th>Модель</th>\n",
       "      <th>Recall</th>\n",
       "    </tr>\n",
       "  </thead>\n",
       "  <tbody>\n",
       "    <tr>\n",
       "      <th>0</th>\n",
       "      <td>balanced + cross_val Случайный лес</td>\n",
       "      <td>0.873684</td>\n",
       "    </tr>\n",
       "  </tbody>\n",
       "</table>\n",
       "</div>"
      ],
      "text/plain": [
       "                               Модель    Recall\n",
       "0  balanced + cross_val Случайный лес  0.873684"
      ]
     },
     "execution_count": 889,
     "metadata": {},
     "output_type": "execute_result"
    }
   ],
   "source": [
    "all_metrics"
   ]
  },
  {
   "cell_type": "markdown",
   "metadata": {},
   "source": [
    "В результате допились почти 1% прироста к Recall метрике."
   ]
  },
  {
   "cell_type": "markdown",
   "metadata": {},
   "source": [
    "Так же для решения задачи использовали пайплайны с Случайным лесом и кросс валидацией, результат оказался хуже."
   ]
  },
  {
   "cell_type": "code",
   "execution_count": 890,
   "metadata": {},
   "outputs": [
    {
     "name": "stdout",
     "output_type": "stream",
     "text": [
      "Модель Случайного леса (recall): 0.8447712418300654\n"
     ]
    }
   ],
   "source": [
    "print('Модель Случайного леса (recall):', gs.best_score_)"
   ]
  }
 ],
 "metadata": {
  "kernelspec": {
   "display_name": "Python 3.11.0 64-bit",
   "language": "python",
   "name": "python3"
  },
  "language_info": {
   "codemirror_mode": {
    "name": "ipython",
    "version": 3
   },
   "file_extension": ".py",
   "mimetype": "text/x-python",
   "name": "python",
   "nbconvert_exporter": "python",
   "pygments_lexer": "ipython3",
   "version": "3.11.0"
  },
  "orig_nbformat": 4,
  "vscode": {
   "interpreter": {
    "hash": "4d7808521af2c8b1685e59759be4417dd7c4e9342d3e43f40a8e23ec8ad73eeb"
   }
  }
 },
 "nbformat": 4,
 "nbformat_minor": 2
}
